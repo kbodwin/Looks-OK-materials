{
 "cells": [
  {
   "cell_type": "code",
   "execution_count": 2,
   "metadata": {},
   "outputs": [],
   "source": [
    "import pandas as pd\n",
    "import numpy as np\n",
    "import altair as alt\n",
    "from statsmodels.stats.weightstats import ttest_ind"
   ]
  },
  {
   "cell_type": "markdown",
   "metadata": {},
   "source": [
    "## Context\n",
    "\n",
    "In the National Basketball Association (NBA), games are played between Fall and Spring each year, ending with a set of playoff games and a championship.  One \"season\" of games thus spans two calendar years. For example, the 2019-2020 season began on October 22, 2019 and will end on April 15, 2020. The playoffs will begin on April 18, 2020, and will end with the NBA Finals in June 2020.\n",
    "\n",
    "Teams in the NBA are organized into two Conferences:  East and West.  From time to time, as teams change locations or new teams are added, the conferences change.\n",
    "\n",
    "Players join the NBA by being *drafted*, typically when they are 18 years old."
   ]
  },
  {
   "cell_type": "markdown",
   "metadata": {},
   "source": [
    "## This dataset\n",
    "\n",
    "The dataset in this exam contains information about the \"Player of the Week\", awarded each week to the player(s) who performed the best during that week's games. \n",
    "\n",
    "Each observation in this dataset represents an instance of a certain player being awarded Player of the Week.\n",
    "\n",
    "The variables in this dataset are:\n",
    "\n",
    "![](./documentation.png)"
   ]
  },
  {
   "cell_type": "code",
   "execution_count": 3,
   "metadata": {},
   "outputs": [],
   "source": [
    "nba = pd.read_csv('./NBA_player_of_the_week.csv')"
   ]
  },
  {
   "cell_type": "markdown",
   "metadata": {},
   "source": [
    "# Data Cleaning and Adjusting\n",
    "\n",
    "## Heights and Weights\n",
    "\n",
    "Notice that the `Height` variable sometimes has numbers, and sometimes has the letters \"cm\" after it.  Similarly, the `Weight` variable sometimes has the letters \"kg\" after it. We need to fix this to make theses variables numeric."
   ]
  },
  {
   "cell_type": "code",
   "execution_count": 6,
   "metadata": {},
   "outputs": [],
   "source": [
    "# Version A\n",
    "nba = nba.assign(\n",
    "    Height = pd.to_numeric(nba['Height'].str.replace('cm','').str.replace('-','')),\n",
    "    Weight = pd.to_numeric(nba['Weight'].str.replace('kg',''))\n",
    ")"
   ]
  },
  {
   "cell_type": "markdown",
   "metadata": {},
   "source": [
    "## Heights and Weights\n",
    "\n",
    "Notice that the `Height` variable is sometimes recorded in inches (\"5-9\"), and sometimes recorded in centimeters (\"221cm\").  Similarly, the `Weight` variable is in pounds by default, but sometimes appears in kilograms. \n",
    "\n",
    "We need to fix these variables to be consistently in inches and in pounds."
   ]
  },
  {
   "cell_type": "code",
   "execution_count": 7,
   "metadata": {},
   "outputs": [],
   "source": [
    "# Version B & C\n",
    "def fix_height(height):\n",
    "    \n",
    "    if 'cm' in height: #swap cm to inches\n",
    "        return int(height.replace('cm',''))*0.394\n",
    "    else: #swap feet-inches to inches\n",
    "        values = height.split('-')\n",
    "        return int(values[0])*12+int(values[1])\n",
    "    \n",
    "def fix_weight(weight):\n",
    "    if 'kg' in weight: #swap to pounds\n",
    "        return int(weight.replace('kg',''))*2.2\n",
    "    else:\n",
    "        return int(weight)*2.2"
   ]
  },
  {
   "cell_type": "code",
   "execution_count": 8,
   "metadata": {},
   "outputs": [
    {
     "ename": "TypeError",
     "evalue": "argument of type 'int' is not iterable",
     "output_type": "error",
     "traceback": [
      "\u001b[0;31m---------------------------------------------------------------------------\u001b[0m",
      "\u001b[0;31mTypeError\u001b[0m                                 Traceback (most recent call last)",
      "\u001b[0;32m<ipython-input-8-4de8b5e210f7>\u001b[0m in \u001b[0;36m<module>\u001b[0;34m\u001b[0m\n\u001b[1;32m      1\u001b[0m \u001b[0;31m# Version B & C\u001b[0m\u001b[0;34m\u001b[0m\u001b[0;34m\u001b[0m\u001b[0;34m\u001b[0m\u001b[0m\n\u001b[1;32m      2\u001b[0m nba = nba.assign(\n\u001b[0;32m----> 3\u001b[0;31m     \u001b[0mHeight\u001b[0m \u001b[0;34m=\u001b[0m \u001b[0mnba\u001b[0m\u001b[0;34m[\u001b[0m\u001b[0;34m'Height'\u001b[0m\u001b[0;34m]\u001b[0m\u001b[0;34m.\u001b[0m\u001b[0mapply\u001b[0m\u001b[0;34m(\u001b[0m\u001b[0mfix_height\u001b[0m\u001b[0;34m)\u001b[0m\u001b[0;34m,\u001b[0m\u001b[0;34m\u001b[0m\u001b[0;34m\u001b[0m\u001b[0m\n\u001b[0m\u001b[1;32m      4\u001b[0m     \u001b[0mWeight\u001b[0m \u001b[0;34m=\u001b[0m \u001b[0mnba\u001b[0m\u001b[0;34m[\u001b[0m\u001b[0;34m'Weight'\u001b[0m\u001b[0;34m]\u001b[0m\u001b[0;34m.\u001b[0m\u001b[0mapply\u001b[0m\u001b[0;34m(\u001b[0m\u001b[0mfix_weight\u001b[0m\u001b[0;34m)\u001b[0m\u001b[0;34m\u001b[0m\u001b[0;34m\u001b[0m\u001b[0m\n\u001b[1;32m      5\u001b[0m )\n",
      "\u001b[0;32m~/miniconda3/lib/python3.7/site-packages/pandas/core/series.py\u001b[0m in \u001b[0;36mapply\u001b[0;34m(self, func, convert_dtype, args, **kwds)\u001b[0m\n\u001b[1;32m   3846\u001b[0m             \u001b[0;32melse\u001b[0m\u001b[0;34m:\u001b[0m\u001b[0;34m\u001b[0m\u001b[0;34m\u001b[0m\u001b[0m\n\u001b[1;32m   3847\u001b[0m                 \u001b[0mvalues\u001b[0m \u001b[0;34m=\u001b[0m \u001b[0mself\u001b[0m\u001b[0;34m.\u001b[0m\u001b[0mastype\u001b[0m\u001b[0;34m(\u001b[0m\u001b[0mobject\u001b[0m\u001b[0;34m)\u001b[0m\u001b[0;34m.\u001b[0m\u001b[0mvalues\u001b[0m\u001b[0;34m\u001b[0m\u001b[0;34m\u001b[0m\u001b[0m\n\u001b[0;32m-> 3848\u001b[0;31m                 \u001b[0mmapped\u001b[0m \u001b[0;34m=\u001b[0m \u001b[0mlib\u001b[0m\u001b[0;34m.\u001b[0m\u001b[0mmap_infer\u001b[0m\u001b[0;34m(\u001b[0m\u001b[0mvalues\u001b[0m\u001b[0;34m,\u001b[0m \u001b[0mf\u001b[0m\u001b[0;34m,\u001b[0m \u001b[0mconvert\u001b[0m\u001b[0;34m=\u001b[0m\u001b[0mconvert_dtype\u001b[0m\u001b[0;34m)\u001b[0m\u001b[0;34m\u001b[0m\u001b[0;34m\u001b[0m\u001b[0m\n\u001b[0m\u001b[1;32m   3849\u001b[0m \u001b[0;34m\u001b[0m\u001b[0m\n\u001b[1;32m   3850\u001b[0m         \u001b[0;32mif\u001b[0m \u001b[0mlen\u001b[0m\u001b[0;34m(\u001b[0m\u001b[0mmapped\u001b[0m\u001b[0;34m)\u001b[0m \u001b[0;32mand\u001b[0m \u001b[0misinstance\u001b[0m\u001b[0;34m(\u001b[0m\u001b[0mmapped\u001b[0m\u001b[0;34m[\u001b[0m\u001b[0;36m0\u001b[0m\u001b[0;34m]\u001b[0m\u001b[0;34m,\u001b[0m \u001b[0mSeries\u001b[0m\u001b[0;34m)\u001b[0m\u001b[0;34m:\u001b[0m\u001b[0;34m\u001b[0m\u001b[0;34m\u001b[0m\u001b[0m\n",
      "\u001b[0;32mpandas/_libs/lib.pyx\u001b[0m in \u001b[0;36mpandas._libs.lib.map_infer\u001b[0;34m()\u001b[0m\n",
      "\u001b[0;32m<ipython-input-7-2fc059436526>\u001b[0m in \u001b[0;36mfix_height\u001b[0;34m(height)\u001b[0m\n\u001b[1;32m      2\u001b[0m \u001b[0;32mdef\u001b[0m \u001b[0mfix_height\u001b[0m\u001b[0;34m(\u001b[0m\u001b[0mheight\u001b[0m\u001b[0;34m)\u001b[0m\u001b[0;34m:\u001b[0m\u001b[0;34m\u001b[0m\u001b[0;34m\u001b[0m\u001b[0m\n\u001b[1;32m      3\u001b[0m \u001b[0;34m\u001b[0m\u001b[0m\n\u001b[0;32m----> 4\u001b[0;31m     \u001b[0;32mif\u001b[0m \u001b[0;34m'cm'\u001b[0m \u001b[0;32min\u001b[0m \u001b[0mheight\u001b[0m\u001b[0;34m:\u001b[0m \u001b[0;31m#swap cm to inches\u001b[0m\u001b[0;34m\u001b[0m\u001b[0;34m\u001b[0m\u001b[0m\n\u001b[0m\u001b[1;32m      5\u001b[0m         \u001b[0;32mreturn\u001b[0m \u001b[0mint\u001b[0m\u001b[0;34m(\u001b[0m\u001b[0mheight\u001b[0m\u001b[0;34m.\u001b[0m\u001b[0mreplace\u001b[0m\u001b[0;34m(\u001b[0m\u001b[0;34m'cm'\u001b[0m\u001b[0;34m,\u001b[0m\u001b[0;34m''\u001b[0m\u001b[0;34m)\u001b[0m\u001b[0;34m)\u001b[0m\u001b[0;34m*\u001b[0m\u001b[0;36m0.394\u001b[0m\u001b[0;34m\u001b[0m\u001b[0;34m\u001b[0m\u001b[0m\n\u001b[1;32m      6\u001b[0m     \u001b[0;32melse\u001b[0m\u001b[0;34m:\u001b[0m \u001b[0;31m#swap feet-inches to inches\u001b[0m\u001b[0;34m\u001b[0m\u001b[0;34m\u001b[0m\u001b[0m\n",
      "\u001b[0;31mTypeError\u001b[0m: argument of type 'int' is not iterable"
     ]
    }
   ],
   "source": [
    "# Version B & C\n",
    "nba = nba.assign(\n",
    "    Height = nba['Height'].apply(fix_height),\n",
    "    Weight = nba['Weight'].apply(fix_weight)\n",
    ")"
   ]
  },
  {
   "cell_type": "markdown",
   "metadata": {},
   "source": [
    "# Player summaries\n",
    "\n",
    "Number of unique players who have won \"Player of the Week\" in the timespan covered by this dataset:"
   ]
  },
  {
   "cell_type": "code",
   "execution_count": 9,
   "metadata": {},
   "outputs": [
    {
     "data": {
      "text/plain": [
       "Player    274\n",
       "dtype: int64"
      ]
     },
     "execution_count": 9,
     "metadata": {},
     "output_type": "execute_result"
    }
   ],
   "source": [
    "nba[['Player']].drop_duplicates().count()"
   ]
  },
  {
   "cell_type": "markdown",
   "metadata": {},
   "source": [
    "The teams that have had a player win the award the most times are:"
   ]
  },
  {
   "cell_type": "code",
   "execution_count": 10,
   "metadata": {},
   "outputs": [
    {
     "data": {
      "text/plain": [
       "Los Angeles Lakers     71\n",
       "San Antonio Spurs      61\n",
       "Cleveland Cavaliers    59\n",
       "Name: Team, dtype: int64"
      ]
     },
     "execution_count": 10,
     "metadata": {},
     "output_type": "execute_result"
    }
   ],
   "source": [
    "nba['Team'].value_counts().nlargest(3)"
   ]
  },
  {
   "cell_type": "code",
   "execution_count": 11,
   "metadata": {},
   "outputs": [
    {
     "data": {
      "text/plain": [
       "LeBron James    61\n",
       "Kobe Bryant     33\n",
       "Kevin Durant    26\n",
       "Name: Player, dtype: int64"
      ]
     },
     "execution_count": 11,
     "metadata": {},
     "output_type": "execute_result"
    }
   ],
   "source": [
    "nba['Player'].value_counts().nlargest(3)"
   ]
  },
  {
   "cell_type": "markdown",
   "metadata": {},
   "source": [
    "# Positions and size\n",
    "\n",
    "Basketball players play in \"guard\" positions (PG, SG, G) or \"forward\" positions (F, C, F-C, FC, G-F, GF, PF, SF).  It is generally expected that forwards are much taller than guards.  We will use the players in this dataset to analyze size differences between these positions."
   ]
  },
  {
   "cell_type": "markdown",
   "metadata": {},
   "source": [
    "## Unique players\n",
    "\n",
    "We need to narrow down the dataset so that each unique player only appears once.  Since heights and weights are sometimes changing over the years, we will use the median measurement for each unique player."
   ]
  },
  {
   "cell_type": "code",
   "execution_count": 9,
   "metadata": {},
   "outputs": [],
   "source": [
    "# Version C\n",
    "nba = nba.groupby('Player').agg(\n",
    "    Height=('Height', 'median'),\n",
    "    Weight=('Weight', 'median'),\n",
    "    Position=('Position', 'first')\n",
    ")"
   ]
  },
  {
   "cell_type": "code",
   "execution_count": 10,
   "metadata": {},
   "outputs": [
    {
     "data": {
      "text/html": [
       "<div>\n",
       "<style scoped>\n",
       "    .dataframe tbody tr th:only-of-type {\n",
       "        vertical-align: middle;\n",
       "    }\n",
       "\n",
       "    .dataframe tbody tr th {\n",
       "        vertical-align: top;\n",
       "    }\n",
       "\n",
       "    .dataframe thead th {\n",
       "        text-align: right;\n",
       "    }\n",
       "</style>\n",
       "<table border=\"1\" class=\"dataframe\">\n",
       "  <thead>\n",
       "    <tr style=\"text-align: right;\">\n",
       "      <th></th>\n",
       "      <th>Height</th>\n",
       "      <th>Weight</th>\n",
       "      <th>Position</th>\n",
       "    </tr>\n",
       "    <tr>\n",
       "      <th>Player</th>\n",
       "      <th></th>\n",
       "      <th></th>\n",
       "      <th></th>\n",
       "    </tr>\n",
       "  </thead>\n",
       "  <tbody>\n",
       "    <tr>\n",
       "      <th>Aaron McKie</th>\n",
       "      <td>77.0</td>\n",
       "      <td>459.8</td>\n",
       "      <td>G</td>\n",
       "    </tr>\n",
       "    <tr>\n",
       "      <th>Adrian Dantley</th>\n",
       "      <td>77.0</td>\n",
       "      <td>457.6</td>\n",
       "      <td>SF</td>\n",
       "    </tr>\n",
       "    <tr>\n",
       "      <th>Al Harrington</th>\n",
       "      <td>81.0</td>\n",
       "      <td>539.0</td>\n",
       "      <td>F</td>\n",
       "    </tr>\n",
       "    <tr>\n",
       "      <th>Al Horford</th>\n",
       "      <td>82.0</td>\n",
       "      <td>539.0</td>\n",
       "      <td>FC</td>\n",
       "    </tr>\n",
       "    <tr>\n",
       "      <th>Al Jefferson</th>\n",
       "      <td>82.0</td>\n",
       "      <td>635.8</td>\n",
       "      <td>FC</td>\n",
       "    </tr>\n",
       "    <tr>\n",
       "      <th>...</th>\n",
       "      <td>...</td>\n",
       "      <td>...</td>\n",
       "      <td>...</td>\n",
       "    </tr>\n",
       "    <tr>\n",
       "      <th>World B. Free</th>\n",
       "      <td>74.0</td>\n",
       "      <td>407.0</td>\n",
       "      <td>G</td>\n",
       "    </tr>\n",
       "    <tr>\n",
       "      <th>Xavier McDaniel</th>\n",
       "      <td>79.0</td>\n",
       "      <td>451.0</td>\n",
       "      <td>PF</td>\n",
       "    </tr>\n",
       "    <tr>\n",
       "      <th>Yao Ming</th>\n",
       "      <td>90.0</td>\n",
       "      <td>682.0</td>\n",
       "      <td>C</td>\n",
       "    </tr>\n",
       "    <tr>\n",
       "      <th>Zach Randolph</th>\n",
       "      <td>81.0</td>\n",
       "      <td>572.0</td>\n",
       "      <td>PF</td>\n",
       "    </tr>\n",
       "    <tr>\n",
       "      <th>Zydrunas Ilgauskas</th>\n",
       "      <td>87.0</td>\n",
       "      <td>572.0</td>\n",
       "      <td>C</td>\n",
       "    </tr>\n",
       "  </tbody>\n",
       "</table>\n",
       "<p>274 rows × 3 columns</p>\n",
       "</div>"
      ],
      "text/plain": [
       "                    Height  Weight Position\n",
       "Player                                     \n",
       "Aaron McKie           77.0   459.8        G\n",
       "Adrian Dantley        77.0   457.6       SF\n",
       "Al Harrington         81.0   539.0        F\n",
       "Al Horford            82.0   539.0       FC\n",
       "Al Jefferson          82.0   635.8       FC\n",
       "...                    ...     ...      ...\n",
       "World B. Free         74.0   407.0        G\n",
       "Xavier McDaniel       79.0   451.0       PF\n",
       "Yao Ming              90.0   682.0        C\n",
       "Zach Randolph         81.0   572.0       PF\n",
       "Zydrunas Ilgauskas    87.0   572.0        C\n",
       "\n",
       "[274 rows x 3 columns]"
      ]
     },
     "execution_count": 10,
     "metadata": {},
     "output_type": "execute_result"
    }
   ],
   "source": [
    "# Version B\n",
    "nba.groupby('Player').agg(\n",
    "    Height=('Height', 'median'),\n",
    "    Weight=('Weight', 'median'),\n",
    "    Position=('Position', 'first')\n",
    ")"
   ]
  },
  {
   "cell_type": "markdown",
   "metadata": {},
   "source": [
    "## Refactoring position variable\n",
    "\n",
    "We will create a new variable that identifies each player as simply a Guard or a Forward."
   ]
  },
  {
   "cell_type": "code",
   "execution_count": 11,
   "metadata": {},
   "outputs": [
    {
     "data": {
      "text/html": [
       "<div>\n",
       "<style scoped>\n",
       "    .dataframe tbody tr th:only-of-type {\n",
       "        vertical-align: middle;\n",
       "    }\n",
       "\n",
       "    .dataframe tbody tr th {\n",
       "        vertical-align: top;\n",
       "    }\n",
       "\n",
       "    .dataframe thead th {\n",
       "        text-align: right;\n",
       "    }\n",
       "</style>\n",
       "<table border=\"1\" class=\"dataframe\">\n",
       "  <thead>\n",
       "    <tr style=\"text-align: right;\">\n",
       "      <th></th>\n",
       "      <th>Height</th>\n",
       "      <th>Weight</th>\n",
       "      <th>Position</th>\n",
       "      <th>Position_GF</th>\n",
       "    </tr>\n",
       "    <tr>\n",
       "      <th>Player</th>\n",
       "      <th></th>\n",
       "      <th></th>\n",
       "      <th></th>\n",
       "      <th></th>\n",
       "    </tr>\n",
       "  </thead>\n",
       "  <tbody>\n",
       "    <tr>\n",
       "      <th>Aaron McKie</th>\n",
       "      <td>77.0</td>\n",
       "      <td>459.8</td>\n",
       "      <td>G</td>\n",
       "      <td>Guard</td>\n",
       "    </tr>\n",
       "    <tr>\n",
       "      <th>Adrian Dantley</th>\n",
       "      <td>77.0</td>\n",
       "      <td>457.6</td>\n",
       "      <td>SF</td>\n",
       "      <td>Forward</td>\n",
       "    </tr>\n",
       "    <tr>\n",
       "      <th>Al Harrington</th>\n",
       "      <td>81.0</td>\n",
       "      <td>539.0</td>\n",
       "      <td>F</td>\n",
       "      <td>Forward</td>\n",
       "    </tr>\n",
       "    <tr>\n",
       "      <th>Al Horford</th>\n",
       "      <td>82.0</td>\n",
       "      <td>539.0</td>\n",
       "      <td>FC</td>\n",
       "      <td>Forward</td>\n",
       "    </tr>\n",
       "    <tr>\n",
       "      <th>Al Jefferson</th>\n",
       "      <td>82.0</td>\n",
       "      <td>635.8</td>\n",
       "      <td>FC</td>\n",
       "      <td>Forward</td>\n",
       "    </tr>\n",
       "    <tr>\n",
       "      <th>...</th>\n",
       "      <td>...</td>\n",
       "      <td>...</td>\n",
       "      <td>...</td>\n",
       "      <td>...</td>\n",
       "    </tr>\n",
       "    <tr>\n",
       "      <th>World B. Free</th>\n",
       "      <td>74.0</td>\n",
       "      <td>407.0</td>\n",
       "      <td>G</td>\n",
       "      <td>Guard</td>\n",
       "    </tr>\n",
       "    <tr>\n",
       "      <th>Xavier McDaniel</th>\n",
       "      <td>79.0</td>\n",
       "      <td>451.0</td>\n",
       "      <td>PF</td>\n",
       "      <td>Forward</td>\n",
       "    </tr>\n",
       "    <tr>\n",
       "      <th>Yao Ming</th>\n",
       "      <td>90.0</td>\n",
       "      <td>682.0</td>\n",
       "      <td>C</td>\n",
       "      <td>None</td>\n",
       "    </tr>\n",
       "    <tr>\n",
       "      <th>Zach Randolph</th>\n",
       "      <td>81.0</td>\n",
       "      <td>572.0</td>\n",
       "      <td>PF</td>\n",
       "      <td>Forward</td>\n",
       "    </tr>\n",
       "    <tr>\n",
       "      <th>Zydrunas Ilgauskas</th>\n",
       "      <td>87.0</td>\n",
       "      <td>572.0</td>\n",
       "      <td>C</td>\n",
       "      <td>None</td>\n",
       "    </tr>\n",
       "  </tbody>\n",
       "</table>\n",
       "<p>274 rows × 4 columns</p>\n",
       "</div>"
      ],
      "text/plain": [
       "                    Height  Weight Position Position_GF\n",
       "Player                                                 \n",
       "Aaron McKie           77.0   459.8        G       Guard\n",
       "Adrian Dantley        77.0   457.6       SF     Forward\n",
       "Al Harrington         81.0   539.0        F     Forward\n",
       "Al Horford            82.0   539.0       FC     Forward\n",
       "Al Jefferson          82.0   635.8       FC     Forward\n",
       "...                    ...     ...      ...         ...\n",
       "World B. Free         74.0   407.0        G       Guard\n",
       "Xavier McDaniel       79.0   451.0       PF     Forward\n",
       "Yao Ming              90.0   682.0        C        None\n",
       "Zach Randolph         81.0   572.0       PF     Forward\n",
       "Zydrunas Ilgauskas    87.0   572.0        C        None\n",
       "\n",
       "[274 rows x 4 columns]"
      ]
     },
     "execution_count": 11,
     "metadata": {},
     "output_type": "execute_result"
    }
   ],
   "source": [
    "# Version A\n",
    "conditions = [\n",
    "    nba['Position'].str.contains('G'),\n",
    "    nba['Position'].str.contains('F')\n",
    "]\n",
    "\n",
    "choices = [\n",
    "    'Guard',\n",
    "    'Forward'\n",
    "]\n",
    "\n",
    "nba = nba.assign(\n",
    "    Position_GF = np.select(conditions, choices, None)\n",
    ")\n",
    "nba"
   ]
  },
  {
   "cell_type": "code",
   "execution_count": 12,
   "metadata": {},
   "outputs": [
    {
     "data": {
      "text/html": [
       "<div>\n",
       "<style scoped>\n",
       "    .dataframe tbody tr th:only-of-type {\n",
       "        vertical-align: middle;\n",
       "    }\n",
       "\n",
       "    .dataframe tbody tr th {\n",
       "        vertical-align: top;\n",
       "    }\n",
       "\n",
       "    .dataframe thead th {\n",
       "        text-align: right;\n",
       "    }\n",
       "</style>\n",
       "<table border=\"1\" class=\"dataframe\">\n",
       "  <thead>\n",
       "    <tr style=\"text-align: right;\">\n",
       "      <th></th>\n",
       "      <th>Height</th>\n",
       "      <th>Weight</th>\n",
       "      <th>Position</th>\n",
       "      <th>Position_GF</th>\n",
       "    </tr>\n",
       "    <tr>\n",
       "      <th>Player</th>\n",
       "      <th></th>\n",
       "      <th></th>\n",
       "      <th></th>\n",
       "      <th></th>\n",
       "    </tr>\n",
       "  </thead>\n",
       "  <tbody>\n",
       "    <tr>\n",
       "      <th>Aaron McKie</th>\n",
       "      <td>77.0</td>\n",
       "      <td>459.8</td>\n",
       "      <td>G</td>\n",
       "      <td>Guard</td>\n",
       "    </tr>\n",
       "    <tr>\n",
       "      <th>Adrian Dantley</th>\n",
       "      <td>77.0</td>\n",
       "      <td>457.6</td>\n",
       "      <td>SF</td>\n",
       "      <td>Forward</td>\n",
       "    </tr>\n",
       "    <tr>\n",
       "      <th>Al Harrington</th>\n",
       "      <td>81.0</td>\n",
       "      <td>539.0</td>\n",
       "      <td>F</td>\n",
       "      <td>Forward</td>\n",
       "    </tr>\n",
       "    <tr>\n",
       "      <th>Al Horford</th>\n",
       "      <td>82.0</td>\n",
       "      <td>539.0</td>\n",
       "      <td>FC</td>\n",
       "      <td>Forward</td>\n",
       "    </tr>\n",
       "    <tr>\n",
       "      <th>Al Jefferson</th>\n",
       "      <td>82.0</td>\n",
       "      <td>635.8</td>\n",
       "      <td>FC</td>\n",
       "      <td>Forward</td>\n",
       "    </tr>\n",
       "    <tr>\n",
       "      <th>...</th>\n",
       "      <td>...</td>\n",
       "      <td>...</td>\n",
       "      <td>...</td>\n",
       "      <td>...</td>\n",
       "    </tr>\n",
       "    <tr>\n",
       "      <th>World B. Free</th>\n",
       "      <td>74.0</td>\n",
       "      <td>407.0</td>\n",
       "      <td>G</td>\n",
       "      <td>Guard</td>\n",
       "    </tr>\n",
       "    <tr>\n",
       "      <th>Xavier McDaniel</th>\n",
       "      <td>79.0</td>\n",
       "      <td>451.0</td>\n",
       "      <td>PF</td>\n",
       "      <td>Forward</td>\n",
       "    </tr>\n",
       "    <tr>\n",
       "      <th>Yao Ming</th>\n",
       "      <td>90.0</td>\n",
       "      <td>682.0</td>\n",
       "      <td>C</td>\n",
       "      <td>Forward</td>\n",
       "    </tr>\n",
       "    <tr>\n",
       "      <th>Zach Randolph</th>\n",
       "      <td>81.0</td>\n",
       "      <td>572.0</td>\n",
       "      <td>PF</td>\n",
       "      <td>Forward</td>\n",
       "    </tr>\n",
       "    <tr>\n",
       "      <th>Zydrunas Ilgauskas</th>\n",
       "      <td>87.0</td>\n",
       "      <td>572.0</td>\n",
       "      <td>C</td>\n",
       "      <td>Forward</td>\n",
       "    </tr>\n",
       "  </tbody>\n",
       "</table>\n",
       "<p>274 rows × 4 columns</p>\n",
       "</div>"
      ],
      "text/plain": [
       "                    Height  Weight Position Position_GF\n",
       "Player                                                 \n",
       "Aaron McKie           77.0   459.8        G       Guard\n",
       "Adrian Dantley        77.0   457.6       SF     Forward\n",
       "Al Harrington         81.0   539.0        F     Forward\n",
       "Al Horford            82.0   539.0       FC     Forward\n",
       "Al Jefferson          82.0   635.8       FC     Forward\n",
       "...                    ...     ...      ...         ...\n",
       "World B. Free         74.0   407.0        G       Guard\n",
       "Xavier McDaniel       79.0   451.0       PF     Forward\n",
       "Yao Ming              90.0   682.0        C     Forward\n",
       "Zach Randolph         81.0   572.0       PF     Forward\n",
       "Zydrunas Ilgauskas    87.0   572.0        C     Forward\n",
       "\n",
       "[274 rows x 4 columns]"
      ]
     },
     "execution_count": 12,
     "metadata": {},
     "output_type": "execute_result"
    }
   ],
   "source": [
    "# Version B & C\n",
    "conditions = [\n",
    "    nba['Position'].str.contains('PG|SG|G'),\n",
    "    nba['Position'].str.contains('F|C|F-C|FC|G-F|GF|PF|SF'),\n",
    "]\n",
    "\n",
    "choices = [\n",
    "    'Guard',\n",
    "    'Forward'\n",
    "]\n",
    "\n",
    "nba = nba.assign(\n",
    "    Position_GF = np.select(conditions, choices, None)\n",
    ")\n",
    "nba"
   ]
  },
  {
   "cell_type": "markdown",
   "metadata": {},
   "source": [
    "## Comparing Heights\n",
    "\n",
    "The following plots show the heights and weights of players, separated by position."
   ]
  },
  {
   "cell_type": "code",
   "execution_count": 13,
   "metadata": {},
   "outputs": [
    {
     "data": {
      "text/html": [
       "\n",
       "<div id=\"altair-viz-7eb967384f604f6abcf7cb9e2090e9e1\"></div>\n",
       "<script type=\"text/javascript\">\n",
       "  (function(spec, embedOpt){\n",
       "    let outputDiv = document.currentScript.previousElementSibling;\n",
       "    if (outputDiv.id !== \"altair-viz-7eb967384f604f6abcf7cb9e2090e9e1\") {\n",
       "      outputDiv = document.getElementById(\"altair-viz-7eb967384f604f6abcf7cb9e2090e9e1\");\n",
       "    }\n",
       "    const paths = {\n",
       "      \"vega\": \"https://cdn.jsdelivr.net/npm//vega@5?noext\",\n",
       "      \"vega-lib\": \"https://cdn.jsdelivr.net/npm//vega-lib?noext\",\n",
       "      \"vega-lite\": \"https://cdn.jsdelivr.net/npm//vega-lite@4.8.1?noext\",\n",
       "      \"vega-embed\": \"https://cdn.jsdelivr.net/npm//vega-embed@6?noext\",\n",
       "    };\n",
       "\n",
       "    function loadScript(lib) {\n",
       "      return new Promise(function(resolve, reject) {\n",
       "        var s = document.createElement('script');\n",
       "        s.src = paths[lib];\n",
       "        s.async = true;\n",
       "        s.onload = () => resolve(paths[lib]);\n",
       "        s.onerror = () => reject(`Error loading script: ${paths[lib]}`);\n",
       "        document.getElementsByTagName(\"head\")[0].appendChild(s);\n",
       "      });\n",
       "    }\n",
       "\n",
       "    function showError(err) {\n",
       "      outputDiv.innerHTML = `<div class=\"error\" style=\"color:red;\">${err}</div>`;\n",
       "      throw err;\n",
       "    }\n",
       "\n",
       "    function displayChart(vegaEmbed) {\n",
       "      vegaEmbed(outputDiv, spec, embedOpt)\n",
       "        .catch(err => showError(`Javascript Error: ${err.message}<br>This usually means there's a typo in your chart specification. See the javascript console for the full traceback.`));\n",
       "    }\n",
       "\n",
       "    if(typeof define === \"function\" && define.amd) {\n",
       "      requirejs.config({paths});\n",
       "      require([\"vega-embed\"], displayChart, err => showError(`Error loading script: ${err.message}`));\n",
       "    } else if (typeof vegaEmbed === \"function\") {\n",
       "      displayChart(vegaEmbed);\n",
       "    } else {\n",
       "      loadScript(\"vega\")\n",
       "        .then(() => loadScript(\"vega-lite\"))\n",
       "        .then(() => loadScript(\"vega-embed\"))\n",
       "        .catch(showError)\n",
       "        .then(() => displayChart(vegaEmbed));\n",
       "    }\n",
       "  })({\"config\": {\"view\": {\"continuousWidth\": 400, \"continuousHeight\": 300}}, \"data\": {\"name\": \"data-c026105d3c7e6726333173eb37882f52\"}, \"mark\": \"boxplot\", \"encoding\": {\"x\": {\"type\": \"nominal\", \"axis\": {\"title\": \"Position\"}, \"field\": \"Position_GF\"}, \"y\": {\"type\": \"quantitative\", \"field\": \"Height\"}}, \"$schema\": \"https://vega.github.io/schema/vega-lite/v4.8.1.json\", \"datasets\": {\"data-c026105d3c7e6726333173eb37882f52\": [{\"Height\": 77.0, \"Weight\": 459.8, \"Position\": \"G\", \"Position_GF\": \"Guard\"}, {\"Height\": 77.0, \"Weight\": 457.6, \"Position\": \"SF\", \"Position_GF\": \"Forward\"}, {\"Height\": 81.0, \"Weight\": 539.0, \"Position\": \"F\", \"Position_GF\": \"Forward\"}, {\"Height\": 82.0, \"Weight\": 539.0, \"Position\": \"FC\", \"Position_GF\": \"Forward\"}, {\"Height\": 82.0, \"Weight\": 635.8000000000001, \"Position\": \"FC\", \"Position_GF\": \"Forward\"}, {\"Height\": 79.0, \"Weight\": 418.00000000000006, \"Position\": \"SF\", \"Position_GF\": \"Forward\"}, {\"Height\": 78.0, \"Weight\": 451.00000000000006, \"Position\": \"G\", \"Position_GF\": \"Guard\"}, {\"Height\": 72.0, \"Weight\": 363.00000000000006, \"Position\": \"G\", \"Position_GF\": \"Guard\"}, {\"Height\": 82.0, \"Weight\": 528.0, \"Position\": \"C\", \"Position_GF\": \"Forward\"}, {\"Height\": 75.0, \"Weight\": 407.00000000000006, \"Position\": \"SG\", \"Position_GF\": \"Guard\"}, {\"Height\": 82.0, \"Weight\": 539.0, \"Position\": \"FC\", \"Position_GF\": \"Forward\"}, {\"Height\": 83.0, \"Weight\": 613.8000000000001, \"Position\": \"C\", \"Position_GF\": \"Forward\"}, {\"Height\": 75.0, \"Weight\": 440.00000000000006, \"Position\": \"PG\", \"Position_GF\": \"Guard\"}, {\"Height\": 81.0, \"Weight\": 517.0, \"Position\": \"PF\", \"Position_GF\": \"Forward\"}, {\"Height\": 84.0, \"Weight\": 572.0, \"Position\": \"C\", \"Position_GF\": \"Forward\"}, {\"Height\": 84.0, \"Weight\": 627.0, \"Position\": \"C\", \"Position_GF\": \"Forward\"}, {\"Height\": 81.0, \"Weight\": 517.0, \"Position\": \"F\", \"Position_GF\": \"Forward\"}, {\"Height\": 81.952, \"Weight\": 253.00000000000003, \"Position\": \"PF\", \"Position_GF\": \"Forward\"}, {\"Height\": 81.0, \"Weight\": 583.0, \"Position\": \"F\", \"Position_GF\": \"Forward\"}, {\"Height\": 81.0, \"Weight\": 539.0, \"Position\": \"F\", \"Position_GF\": \"Forward\"}, {\"Height\": 81.0, \"Weight\": 506.00000000000006, \"Position\": \"PF\", \"Position_GF\": \"Forward\"}, {\"Height\": 87.0, \"Weight\": 613.8000000000001, \"Position\": \"C\", \"Position_GF\": \"Forward\"}, {\"Height\": 75.0, \"Weight\": 473.00000000000006, \"Position\": \"G\", \"Position_GF\": \"Guard\"}, {\"Height\": 75.0, \"Weight\": 440.00000000000006, \"Position\": \"SG\", \"Position_GF\": \"Guard\"}, {\"Height\": 81.952, \"Weight\": 228.8, \"Position\": \"PF\", \"Position_GF\": \"Forward\"}, {\"Height\": 81.0, \"Weight\": 528.0, \"Position\": \"FC\", \"Position_GF\": \"Forward\"}, {\"Height\": 79.0, \"Weight\": 451.00000000000006, \"Position\": \"SF\", \"Position_GF\": \"Forward\"}, {\"Height\": 82.0, \"Weight\": 552.2, \"Position\": \"PF\", \"Position_GF\": \"Forward\"}, {\"Height\": 78.0, \"Weight\": 418.00000000000006, \"Position\": \"SG\", \"Position_GF\": \"Guard\"}, {\"Height\": 84.0, \"Weight\": 539.0, \"Position\": \"C\", \"Position_GF\": \"Forward\"}, {\"Height\": 84.0, \"Weight\": 574.2, \"Position\": \"C\", \"Position_GF\": \"Forward\"}, {\"Height\": 77.224, \"Weight\": 206.8, \"Position\": \"SG\", \"Position_GF\": \"Guard\"}, {\"Height\": 73.0, \"Weight\": 374.00000000000006, \"Position\": \"G\", \"Position_GF\": \"Guard\"}, {\"Height\": 78.0, \"Weight\": 464.20000000000005, \"Position\": \"G\", \"Position_GF\": \"Guard\"}, {\"Height\": 84.0, \"Weight\": 589.6, \"Position\": \"C\", \"Position_GF\": \"Forward\"}, {\"Height\": 79.0, \"Weight\": 440.00000000000006, \"Position\": \"F\", \"Position_GF\": \"Forward\"}, {\"Height\": 80.0, \"Weight\": 473.00000000000006, \"Position\": \"PF\", \"Position_GF\": \"Forward\"}, {\"Height\": 75.0, \"Weight\": 429.00000000000006, \"Position\": \"SG\", \"Position_GF\": \"Guard\"}, {\"Height\": 78.0, \"Weight\": 484.00000000000006, \"Position\": \"F\", \"Position_GF\": \"Forward\"}, {\"Height\": 81.0, \"Weight\": 585.2, \"Position\": \"PF\", \"Position_GF\": \"Forward\"}, {\"Height\": 80.0, \"Weight\": 528.0, \"Position\": \"F\", \"Position_GF\": \"Forward\"}, {\"Height\": 79.0, \"Weight\": 501.6, \"Position\": \"SF\", \"Position_GF\": \"Forward\"}, {\"Height\": 78.0, \"Weight\": 418.00000000000006, \"Position\": \"SF\", \"Position_GF\": \"Forward\"}, {\"Height\": 78.0, \"Weight\": 554.4000000000001, \"Position\": \"PF\", \"Position_GF\": \"Forward\"}, {\"Height\": 75.0, \"Weight\": 462.00000000000006, \"Position\": \"G\", \"Position_GF\": \"Guard\"}, {\"Height\": 83.0, \"Weight\": 517.0, \"Position\": \"PF\", \"Position_GF\": \"Forward\"}, {\"Height\": 82.0, \"Weight\": 484.00000000000006, \"Position\": \"PF\", \"Position_GF\": \"Forward\"}, {\"Height\": 84.0, \"Weight\": 583.0, \"Position\": \"C\", \"Position_GF\": \"Forward\"}, {\"Height\": 79.0, \"Weight\": 473.00000000000006, \"Position\": \"SF\", \"Position_GF\": \"Forward\"}, {\"Height\": 72.0, \"Weight\": 385.00000000000006, \"Position\": \"PG\", \"Position_GF\": \"Guard\"}, {\"Height\": 81.0, \"Weight\": 539.0, \"Position\": \"F-C\", \"Position_GF\": \"Forward\"}, {\"Height\": 82.0, \"Weight\": 517.0, \"Position\": \"FC\", \"Position_GF\": \"Forward\"}, {\"Height\": 80.0, \"Weight\": 484.00000000000006, \"Position\": \"SF\", \"Position_GF\": \"Forward\"}, {\"Height\": 82.0, \"Weight\": 495.00000000000006, \"Position\": \"PF\", \"Position_GF\": \"Forward\"}, {\"Height\": 79.0, \"Weight\": 462.00000000000006, \"Position\": \"SG\", \"Position_GF\": \"Guard\"}, {\"Height\": 76.0, \"Weight\": 418.00000000000006, \"Position\": \"G\", \"Position_GF\": \"Guard\"}, {\"Height\": 79.0, \"Weight\": 451.00000000000006, \"Position\": \"GF\", \"Position_GF\": \"Guard\"}, {\"Height\": 75.254, \"Weight\": 193.60000000000002, \"Position\": \"G\", \"Position_GF\": \"Guard\"}, {\"Height\": 81.0, \"Weight\": 488.40000000000003, \"Position\": \"GF\", \"Position_GF\": \"Guard\"}, {\"Height\": 82.0, \"Weight\": 506.00000000000006, \"Position\": \"F\", \"Position_GF\": \"Forward\"}, {\"Height\": 72.0, \"Weight\": 374.00000000000006, \"Position\": \"PG\", \"Position_GF\": \"Guard\"}, {\"Height\": 76.0, \"Weight\": 418.00000000000006, \"Position\": \"SG\", \"Position_GF\": \"Guard\"}, {\"Height\": 81.0, \"Weight\": 539.0, \"Position\": \"FC\", \"Position_GF\": \"Forward\"}, {\"Height\": 85.0, \"Weight\": 550.0, \"Position\": \"C\", \"Position_GF\": \"Forward\"}, {\"Height\": 81.0, \"Weight\": 550.0, \"Position\": \"PF\", \"Position_GF\": \"Forward\"}, {\"Height\": 79.194, \"Weight\": 220.00000000000003, \"Position\": \"GF\", \"Position_GF\": \"Guard\"}, {\"Height\": 83.0, \"Weight\": 594.0, \"Position\": \"C\", \"Position_GF\": \"Forward\"}, {\"Height\": 79.0, \"Weight\": 462.00000000000006, \"Position\": \"PF\", \"Position_GF\": \"Forward\"}, {\"Height\": 80.0, \"Weight\": 503.80000000000007, \"Position\": \"SF\", \"Position_GF\": \"Forward\"}, {\"Height\": 77.0, \"Weight\": 426.8, \"Position\": \"G\", \"Position_GF\": \"Guard\"}, {\"Height\": 78.0, \"Weight\": 451.00000000000006, \"Position\": \"SG\", \"Position_GF\": \"Guard\"}, {\"Height\": 75.0, \"Weight\": 440.00000000000006, \"Position\": \"PG\", \"Position_GF\": \"Guard\"}, {\"Height\": 75.0, \"Weight\": 418.00000000000006, \"Position\": \"PG\", \"Position_GF\": \"Guard\"}, {\"Height\": 75.0, \"Weight\": 407.00000000000006, \"Position\": \"G\", \"Position_GF\": \"Guard\"}, {\"Height\": 86.0, \"Weight\": 572.0, \"Position\": \"C\", \"Position_GF\": \"Forward\"}, {\"Height\": 76.042, \"Weight\": 220.00000000000003, \"Position\": \"SG\", \"Position_GF\": \"Guard\"}, {\"Height\": 84.0, \"Weight\": 539.0, \"Position\": \"PF\", \"Position_GF\": \"Forward\"}, {\"Height\": 79.0, \"Weight\": 440.00000000000006, \"Position\": \"SF\", \"Position_GF\": \"Forward\"}, {\"Height\": 79.0, \"Weight\": 506.00000000000006, \"Position\": \"F\", \"Position_GF\": \"Forward\"}, {\"Height\": 77.0, \"Weight\": 440.00000000000006, \"Position\": \"SG\", \"Position_GF\": \"Guard\"}, {\"Height\": 82.0, \"Weight\": 550.0, \"Position\": \"FC\", \"Position_GF\": \"Forward\"}, {\"Height\": 83.0, \"Weight\": 583.0, \"Position\": \"C\", \"Position_GF\": \"Forward\"}, {\"Height\": 76.0, \"Weight\": 484.00000000000006, \"Position\": \"SG\", \"Position_GF\": \"Guard\"}, {\"Height\": 78.0, \"Weight\": 440.00000000000006, \"Position\": \"G-F\", \"Position_GF\": \"Guard\"}, {\"Height\": 72.0, \"Weight\": 330.0, \"Position\": \"PG\", \"Position_GF\": \"Guard\"}, {\"Height\": 81.0, \"Weight\": 558.8000000000001, \"Position\": \"PF\", \"Position_GF\": \"Forward\"}, {\"Height\": 82.0, \"Weight\": 517.0, \"Position\": \"F\", \"Position_GF\": \"Forward\"}, {\"Height\": 75.0, \"Weight\": 374.00000000000006, \"Position\": \"PG\", \"Position_GF\": \"Guard\"}, {\"Height\": 76.0, \"Weight\": 396.00000000000006, \"Position\": \"G\", \"Position_GF\": \"Guard\"}, {\"Height\": 75.254, \"Weight\": 187.00000000000003, \"Position\": \"G\", \"Position_GF\": \"Guard\"}, {\"Height\": 79.0, \"Weight\": 484.00000000000006, \"Position\": \"F\", \"Position_GF\": \"Forward\"}, {\"Height\": 78.0, \"Weight\": 407.00000000000006, \"Position\": \"SG\", \"Position_GF\": \"Guard\"}, {\"Height\": 83.134, \"Weight\": 222.20000000000002, \"Position\": \"F\", \"Position_GF\": \"Forward\"}, {\"Height\": 75.0, \"Weight\": 420.20000000000005, \"Position\": \"G\", \"Position_GF\": \"Guard\"}, {\"Height\": 80.0, \"Weight\": 501.6, \"Position\": \"SF\", \"Position_GF\": \"Forward\"}, {\"Height\": 79.0, \"Weight\": 495.00000000000006, \"Position\": \"SF\", \"Position_GF\": \"Forward\"}, {\"Height\": 75.12700000000001, \"Weight\": 303.6, \"Position\": \"G\", \"Position_GF\": \"Guard\"}, {\"Height\": 79.982, \"Weight\": 224.4, \"Position\": \"GF\", \"Position_GF\": \"Guard\"}, {\"Height\": 80.0, \"Weight\": 495.00000000000006, \"Position\": \"SF\", \"Position_GF\": \"Forward\"}, {\"Height\": 78.0, \"Weight\": 477.40000000000003, \"Position\": \"G\", \"Position_GF\": \"Guard\"}, {\"Height\": 84.0, \"Weight\": 561.0, \"Position\": \"C\", \"Position_GF\": \"Forward\"}, {\"Height\": 79.0, \"Weight\": 462.00000000000006, \"Position\": \"GF\", \"Position_GF\": \"Guard\"}, {\"Height\": 83.922, \"Weight\": 264.0, \"Position\": \"C\", \"Position_GF\": \"Forward\"}, {\"Height\": 82.0, \"Weight\": 484.00000000000006, \"Position\": \"F\", \"Position_GF\": \"Forward\"}, {\"Height\": 82.0, \"Weight\": 532.4000000000001, \"Position\": \"C\", \"Position_GF\": \"Forward\"}, {\"Height\": 83.0, \"Weight\": 473.00000000000006, \"Position\": \"FC\", \"Position_GF\": \"Forward\"}, {\"Height\": 69.0, \"Weight\": 407.00000000000006, \"Position\": \"PG\", \"Position_GF\": \"Guard\"}, {\"Height\": 73.0, \"Weight\": 396.00000000000006, \"Position\": \"PG\", \"Position_GF\": \"Guard\"}, {\"Height\": 72.0, \"Weight\": 407.00000000000006, \"Position\": \"G\", \"Position_GF\": \"Guard\"}, {\"Height\": 78.0, \"Weight\": 495.00000000000006, \"Position\": \"SG\", \"Position_GF\": \"Guard\"}, {\"Height\": 83.0, \"Weight\": 506.00000000000006, \"Position\": \"C\", \"Position_GF\": \"Forward\"}, {\"Height\": 80.0, \"Weight\": 462.00000000000006, \"Position\": \"G\", \"Position_GF\": \"Guard\"}, {\"Height\": 83.0, \"Weight\": 569.8000000000001, \"Position\": \"C\", \"Position_GF\": \"Forward\"}, {\"Height\": 77.0, \"Weight\": 429.00000000000006, \"Position\": \"SG\", \"Position_GF\": \"Guard\"}, {\"Height\": 80.0, \"Weight\": 543.4000000000001, \"Position\": \"SF\", \"Position_GF\": \"Forward\"}, {\"Height\": 72.0, \"Weight\": 418.00000000000006, \"Position\": \"G\", \"Position_GF\": \"Guard\"}, {\"Height\": 77.112, \"Weight\": 352.00000000000006, \"Position\": \"SG\", \"Position_GF\": \"Guard\"}, {\"Height\": 81.0, \"Weight\": 572.0, \"Position\": \"C\", \"Position_GF\": \"Forward\"}, {\"Height\": 76.0, \"Weight\": 462.00000000000006, \"Position\": \"PG\", \"Position_GF\": \"Guard\"}, {\"Height\": 78.0, \"Weight\": 495.00000000000006, \"Position\": \"GF\", \"Position_GF\": \"Guard\"}, {\"Height\": 74.0, \"Weight\": 407.00000000000006, \"Position\": \"G\", \"Position_GF\": \"Guard\"}, {\"Height\": 82.0, \"Weight\": 539.0, \"Position\": \"FC\", \"Position_GF\": \"Forward\"}, {\"Height\": 76.0, \"Weight\": 451.00000000000006, \"Position\": \"SG\", \"Position_GF\": \"Guard\"}, {\"Height\": 82.0, \"Weight\": 528.0, \"Position\": \"C\", \"Position_GF\": \"Forward\"}, {\"Height\": 74.0, \"Weight\": 409.20000000000005, \"Position\": \"PG\", \"Position_GF\": \"Guard\"}, {\"Height\": 75.0, \"Weight\": 440.00000000000006, \"Position\": \"G\", \"Position_GF\": \"Guard\"}, {\"Height\": 83.0, \"Weight\": 517.0, \"Position\": \"FC\", \"Position_GF\": \"Forward\"}, {\"Height\": 78.0, \"Weight\": 479.6, \"Position\": \"SF\", \"Position_GF\": \"Forward\"}, {\"Height\": 79.194, \"Weight\": 231.00000000000003, \"Position\": \"GF\", \"Position_GF\": \"Guard\"}, {\"Height\": 75.0, \"Weight\": 418.00000000000006, \"Position\": \"SG\", \"Position_GF\": \"Guard\"}, {\"Height\": 79.0, \"Weight\": 528.0, \"Position\": \"SG\", \"Position_GF\": \"Guard\"}, {\"Height\": 83.922, \"Weight\": 248.60000000000002, \"Position\": \"C\", \"Position_GF\": \"Forward\"}, {\"Height\": 73.0, \"Weight\": 374.00000000000006, \"Position\": \"PG\", \"Position_GF\": \"Guard\"}, {\"Height\": 76.0, \"Weight\": 462.00000000000006, \"Position\": \"PG\", \"Position_GF\": \"Guard\"}, {\"Height\": 77.0, \"Weight\": 429.00000000000006, \"Position\": \"G\", \"Position_GF\": \"Guard\"}, {\"Height\": 79.0, \"Weight\": 462.00000000000006, \"Position\": \"GF\", \"Position_GF\": \"Guard\"}, {\"Height\": 81.0, \"Weight\": 495.00000000000006, \"Position\": \"PF\", \"Position_GF\": \"Forward\"}, {\"Height\": 78.0, \"Weight\": 440.00000000000006, \"Position\": \"SF\", \"Position_GF\": \"Forward\"}, {\"Height\": 81.0, \"Weight\": 528.0, \"Position\": \"PF\", \"Position_GF\": \"Forward\"}, {\"Height\": 86.0, \"Weight\": 495.00000000000006, \"Position\": \"C\", \"Position_GF\": \"Forward\"}, {\"Height\": 81.0, \"Weight\": 583.0, \"Position\": \"PF\", \"Position_GF\": \"Forward\"}, {\"Height\": 83.922, \"Weight\": 244.20000000000002, \"Position\": \"C\", \"Position_GF\": \"Forward\"}, {\"Height\": 79.09700000000001, \"Weight\": 367.40000000000003, \"Position\": \"F\", \"Position_GF\": \"Forward\"}, {\"Height\": 73.0, \"Weight\": 404.8, \"Position\": \"G\", \"Position_GF\": \"Guard\"}, {\"Height\": 80.0, \"Weight\": 501.6, \"Position\": \"F\", \"Position_GF\": \"Forward\"}, {\"Height\": 72.0, \"Weight\": 369.6, \"Position\": \"PG\", \"Position_GF\": \"Guard\"}, {\"Height\": 75.0, \"Weight\": 374.00000000000006, \"Position\": \"PG\", \"Position_GF\": \"Guard\"}, {\"Height\": 81.0, \"Weight\": 528.0, \"Position\": \"F\", \"Position_GF\": \"Forward\"}, {\"Height\": 81.0, \"Weight\": 528.0, \"Position\": \"SF\", \"Position_GF\": \"Forward\"}, {\"Height\": 83.0, \"Weight\": 528.0, \"Position\": \"PF\", \"Position_GF\": \"Forward\"}, {\"Height\": 73.0, \"Weight\": 396.00000000000006, \"Position\": \"PG\", \"Position_GF\": \"Guard\"}, {\"Height\": 82.0, \"Weight\": 552.2, \"Position\": \"FC\", \"Position_GF\": \"Forward\"}, {\"Height\": 79.0, \"Weight\": 437.8, \"Position\": \"SG\", \"Position_GF\": \"Guard\"}, {\"Height\": 84.0, \"Weight\": 539.0, \"Position\": \"C\", \"Position_GF\": \"Forward\"}, {\"Height\": 79.982, \"Weight\": 233.20000000000002, \"Position\": \"SF\", \"Position_GF\": \"Forward\"}, {\"Height\": 79.0, \"Weight\": 473.00000000000006, \"Position\": \"G\", \"Position_GF\": \"Guard\"}, {\"Height\": 78.0, \"Weight\": 466.40000000000003, \"Position\": \"SG\", \"Position_GF\": \"Guard\"}, {\"Height\": 87.074, \"Weight\": 239.8, \"Position\": \"FC\", \"Position_GF\": \"Forward\"}, {\"Height\": 81.0, \"Weight\": 528.0, \"Position\": \"FC\", \"Position_GF\": \"Forward\"}, {\"Height\": 73.0, \"Weight\": 431.20000000000005, \"Position\": \"PG\", \"Position_GF\": \"Guard\"}, {\"Height\": 75.0, \"Weight\": 424.6, \"Position\": \"G\", \"Position_GF\": \"Guard\"}, {\"Height\": 83.0, \"Weight\": 572.0, \"Position\": \"FC\", \"Position_GF\": \"Forward\"}, {\"Height\": 82.0, \"Weight\": 506.00000000000006, \"Position\": \"PF\", \"Position_GF\": \"Forward\"}, {\"Height\": 81.0, \"Weight\": 484.00000000000006, \"Position\": \"SF\", \"Position_GF\": \"Forward\"}, {\"Height\": 77.0, \"Weight\": 404.8, \"Position\": \"G\", \"Position_GF\": \"Guard\"}, {\"Height\": 78.0, \"Weight\": 550.0, \"Position\": \"F\", \"Position_GF\": \"Forward\"}, {\"Height\": 82.0, \"Weight\": 451.00000000000006, \"Position\": \"PF\", \"Position_GF\": \"Forward\"}, {\"Height\": 80.0, \"Weight\": 473.00000000000006, \"Position\": \"PF\", \"Position_GF\": \"Forward\"}, {\"Height\": 80.0, \"Weight\": 550.0, \"Position\": \"F\", \"Position_GF\": \"Forward\"}, {\"Height\": 79.0, \"Weight\": 462.00000000000006, \"Position\": \"SF\", \"Position_GF\": \"Forward\"}, {\"Height\": 72.89, \"Weight\": 173.8, \"Position\": \"G\", \"Position_GF\": \"Guard\"}, {\"Height\": 81.0, \"Weight\": 506.00000000000006, \"Position\": \"PF\", \"Position_GF\": \"Forward\"}, {\"Height\": 77.0, \"Weight\": 418.00000000000006, \"Position\": \"SG\", \"Position_GF\": \"Guard\"}, {\"Height\": 81.0, \"Weight\": 561.0, \"Position\": \"PG\", \"Position_GF\": \"Guard\"}, {\"Height\": 78.0, \"Weight\": 451.00000000000006, \"Position\": \"SG\", \"Position_GF\": \"Guard\"}, {\"Height\": 85.05199999999999, \"Weight\": 408.1, \"Position\": \"C\", \"Position_GF\": \"Forward\"}, {\"Height\": 83.0, \"Weight\": 528.0, \"Position\": \"FC\", \"Position_GF\": \"Forward\"}, {\"Height\": 83.0, \"Weight\": 528.0, \"Position\": \"C\", \"Position_GF\": \"Forward\"}, {\"Height\": 78.0, \"Weight\": 510.40000000000003, \"Position\": \"SF\", \"Position_GF\": \"Forward\"}, {\"Height\": 73.0, \"Weight\": 396.00000000000006, \"Position\": \"PG\", \"Position_GF\": \"Guard\"}, {\"Height\": 82.0, \"Weight\": 539.0, \"Position\": \"PF\", \"Position_GF\": \"Forward\"}, {\"Height\": 83.0, \"Weight\": 547.8000000000001, \"Position\": \"FC\", \"Position_GF\": \"Forward\"}, {\"Height\": 79.0, \"Weight\": 572.0, \"Position\": \"SF\", \"Position_GF\": \"Forward\"}, {\"Height\": 70.0, \"Weight\": 358.6, \"Position\": \"PG\", \"Position_GF\": \"Guard\"}, {\"Height\": 78.0, \"Weight\": 418.00000000000006, \"Position\": \"PG\", \"Position_GF\": \"Guard\"}, {\"Height\": 79.0, \"Weight\": 495.00000000000006, \"Position\": \"G-F\", \"Position_GF\": \"Guard\"}, {\"Height\": 78.0, \"Weight\": 473.00000000000006, \"Position\": \"SG\", \"Position_GF\": \"Guard\"}, {\"Height\": 78.0, \"Weight\": 484.00000000000006, \"Position\": \"G\", \"Position_GF\": \"Guard\"}, {\"Height\": 77.0, \"Weight\": 415.8, \"Position\": \"PG\", \"Position_GF\": \"Guard\"}, {\"Height\": 74.0, \"Weight\": 429.00000000000006, \"Position\": \"G\", \"Position_GF\": \"Guard\"}, {\"Height\": 74.0, \"Weight\": 413.6, \"Position\": \"G\", \"Position_GF\": \"Guard\"}, {\"Height\": 77.0, \"Weight\": 473.00000000000006, \"Position\": \"SG\", \"Position_GF\": \"Guard\"}, {\"Height\": 73.0, \"Weight\": 435.6, \"Position\": \"G\", \"Position_GF\": \"Guard\"}, {\"Height\": 75.0, \"Weight\": 407.00000000000006, \"Position\": \"G\", \"Position_GF\": \"Guard\"}, {\"Height\": 73.0, \"Weight\": 418.00000000000006, \"Position\": \"PG\", \"Position_GF\": \"Guard\"}, {\"Height\": 82.0, \"Weight\": 473.00000000000006, \"Position\": \"C\", \"Position_GF\": \"Forward\"}, {\"Height\": 69.0, \"Weight\": 396.00000000000006, \"Position\": \"G\", \"Position_GF\": \"Guard\"}, {\"Height\": 78.0, \"Weight\": 501.6, \"Position\": \"GF\", \"Position_GF\": \"Guard\"}, {\"Height\": 80.0, \"Weight\": 440.00000000000006, \"Position\": \"F\", \"Position_GF\": \"Forward\"}, {\"Height\": 81.952, \"Weight\": 248.60000000000002, \"Position\": \"C\", \"Position_GF\": \"Forward\"}, {\"Height\": 83.0, \"Weight\": 675.4000000000001, \"Position\": \"PF\", \"Position_GF\": \"Forward\"}, {\"Height\": 84.0, \"Weight\": 572.0, \"Position\": \"PF\", \"Position_GF\": \"Forward\"}, {\"Height\": 81.0, \"Weight\": 616.0, \"Position\": \"C\", \"Position_GF\": \"Forward\"}, {\"Height\": 81.0, \"Weight\": 473.00000000000006, \"Position\": \"PF\", \"Position_GF\": \"Forward\"}, {\"Height\": 81.0, \"Weight\": 495.00000000000006, \"Position\": \"PF\", \"Position_GF\": \"Forward\"}, {\"Height\": 84.0, \"Weight\": 528.0, \"Position\": \"C\", \"Position_GF\": \"Forward\"}, {\"Height\": 84.0, \"Weight\": 550.0, \"Position\": \"FC\", \"Position_GF\": \"Forward\"}, {\"Height\": 81.0, \"Weight\": 484.00000000000006, \"Position\": \"GF\", \"Position_GF\": \"Guard\"}, {\"Height\": 80.0, \"Weight\": 541.2, \"Position\": \"FC\", \"Position_GF\": \"Forward\"}, {\"Height\": 79.0, \"Weight\": 517.0, \"Position\": \"SF\", \"Position_GF\": \"Forward\"}, {\"Height\": 82.0, \"Weight\": 503.80000000000007, \"Position\": \"F\", \"Position_GF\": \"Forward\"}, {\"Height\": 79.0, \"Weight\": 429.00000000000006, \"Position\": \"PG\", \"Position_GF\": \"Guard\"}, {\"Height\": 81.0, \"Weight\": 462.00000000000006, \"Position\": \"C\", \"Position_GF\": \"Forward\"}, {\"Height\": 78.0, \"Weight\": 490.6, \"Position\": \"GF\", \"Position_GF\": \"Guard\"}, {\"Height\": 73.0, \"Weight\": 409.20000000000005, \"Position\": \"PG\", \"Position_GF\": \"Guard\"}, {\"Height\": 82.0, \"Weight\": 517.0, \"Position\": \"F\", \"Position_GF\": \"Forward\"}, {\"Height\": 83.0, \"Weight\": 506.00000000000006, \"Position\": \"FC\", \"Position_GF\": \"Forward\"}, {\"Height\": 77.0, \"Weight\": 451.00000000000006, \"Position\": \"SG\", \"Position_GF\": \"Guard\"}, {\"Height\": 75.0, \"Weight\": 457.6, \"Position\": \"G\", \"Position_GF\": \"Guard\"}, {\"Height\": 79.0, \"Weight\": 429.00000000000006, \"Position\": \"SF\", \"Position_GF\": \"Forward\"}, {\"Height\": 79.0, \"Weight\": 407.00000000000006, \"Position\": \"SG\", \"Position_GF\": \"Guard\"}, {\"Height\": 79.0, \"Weight\": 424.6, \"Position\": \"SG\", \"Position_GF\": \"Guard\"}, {\"Height\": 79.0, \"Weight\": 512.6, \"Position\": \"SF\", \"Position_GF\": \"Forward\"}, {\"Height\": 76.0, \"Weight\": 451.00000000000006, \"Position\": \"SG\", \"Position_GF\": \"Guard\"}, {\"Height\": 88.0, \"Weight\": 550.0, \"Position\": \"C\", \"Position_GF\": \"Forward\"}, {\"Height\": 84.0, \"Weight\": 506.00000000000006, \"Position\": \"C\", \"Position_GF\": \"Forward\"}, {\"Height\": 75.0, \"Weight\": 385.00000000000006, \"Position\": \"PG\", \"Position_GF\": \"Guard\"}, {\"Height\": 77.0, \"Weight\": 451.00000000000006, \"Position\": \"G\", \"Position_GF\": \"Guard\"}, {\"Height\": 78.0, \"Weight\": 407.00000000000006, \"Position\": \"SG\", \"Position_GF\": \"Guard\"}, {\"Height\": 83.0, \"Weight\": 506.00000000000006, \"Position\": \"C\", \"Position_GF\": \"Forward\"}, {\"Height\": 83.0, \"Weight\": 506.00000000000006, \"Position\": \"PF\", \"Position_GF\": \"Forward\"}, {\"Height\": 74.0, \"Weight\": 429.00000000000006, \"Position\": \"PG\", \"Position_GF\": \"Guard\"}, {\"Height\": 75.0, \"Weight\": 440.00000000000006, \"Position\": \"G\", \"Position_GF\": \"Guard\"}, {\"Height\": 75.0, \"Weight\": 407.00000000000006, \"Position\": \"G\", \"Position_GF\": \"Guard\"}, {\"Height\": 73.0, \"Weight\": 396.00000000000006, \"Position\": \"PG\", \"Position_GF\": \"Guard\"}, {\"Height\": 80.0, \"Weight\": 501.6, \"Position\": \"SF\", \"Position_GF\": \"Forward\"}, {\"Height\": 80.0, \"Weight\": 451.00000000000006, \"Position\": \"SF\", \"Position_GF\": \"Forward\"}, {\"Height\": 85.0, \"Weight\": 715.0000000000001, \"Position\": \"C\", \"Position_GF\": \"Forward\"}, {\"Height\": 81.0, \"Weight\": 495.00000000000006, \"Position\": \"F\", \"Position_GF\": \"Forward\"}, {\"Height\": 82.0, \"Weight\": 616.0, \"Position\": \"C\", \"Position_GF\": \"Forward\"}, {\"Height\": 79.0, \"Weight\": 501.6, \"Position\": \"F\", \"Position_GF\": \"Forward\"}, {\"Height\": 75.0, \"Weight\": 396.00000000000006, \"Position\": \"SG\", \"Position_GF\": \"Guard\"}, {\"Height\": 75.0, \"Weight\": 374.00000000000006, \"Position\": \"PG\", \"Position_GF\": \"Guard\"}, {\"Height\": 75.0, \"Weight\": 418.00000000000006, \"Position\": \"G\", \"Position_GF\": \"Guard\"}, {\"Height\": 80.0, \"Weight\": 484.00000000000006, \"Position\": \"GF\", \"Position_GF\": \"Guard\"}, {\"Height\": 74.0, \"Weight\": 396.00000000000006, \"Position\": \"G\", \"Position_GF\": \"Guard\"}, {\"Height\": 75.0, \"Weight\": 429.00000000000006, \"Position\": \"G\", \"Position_GF\": \"Guard\"}, {\"Height\": 75.0, \"Weight\": 391.6, \"Position\": \"G\", \"Position_GF\": \"Guard\"}, {\"Height\": 79.0, \"Weight\": 440.00000000000006, \"Position\": \"SG\", \"Position_GF\": \"Guard\"}, {\"Height\": 72.0, \"Weight\": 363.00000000000006, \"Position\": \"PG\", \"Position_GF\": \"Guard\"}, {\"Height\": 71.0, \"Weight\": 396.00000000000006, \"Position\": \"PG\", \"Position_GF\": \"Guard\"}, {\"Height\": 81.0, \"Weight\": 484.00000000000006, \"Position\": \"PF\", \"Position_GF\": \"Forward\"}, {\"Height\": 82.0, \"Weight\": 506.00000000000006, \"Position\": \"PF\", \"Position_GF\": \"Forward\"}, {\"Height\": 77.0, \"Weight\": 429.00000000000006, \"Position\": \"SG\", \"Position_GF\": \"Guard\"}, {\"Height\": 80.0, \"Weight\": 486.20000000000005, \"Position\": \"F\", \"Position_GF\": \"Forward\"}, {\"Height\": 83.0, \"Weight\": 550.0, \"Position\": \"FC\", \"Position_GF\": \"Forward\"}, {\"Height\": 72.0, \"Weight\": 385.00000000000006, \"Position\": \"PG\", \"Position_GF\": \"Guard\"}, {\"Height\": 81.164, \"Weight\": 235.4, \"Position\": \"F\", \"Position_GF\": \"Forward\"}, {\"Height\": 82.0, \"Weight\": 484.00000000000006, \"Position\": \"PF\", \"Position_GF\": \"Forward\"}, {\"Height\": 83.0, \"Weight\": 473.00000000000006, \"Position\": \"PF\", \"Position_GF\": \"Forward\"}, {\"Height\": 74.0, \"Weight\": 407.00000000000006, \"Position\": \"G\", \"Position_GF\": \"Guard\"}, {\"Height\": 80.0, \"Weight\": 462.00000000000006, \"Position\": \"GF\", \"Position_GF\": \"Guard\"}, {\"Height\": 71.0, \"Weight\": 429.00000000000006, \"Position\": \"PG\", \"Position_GF\": \"Guard\"}, {\"Height\": 77.0, \"Weight\": 407.00000000000006, \"Position\": \"G\", \"Position_GF\": \"Guard\"}, {\"Height\": 76.042, \"Weight\": 209.00000000000003, \"Position\": \"G\", \"Position_GF\": \"Guard\"}, {\"Height\": 78.0, \"Weight\": 484.00000000000006, \"Position\": \"SF\", \"Position_GF\": \"Forward\"}, {\"Height\": 85.0, \"Weight\": 572.0, \"Position\": \"C\", \"Position_GF\": \"Forward\"}, {\"Height\": 76.0, \"Weight\": 451.00000000000006, \"Position\": \"SG\", \"Position_GF\": \"Guard\"}, {\"Height\": 78.0, \"Weight\": 429.00000000000006, \"Position\": \"SG\", \"Position_GF\": \"Guard\"}, {\"Height\": 74.0, \"Weight\": 407.00000000000006, \"Position\": \"G\", \"Position_GF\": \"Guard\"}, {\"Height\": 79.0, \"Weight\": 451.00000000000006, \"Position\": \"PF\", \"Position_GF\": \"Forward\"}, {\"Height\": 90.0, \"Weight\": 682.0, \"Position\": \"C\", \"Position_GF\": \"Forward\"}, {\"Height\": 81.0, \"Weight\": 572.0, \"Position\": \"PF\", \"Position_GF\": \"Forward\"}, {\"Height\": 87.0, \"Weight\": 572.0, \"Position\": \"C\", \"Position_GF\": \"Forward\"}]}}, {\"mode\": \"vega-lite\"});\n",
       "</script>"
      ],
      "text/plain": [
       "alt.Chart(...)"
      ]
     },
     "execution_count": 13,
     "metadata": {},
     "output_type": "execute_result"
    }
   ],
   "source": [
    "# Version B & C\n",
    "chart = alt.Chart(nba).mark_boxplot().encode(\n",
    "    x=alt.X('Position_GF', axis=alt.Axis(title='Position')),\n",
    "    y=alt.Y('Height')\n",
    ")\n",
    "chart"
   ]
  },
  {
   "cell_type": "code",
   "execution_count": 14,
   "metadata": {},
   "outputs": [
    {
     "data": {
      "text/html": [
       "\n",
       "<div id=\"altair-viz-5dc03843bb2e4cac83642b88e0b733f5\"></div>\n",
       "<script type=\"text/javascript\">\n",
       "  (function(spec, embedOpt){\n",
       "    let outputDiv = document.currentScript.previousElementSibling;\n",
       "    if (outputDiv.id !== \"altair-viz-5dc03843bb2e4cac83642b88e0b733f5\") {\n",
       "      outputDiv = document.getElementById(\"altair-viz-5dc03843bb2e4cac83642b88e0b733f5\");\n",
       "    }\n",
       "    const paths = {\n",
       "      \"vega\": \"https://cdn.jsdelivr.net/npm//vega@5?noext\",\n",
       "      \"vega-lib\": \"https://cdn.jsdelivr.net/npm//vega-lib?noext\",\n",
       "      \"vega-lite\": \"https://cdn.jsdelivr.net/npm//vega-lite@4.8.1?noext\",\n",
       "      \"vega-embed\": \"https://cdn.jsdelivr.net/npm//vega-embed@6?noext\",\n",
       "    };\n",
       "\n",
       "    function loadScript(lib) {\n",
       "      return new Promise(function(resolve, reject) {\n",
       "        var s = document.createElement('script');\n",
       "        s.src = paths[lib];\n",
       "        s.async = true;\n",
       "        s.onload = () => resolve(paths[lib]);\n",
       "        s.onerror = () => reject(`Error loading script: ${paths[lib]}`);\n",
       "        document.getElementsByTagName(\"head\")[0].appendChild(s);\n",
       "      });\n",
       "    }\n",
       "\n",
       "    function showError(err) {\n",
       "      outputDiv.innerHTML = `<div class=\"error\" style=\"color:red;\">${err}</div>`;\n",
       "      throw err;\n",
       "    }\n",
       "\n",
       "    function displayChart(vegaEmbed) {\n",
       "      vegaEmbed(outputDiv, spec, embedOpt)\n",
       "        .catch(err => showError(`Javascript Error: ${err.message}<br>This usually means there's a typo in your chart specification. See the javascript console for the full traceback.`));\n",
       "    }\n",
       "\n",
       "    if(typeof define === \"function\" && define.amd) {\n",
       "      requirejs.config({paths});\n",
       "      require([\"vega-embed\"], displayChart, err => showError(`Error loading script: ${err.message}`));\n",
       "    } else if (typeof vegaEmbed === \"function\") {\n",
       "      displayChart(vegaEmbed);\n",
       "    } else {\n",
       "      loadScript(\"vega\")\n",
       "        .then(() => loadScript(\"vega-lite\"))\n",
       "        .then(() => loadScript(\"vega-embed\"))\n",
       "        .catch(showError)\n",
       "        .then(() => displayChart(vegaEmbed));\n",
       "    }\n",
       "  })({\"config\": {\"view\": {\"continuousWidth\": 400, \"continuousHeight\": 300}}, \"data\": {\"name\": \"data-c026105d3c7e6726333173eb37882f52\"}, \"mark\": \"boxplot\", \"encoding\": {\"x\": {\"type\": \"nominal\", \"axis\": {\"title\": \"Position\"}, \"field\": \"Position_GF\"}, \"y\": {\"type\": \"quantitative\", \"field\": \"Weight\"}}, \"$schema\": \"https://vega.github.io/schema/vega-lite/v4.8.1.json\", \"datasets\": {\"data-c026105d3c7e6726333173eb37882f52\": [{\"Height\": 77.0, \"Weight\": 459.8, \"Position\": \"G\", \"Position_GF\": \"Guard\"}, {\"Height\": 77.0, \"Weight\": 457.6, \"Position\": \"SF\", \"Position_GF\": \"Forward\"}, {\"Height\": 81.0, \"Weight\": 539.0, \"Position\": \"F\", \"Position_GF\": \"Forward\"}, {\"Height\": 82.0, \"Weight\": 539.0, \"Position\": \"FC\", \"Position_GF\": \"Forward\"}, {\"Height\": 82.0, \"Weight\": 635.8000000000001, \"Position\": \"FC\", \"Position_GF\": \"Forward\"}, {\"Height\": 79.0, \"Weight\": 418.00000000000006, \"Position\": \"SF\", \"Position_GF\": \"Forward\"}, {\"Height\": 78.0, \"Weight\": 451.00000000000006, \"Position\": \"G\", \"Position_GF\": \"Guard\"}, {\"Height\": 72.0, \"Weight\": 363.00000000000006, \"Position\": \"G\", \"Position_GF\": \"Guard\"}, {\"Height\": 82.0, \"Weight\": 528.0, \"Position\": \"C\", \"Position_GF\": \"Forward\"}, {\"Height\": 75.0, \"Weight\": 407.00000000000006, \"Position\": \"SG\", \"Position_GF\": \"Guard\"}, {\"Height\": 82.0, \"Weight\": 539.0, \"Position\": \"FC\", \"Position_GF\": \"Forward\"}, {\"Height\": 83.0, \"Weight\": 613.8000000000001, \"Position\": \"C\", \"Position_GF\": \"Forward\"}, {\"Height\": 75.0, \"Weight\": 440.00000000000006, \"Position\": \"PG\", \"Position_GF\": \"Guard\"}, {\"Height\": 81.0, \"Weight\": 517.0, \"Position\": \"PF\", \"Position_GF\": \"Forward\"}, {\"Height\": 84.0, \"Weight\": 572.0, \"Position\": \"C\", \"Position_GF\": \"Forward\"}, {\"Height\": 84.0, \"Weight\": 627.0, \"Position\": \"C\", \"Position_GF\": \"Forward\"}, {\"Height\": 81.0, \"Weight\": 517.0, \"Position\": \"F\", \"Position_GF\": \"Forward\"}, {\"Height\": 81.952, \"Weight\": 253.00000000000003, \"Position\": \"PF\", \"Position_GF\": \"Forward\"}, {\"Height\": 81.0, \"Weight\": 583.0, \"Position\": \"F\", \"Position_GF\": \"Forward\"}, {\"Height\": 81.0, \"Weight\": 539.0, \"Position\": \"F\", \"Position_GF\": \"Forward\"}, {\"Height\": 81.0, \"Weight\": 506.00000000000006, \"Position\": \"PF\", \"Position_GF\": \"Forward\"}, {\"Height\": 87.0, \"Weight\": 613.8000000000001, \"Position\": \"C\", \"Position_GF\": \"Forward\"}, {\"Height\": 75.0, \"Weight\": 473.00000000000006, \"Position\": \"G\", \"Position_GF\": \"Guard\"}, {\"Height\": 75.0, \"Weight\": 440.00000000000006, \"Position\": \"SG\", \"Position_GF\": \"Guard\"}, {\"Height\": 81.952, \"Weight\": 228.8, \"Position\": \"PF\", \"Position_GF\": \"Forward\"}, {\"Height\": 81.0, \"Weight\": 528.0, \"Position\": \"FC\", \"Position_GF\": \"Forward\"}, {\"Height\": 79.0, \"Weight\": 451.00000000000006, \"Position\": \"SF\", \"Position_GF\": \"Forward\"}, {\"Height\": 82.0, \"Weight\": 552.2, \"Position\": \"PF\", \"Position_GF\": \"Forward\"}, {\"Height\": 78.0, \"Weight\": 418.00000000000006, \"Position\": \"SG\", \"Position_GF\": \"Guard\"}, {\"Height\": 84.0, \"Weight\": 539.0, \"Position\": \"C\", \"Position_GF\": \"Forward\"}, {\"Height\": 84.0, \"Weight\": 574.2, \"Position\": \"C\", \"Position_GF\": \"Forward\"}, {\"Height\": 77.224, \"Weight\": 206.8, \"Position\": \"SG\", \"Position_GF\": \"Guard\"}, {\"Height\": 73.0, \"Weight\": 374.00000000000006, \"Position\": \"G\", \"Position_GF\": \"Guard\"}, {\"Height\": 78.0, \"Weight\": 464.20000000000005, \"Position\": \"G\", \"Position_GF\": \"Guard\"}, {\"Height\": 84.0, \"Weight\": 589.6, \"Position\": \"C\", \"Position_GF\": \"Forward\"}, {\"Height\": 79.0, \"Weight\": 440.00000000000006, \"Position\": \"F\", \"Position_GF\": \"Forward\"}, {\"Height\": 80.0, \"Weight\": 473.00000000000006, \"Position\": \"PF\", \"Position_GF\": \"Forward\"}, {\"Height\": 75.0, \"Weight\": 429.00000000000006, \"Position\": \"SG\", \"Position_GF\": \"Guard\"}, {\"Height\": 78.0, \"Weight\": 484.00000000000006, \"Position\": \"F\", \"Position_GF\": \"Forward\"}, {\"Height\": 81.0, \"Weight\": 585.2, \"Position\": \"PF\", \"Position_GF\": \"Forward\"}, {\"Height\": 80.0, \"Weight\": 528.0, \"Position\": \"F\", \"Position_GF\": \"Forward\"}, {\"Height\": 79.0, \"Weight\": 501.6, \"Position\": \"SF\", \"Position_GF\": \"Forward\"}, {\"Height\": 78.0, \"Weight\": 418.00000000000006, \"Position\": \"SF\", \"Position_GF\": \"Forward\"}, {\"Height\": 78.0, \"Weight\": 554.4000000000001, \"Position\": \"PF\", \"Position_GF\": \"Forward\"}, {\"Height\": 75.0, \"Weight\": 462.00000000000006, \"Position\": \"G\", \"Position_GF\": \"Guard\"}, {\"Height\": 83.0, \"Weight\": 517.0, \"Position\": \"PF\", \"Position_GF\": \"Forward\"}, {\"Height\": 82.0, \"Weight\": 484.00000000000006, \"Position\": \"PF\", \"Position_GF\": \"Forward\"}, {\"Height\": 84.0, \"Weight\": 583.0, \"Position\": \"C\", \"Position_GF\": \"Forward\"}, {\"Height\": 79.0, \"Weight\": 473.00000000000006, \"Position\": \"SF\", \"Position_GF\": \"Forward\"}, {\"Height\": 72.0, \"Weight\": 385.00000000000006, \"Position\": \"PG\", \"Position_GF\": \"Guard\"}, {\"Height\": 81.0, \"Weight\": 539.0, \"Position\": \"F-C\", \"Position_GF\": \"Forward\"}, {\"Height\": 82.0, \"Weight\": 517.0, \"Position\": \"FC\", \"Position_GF\": \"Forward\"}, {\"Height\": 80.0, \"Weight\": 484.00000000000006, \"Position\": \"SF\", \"Position_GF\": \"Forward\"}, {\"Height\": 82.0, \"Weight\": 495.00000000000006, \"Position\": \"PF\", \"Position_GF\": \"Forward\"}, {\"Height\": 79.0, \"Weight\": 462.00000000000006, \"Position\": \"SG\", \"Position_GF\": \"Guard\"}, {\"Height\": 76.0, \"Weight\": 418.00000000000006, \"Position\": \"G\", \"Position_GF\": \"Guard\"}, {\"Height\": 79.0, \"Weight\": 451.00000000000006, \"Position\": \"GF\", \"Position_GF\": \"Guard\"}, {\"Height\": 75.254, \"Weight\": 193.60000000000002, \"Position\": \"G\", \"Position_GF\": \"Guard\"}, {\"Height\": 81.0, \"Weight\": 488.40000000000003, \"Position\": \"GF\", \"Position_GF\": \"Guard\"}, {\"Height\": 82.0, \"Weight\": 506.00000000000006, \"Position\": \"F\", \"Position_GF\": \"Forward\"}, {\"Height\": 72.0, \"Weight\": 374.00000000000006, \"Position\": \"PG\", \"Position_GF\": \"Guard\"}, {\"Height\": 76.0, \"Weight\": 418.00000000000006, \"Position\": \"SG\", \"Position_GF\": \"Guard\"}, {\"Height\": 81.0, \"Weight\": 539.0, \"Position\": \"FC\", \"Position_GF\": \"Forward\"}, {\"Height\": 85.0, \"Weight\": 550.0, \"Position\": \"C\", \"Position_GF\": \"Forward\"}, {\"Height\": 81.0, \"Weight\": 550.0, \"Position\": \"PF\", \"Position_GF\": \"Forward\"}, {\"Height\": 79.194, \"Weight\": 220.00000000000003, \"Position\": \"GF\", \"Position_GF\": \"Guard\"}, {\"Height\": 83.0, \"Weight\": 594.0, \"Position\": \"C\", \"Position_GF\": \"Forward\"}, {\"Height\": 79.0, \"Weight\": 462.00000000000006, \"Position\": \"PF\", \"Position_GF\": \"Forward\"}, {\"Height\": 80.0, \"Weight\": 503.80000000000007, \"Position\": \"SF\", \"Position_GF\": \"Forward\"}, {\"Height\": 77.0, \"Weight\": 426.8, \"Position\": \"G\", \"Position_GF\": \"Guard\"}, {\"Height\": 78.0, \"Weight\": 451.00000000000006, \"Position\": \"SG\", \"Position_GF\": \"Guard\"}, {\"Height\": 75.0, \"Weight\": 440.00000000000006, \"Position\": \"PG\", \"Position_GF\": \"Guard\"}, {\"Height\": 75.0, \"Weight\": 418.00000000000006, \"Position\": \"PG\", \"Position_GF\": \"Guard\"}, {\"Height\": 75.0, \"Weight\": 407.00000000000006, \"Position\": \"G\", \"Position_GF\": \"Guard\"}, {\"Height\": 86.0, \"Weight\": 572.0, \"Position\": \"C\", \"Position_GF\": \"Forward\"}, {\"Height\": 76.042, \"Weight\": 220.00000000000003, \"Position\": \"SG\", \"Position_GF\": \"Guard\"}, {\"Height\": 84.0, \"Weight\": 539.0, \"Position\": \"PF\", \"Position_GF\": \"Forward\"}, {\"Height\": 79.0, \"Weight\": 440.00000000000006, \"Position\": \"SF\", \"Position_GF\": \"Forward\"}, {\"Height\": 79.0, \"Weight\": 506.00000000000006, \"Position\": \"F\", \"Position_GF\": \"Forward\"}, {\"Height\": 77.0, \"Weight\": 440.00000000000006, \"Position\": \"SG\", \"Position_GF\": \"Guard\"}, {\"Height\": 82.0, \"Weight\": 550.0, \"Position\": \"FC\", \"Position_GF\": \"Forward\"}, {\"Height\": 83.0, \"Weight\": 583.0, \"Position\": \"C\", \"Position_GF\": \"Forward\"}, {\"Height\": 76.0, \"Weight\": 484.00000000000006, \"Position\": \"SG\", \"Position_GF\": \"Guard\"}, {\"Height\": 78.0, \"Weight\": 440.00000000000006, \"Position\": \"G-F\", \"Position_GF\": \"Guard\"}, {\"Height\": 72.0, \"Weight\": 330.0, \"Position\": \"PG\", \"Position_GF\": \"Guard\"}, {\"Height\": 81.0, \"Weight\": 558.8000000000001, \"Position\": \"PF\", \"Position_GF\": \"Forward\"}, {\"Height\": 82.0, \"Weight\": 517.0, \"Position\": \"F\", \"Position_GF\": \"Forward\"}, {\"Height\": 75.0, \"Weight\": 374.00000000000006, \"Position\": \"PG\", \"Position_GF\": \"Guard\"}, {\"Height\": 76.0, \"Weight\": 396.00000000000006, \"Position\": \"G\", \"Position_GF\": \"Guard\"}, {\"Height\": 75.254, \"Weight\": 187.00000000000003, \"Position\": \"G\", \"Position_GF\": \"Guard\"}, {\"Height\": 79.0, \"Weight\": 484.00000000000006, \"Position\": \"F\", \"Position_GF\": \"Forward\"}, {\"Height\": 78.0, \"Weight\": 407.00000000000006, \"Position\": \"SG\", \"Position_GF\": \"Guard\"}, {\"Height\": 83.134, \"Weight\": 222.20000000000002, \"Position\": \"F\", \"Position_GF\": \"Forward\"}, {\"Height\": 75.0, \"Weight\": 420.20000000000005, \"Position\": \"G\", \"Position_GF\": \"Guard\"}, {\"Height\": 80.0, \"Weight\": 501.6, \"Position\": \"SF\", \"Position_GF\": \"Forward\"}, {\"Height\": 79.0, \"Weight\": 495.00000000000006, \"Position\": \"SF\", \"Position_GF\": \"Forward\"}, {\"Height\": 75.12700000000001, \"Weight\": 303.6, \"Position\": \"G\", \"Position_GF\": \"Guard\"}, {\"Height\": 79.982, \"Weight\": 224.4, \"Position\": \"GF\", \"Position_GF\": \"Guard\"}, {\"Height\": 80.0, \"Weight\": 495.00000000000006, \"Position\": \"SF\", \"Position_GF\": \"Forward\"}, {\"Height\": 78.0, \"Weight\": 477.40000000000003, \"Position\": \"G\", \"Position_GF\": \"Guard\"}, {\"Height\": 84.0, \"Weight\": 561.0, \"Position\": \"C\", \"Position_GF\": \"Forward\"}, {\"Height\": 79.0, \"Weight\": 462.00000000000006, \"Position\": \"GF\", \"Position_GF\": \"Guard\"}, {\"Height\": 83.922, \"Weight\": 264.0, \"Position\": \"C\", \"Position_GF\": \"Forward\"}, {\"Height\": 82.0, \"Weight\": 484.00000000000006, \"Position\": \"F\", \"Position_GF\": \"Forward\"}, {\"Height\": 82.0, \"Weight\": 532.4000000000001, \"Position\": \"C\", \"Position_GF\": \"Forward\"}, {\"Height\": 83.0, \"Weight\": 473.00000000000006, \"Position\": \"FC\", \"Position_GF\": \"Forward\"}, {\"Height\": 69.0, \"Weight\": 407.00000000000006, \"Position\": \"PG\", \"Position_GF\": \"Guard\"}, {\"Height\": 73.0, \"Weight\": 396.00000000000006, \"Position\": \"PG\", \"Position_GF\": \"Guard\"}, {\"Height\": 72.0, \"Weight\": 407.00000000000006, \"Position\": \"G\", \"Position_GF\": \"Guard\"}, {\"Height\": 78.0, \"Weight\": 495.00000000000006, \"Position\": \"SG\", \"Position_GF\": \"Guard\"}, {\"Height\": 83.0, \"Weight\": 506.00000000000006, \"Position\": \"C\", \"Position_GF\": \"Forward\"}, {\"Height\": 80.0, \"Weight\": 462.00000000000006, \"Position\": \"G\", \"Position_GF\": \"Guard\"}, {\"Height\": 83.0, \"Weight\": 569.8000000000001, \"Position\": \"C\", \"Position_GF\": \"Forward\"}, {\"Height\": 77.0, \"Weight\": 429.00000000000006, \"Position\": \"SG\", \"Position_GF\": \"Guard\"}, {\"Height\": 80.0, \"Weight\": 543.4000000000001, \"Position\": \"SF\", \"Position_GF\": \"Forward\"}, {\"Height\": 72.0, \"Weight\": 418.00000000000006, \"Position\": \"G\", \"Position_GF\": \"Guard\"}, {\"Height\": 77.112, \"Weight\": 352.00000000000006, \"Position\": \"SG\", \"Position_GF\": \"Guard\"}, {\"Height\": 81.0, \"Weight\": 572.0, \"Position\": \"C\", \"Position_GF\": \"Forward\"}, {\"Height\": 76.0, \"Weight\": 462.00000000000006, \"Position\": \"PG\", \"Position_GF\": \"Guard\"}, {\"Height\": 78.0, \"Weight\": 495.00000000000006, \"Position\": \"GF\", \"Position_GF\": \"Guard\"}, {\"Height\": 74.0, \"Weight\": 407.00000000000006, \"Position\": \"G\", \"Position_GF\": \"Guard\"}, {\"Height\": 82.0, \"Weight\": 539.0, \"Position\": \"FC\", \"Position_GF\": \"Forward\"}, {\"Height\": 76.0, \"Weight\": 451.00000000000006, \"Position\": \"SG\", \"Position_GF\": \"Guard\"}, {\"Height\": 82.0, \"Weight\": 528.0, \"Position\": \"C\", \"Position_GF\": \"Forward\"}, {\"Height\": 74.0, \"Weight\": 409.20000000000005, \"Position\": \"PG\", \"Position_GF\": \"Guard\"}, {\"Height\": 75.0, \"Weight\": 440.00000000000006, \"Position\": \"G\", \"Position_GF\": \"Guard\"}, {\"Height\": 83.0, \"Weight\": 517.0, \"Position\": \"FC\", \"Position_GF\": \"Forward\"}, {\"Height\": 78.0, \"Weight\": 479.6, \"Position\": \"SF\", \"Position_GF\": \"Forward\"}, {\"Height\": 79.194, \"Weight\": 231.00000000000003, \"Position\": \"GF\", \"Position_GF\": \"Guard\"}, {\"Height\": 75.0, \"Weight\": 418.00000000000006, \"Position\": \"SG\", \"Position_GF\": \"Guard\"}, {\"Height\": 79.0, \"Weight\": 528.0, \"Position\": \"SG\", \"Position_GF\": \"Guard\"}, {\"Height\": 83.922, \"Weight\": 248.60000000000002, \"Position\": \"C\", \"Position_GF\": \"Forward\"}, {\"Height\": 73.0, \"Weight\": 374.00000000000006, \"Position\": \"PG\", \"Position_GF\": \"Guard\"}, {\"Height\": 76.0, \"Weight\": 462.00000000000006, \"Position\": \"PG\", \"Position_GF\": \"Guard\"}, {\"Height\": 77.0, \"Weight\": 429.00000000000006, \"Position\": \"G\", \"Position_GF\": \"Guard\"}, {\"Height\": 79.0, \"Weight\": 462.00000000000006, \"Position\": \"GF\", \"Position_GF\": \"Guard\"}, {\"Height\": 81.0, \"Weight\": 495.00000000000006, \"Position\": \"PF\", \"Position_GF\": \"Forward\"}, {\"Height\": 78.0, \"Weight\": 440.00000000000006, \"Position\": \"SF\", \"Position_GF\": \"Forward\"}, {\"Height\": 81.0, \"Weight\": 528.0, \"Position\": \"PF\", \"Position_GF\": \"Forward\"}, {\"Height\": 86.0, \"Weight\": 495.00000000000006, \"Position\": \"C\", \"Position_GF\": \"Forward\"}, {\"Height\": 81.0, \"Weight\": 583.0, \"Position\": \"PF\", \"Position_GF\": \"Forward\"}, {\"Height\": 83.922, \"Weight\": 244.20000000000002, \"Position\": \"C\", \"Position_GF\": \"Forward\"}, {\"Height\": 79.09700000000001, \"Weight\": 367.40000000000003, \"Position\": \"F\", \"Position_GF\": \"Forward\"}, {\"Height\": 73.0, \"Weight\": 404.8, \"Position\": \"G\", \"Position_GF\": \"Guard\"}, {\"Height\": 80.0, \"Weight\": 501.6, \"Position\": \"F\", \"Position_GF\": \"Forward\"}, {\"Height\": 72.0, \"Weight\": 369.6, \"Position\": \"PG\", \"Position_GF\": \"Guard\"}, {\"Height\": 75.0, \"Weight\": 374.00000000000006, \"Position\": \"PG\", \"Position_GF\": \"Guard\"}, {\"Height\": 81.0, \"Weight\": 528.0, \"Position\": \"F\", \"Position_GF\": \"Forward\"}, {\"Height\": 81.0, \"Weight\": 528.0, \"Position\": \"SF\", \"Position_GF\": \"Forward\"}, {\"Height\": 83.0, \"Weight\": 528.0, \"Position\": \"PF\", \"Position_GF\": \"Forward\"}, {\"Height\": 73.0, \"Weight\": 396.00000000000006, \"Position\": \"PG\", \"Position_GF\": \"Guard\"}, {\"Height\": 82.0, \"Weight\": 552.2, \"Position\": \"FC\", \"Position_GF\": \"Forward\"}, {\"Height\": 79.0, \"Weight\": 437.8, \"Position\": \"SG\", \"Position_GF\": \"Guard\"}, {\"Height\": 84.0, \"Weight\": 539.0, \"Position\": \"C\", \"Position_GF\": \"Forward\"}, {\"Height\": 79.982, \"Weight\": 233.20000000000002, \"Position\": \"SF\", \"Position_GF\": \"Forward\"}, {\"Height\": 79.0, \"Weight\": 473.00000000000006, \"Position\": \"G\", \"Position_GF\": \"Guard\"}, {\"Height\": 78.0, \"Weight\": 466.40000000000003, \"Position\": \"SG\", \"Position_GF\": \"Guard\"}, {\"Height\": 87.074, \"Weight\": 239.8, \"Position\": \"FC\", \"Position_GF\": \"Forward\"}, {\"Height\": 81.0, \"Weight\": 528.0, \"Position\": \"FC\", \"Position_GF\": \"Forward\"}, {\"Height\": 73.0, \"Weight\": 431.20000000000005, \"Position\": \"PG\", \"Position_GF\": \"Guard\"}, {\"Height\": 75.0, \"Weight\": 424.6, \"Position\": \"G\", \"Position_GF\": \"Guard\"}, {\"Height\": 83.0, \"Weight\": 572.0, \"Position\": \"FC\", \"Position_GF\": \"Forward\"}, {\"Height\": 82.0, \"Weight\": 506.00000000000006, \"Position\": \"PF\", \"Position_GF\": \"Forward\"}, {\"Height\": 81.0, \"Weight\": 484.00000000000006, \"Position\": \"SF\", \"Position_GF\": \"Forward\"}, {\"Height\": 77.0, \"Weight\": 404.8, \"Position\": \"G\", \"Position_GF\": \"Guard\"}, {\"Height\": 78.0, \"Weight\": 550.0, \"Position\": \"F\", \"Position_GF\": \"Forward\"}, {\"Height\": 82.0, \"Weight\": 451.00000000000006, \"Position\": \"PF\", \"Position_GF\": \"Forward\"}, {\"Height\": 80.0, \"Weight\": 473.00000000000006, \"Position\": \"PF\", \"Position_GF\": \"Forward\"}, {\"Height\": 80.0, \"Weight\": 550.0, \"Position\": \"F\", \"Position_GF\": \"Forward\"}, {\"Height\": 79.0, \"Weight\": 462.00000000000006, \"Position\": \"SF\", \"Position_GF\": \"Forward\"}, {\"Height\": 72.89, \"Weight\": 173.8, \"Position\": \"G\", \"Position_GF\": \"Guard\"}, {\"Height\": 81.0, \"Weight\": 506.00000000000006, \"Position\": \"PF\", \"Position_GF\": \"Forward\"}, {\"Height\": 77.0, \"Weight\": 418.00000000000006, \"Position\": \"SG\", \"Position_GF\": \"Guard\"}, {\"Height\": 81.0, \"Weight\": 561.0, \"Position\": \"PG\", \"Position_GF\": \"Guard\"}, {\"Height\": 78.0, \"Weight\": 451.00000000000006, \"Position\": \"SG\", \"Position_GF\": \"Guard\"}, {\"Height\": 85.05199999999999, \"Weight\": 408.1, \"Position\": \"C\", \"Position_GF\": \"Forward\"}, {\"Height\": 83.0, \"Weight\": 528.0, \"Position\": \"FC\", \"Position_GF\": \"Forward\"}, {\"Height\": 83.0, \"Weight\": 528.0, \"Position\": \"C\", \"Position_GF\": \"Forward\"}, {\"Height\": 78.0, \"Weight\": 510.40000000000003, \"Position\": \"SF\", \"Position_GF\": \"Forward\"}, {\"Height\": 73.0, \"Weight\": 396.00000000000006, \"Position\": \"PG\", \"Position_GF\": \"Guard\"}, {\"Height\": 82.0, \"Weight\": 539.0, \"Position\": \"PF\", \"Position_GF\": \"Forward\"}, {\"Height\": 83.0, \"Weight\": 547.8000000000001, \"Position\": \"FC\", \"Position_GF\": \"Forward\"}, {\"Height\": 79.0, \"Weight\": 572.0, \"Position\": \"SF\", \"Position_GF\": \"Forward\"}, {\"Height\": 70.0, \"Weight\": 358.6, \"Position\": \"PG\", \"Position_GF\": \"Guard\"}, {\"Height\": 78.0, \"Weight\": 418.00000000000006, \"Position\": \"PG\", \"Position_GF\": \"Guard\"}, {\"Height\": 79.0, \"Weight\": 495.00000000000006, \"Position\": \"G-F\", \"Position_GF\": \"Guard\"}, {\"Height\": 78.0, \"Weight\": 473.00000000000006, \"Position\": \"SG\", \"Position_GF\": \"Guard\"}, {\"Height\": 78.0, \"Weight\": 484.00000000000006, \"Position\": \"G\", \"Position_GF\": \"Guard\"}, {\"Height\": 77.0, \"Weight\": 415.8, \"Position\": \"PG\", \"Position_GF\": \"Guard\"}, {\"Height\": 74.0, \"Weight\": 429.00000000000006, \"Position\": \"G\", \"Position_GF\": \"Guard\"}, {\"Height\": 74.0, \"Weight\": 413.6, \"Position\": \"G\", \"Position_GF\": \"Guard\"}, {\"Height\": 77.0, \"Weight\": 473.00000000000006, \"Position\": \"SG\", \"Position_GF\": \"Guard\"}, {\"Height\": 73.0, \"Weight\": 435.6, \"Position\": \"G\", \"Position_GF\": \"Guard\"}, {\"Height\": 75.0, \"Weight\": 407.00000000000006, \"Position\": \"G\", \"Position_GF\": \"Guard\"}, {\"Height\": 73.0, \"Weight\": 418.00000000000006, \"Position\": \"PG\", \"Position_GF\": \"Guard\"}, {\"Height\": 82.0, \"Weight\": 473.00000000000006, \"Position\": \"C\", \"Position_GF\": \"Forward\"}, {\"Height\": 69.0, \"Weight\": 396.00000000000006, \"Position\": \"G\", \"Position_GF\": \"Guard\"}, {\"Height\": 78.0, \"Weight\": 501.6, \"Position\": \"GF\", \"Position_GF\": \"Guard\"}, {\"Height\": 80.0, \"Weight\": 440.00000000000006, \"Position\": \"F\", \"Position_GF\": \"Forward\"}, {\"Height\": 81.952, \"Weight\": 248.60000000000002, \"Position\": \"C\", \"Position_GF\": \"Forward\"}, {\"Height\": 83.0, \"Weight\": 675.4000000000001, \"Position\": \"PF\", \"Position_GF\": \"Forward\"}, {\"Height\": 84.0, \"Weight\": 572.0, \"Position\": \"PF\", \"Position_GF\": \"Forward\"}, {\"Height\": 81.0, \"Weight\": 616.0, \"Position\": \"C\", \"Position_GF\": \"Forward\"}, {\"Height\": 81.0, \"Weight\": 473.00000000000006, \"Position\": \"PF\", \"Position_GF\": \"Forward\"}, {\"Height\": 81.0, \"Weight\": 495.00000000000006, \"Position\": \"PF\", \"Position_GF\": \"Forward\"}, {\"Height\": 84.0, \"Weight\": 528.0, \"Position\": \"C\", \"Position_GF\": \"Forward\"}, {\"Height\": 84.0, \"Weight\": 550.0, \"Position\": \"FC\", \"Position_GF\": \"Forward\"}, {\"Height\": 81.0, \"Weight\": 484.00000000000006, \"Position\": \"GF\", \"Position_GF\": \"Guard\"}, {\"Height\": 80.0, \"Weight\": 541.2, \"Position\": \"FC\", \"Position_GF\": \"Forward\"}, {\"Height\": 79.0, \"Weight\": 517.0, \"Position\": \"SF\", \"Position_GF\": \"Forward\"}, {\"Height\": 82.0, \"Weight\": 503.80000000000007, \"Position\": \"F\", \"Position_GF\": \"Forward\"}, {\"Height\": 79.0, \"Weight\": 429.00000000000006, \"Position\": \"PG\", \"Position_GF\": \"Guard\"}, {\"Height\": 81.0, \"Weight\": 462.00000000000006, \"Position\": \"C\", \"Position_GF\": \"Forward\"}, {\"Height\": 78.0, \"Weight\": 490.6, \"Position\": \"GF\", \"Position_GF\": \"Guard\"}, {\"Height\": 73.0, \"Weight\": 409.20000000000005, \"Position\": \"PG\", \"Position_GF\": \"Guard\"}, {\"Height\": 82.0, \"Weight\": 517.0, \"Position\": \"F\", \"Position_GF\": \"Forward\"}, {\"Height\": 83.0, \"Weight\": 506.00000000000006, \"Position\": \"FC\", \"Position_GF\": \"Forward\"}, {\"Height\": 77.0, \"Weight\": 451.00000000000006, \"Position\": \"SG\", \"Position_GF\": \"Guard\"}, {\"Height\": 75.0, \"Weight\": 457.6, \"Position\": \"G\", \"Position_GF\": \"Guard\"}, {\"Height\": 79.0, \"Weight\": 429.00000000000006, \"Position\": \"SF\", \"Position_GF\": \"Forward\"}, {\"Height\": 79.0, \"Weight\": 407.00000000000006, \"Position\": \"SG\", \"Position_GF\": \"Guard\"}, {\"Height\": 79.0, \"Weight\": 424.6, \"Position\": \"SG\", \"Position_GF\": \"Guard\"}, {\"Height\": 79.0, \"Weight\": 512.6, \"Position\": \"SF\", \"Position_GF\": \"Forward\"}, {\"Height\": 76.0, \"Weight\": 451.00000000000006, \"Position\": \"SG\", \"Position_GF\": \"Guard\"}, {\"Height\": 88.0, \"Weight\": 550.0, \"Position\": \"C\", \"Position_GF\": \"Forward\"}, {\"Height\": 84.0, \"Weight\": 506.00000000000006, \"Position\": \"C\", \"Position_GF\": \"Forward\"}, {\"Height\": 75.0, \"Weight\": 385.00000000000006, \"Position\": \"PG\", \"Position_GF\": \"Guard\"}, {\"Height\": 77.0, \"Weight\": 451.00000000000006, \"Position\": \"G\", \"Position_GF\": \"Guard\"}, {\"Height\": 78.0, \"Weight\": 407.00000000000006, \"Position\": \"SG\", \"Position_GF\": \"Guard\"}, {\"Height\": 83.0, \"Weight\": 506.00000000000006, \"Position\": \"C\", \"Position_GF\": \"Forward\"}, {\"Height\": 83.0, \"Weight\": 506.00000000000006, \"Position\": \"PF\", \"Position_GF\": \"Forward\"}, {\"Height\": 74.0, \"Weight\": 429.00000000000006, \"Position\": \"PG\", \"Position_GF\": \"Guard\"}, {\"Height\": 75.0, \"Weight\": 440.00000000000006, \"Position\": \"G\", \"Position_GF\": \"Guard\"}, {\"Height\": 75.0, \"Weight\": 407.00000000000006, \"Position\": \"G\", \"Position_GF\": \"Guard\"}, {\"Height\": 73.0, \"Weight\": 396.00000000000006, \"Position\": \"PG\", \"Position_GF\": \"Guard\"}, {\"Height\": 80.0, \"Weight\": 501.6, \"Position\": \"SF\", \"Position_GF\": \"Forward\"}, {\"Height\": 80.0, \"Weight\": 451.00000000000006, \"Position\": \"SF\", \"Position_GF\": \"Forward\"}, {\"Height\": 85.0, \"Weight\": 715.0000000000001, \"Position\": \"C\", \"Position_GF\": \"Forward\"}, {\"Height\": 81.0, \"Weight\": 495.00000000000006, \"Position\": \"F\", \"Position_GF\": \"Forward\"}, {\"Height\": 82.0, \"Weight\": 616.0, \"Position\": \"C\", \"Position_GF\": \"Forward\"}, {\"Height\": 79.0, \"Weight\": 501.6, \"Position\": \"F\", \"Position_GF\": \"Forward\"}, {\"Height\": 75.0, \"Weight\": 396.00000000000006, \"Position\": \"SG\", \"Position_GF\": \"Guard\"}, {\"Height\": 75.0, \"Weight\": 374.00000000000006, \"Position\": \"PG\", \"Position_GF\": \"Guard\"}, {\"Height\": 75.0, \"Weight\": 418.00000000000006, \"Position\": \"G\", \"Position_GF\": \"Guard\"}, {\"Height\": 80.0, \"Weight\": 484.00000000000006, \"Position\": \"GF\", \"Position_GF\": \"Guard\"}, {\"Height\": 74.0, \"Weight\": 396.00000000000006, \"Position\": \"G\", \"Position_GF\": \"Guard\"}, {\"Height\": 75.0, \"Weight\": 429.00000000000006, \"Position\": \"G\", \"Position_GF\": \"Guard\"}, {\"Height\": 75.0, \"Weight\": 391.6, \"Position\": \"G\", \"Position_GF\": \"Guard\"}, {\"Height\": 79.0, \"Weight\": 440.00000000000006, \"Position\": \"SG\", \"Position_GF\": \"Guard\"}, {\"Height\": 72.0, \"Weight\": 363.00000000000006, \"Position\": \"PG\", \"Position_GF\": \"Guard\"}, {\"Height\": 71.0, \"Weight\": 396.00000000000006, \"Position\": \"PG\", \"Position_GF\": \"Guard\"}, {\"Height\": 81.0, \"Weight\": 484.00000000000006, \"Position\": \"PF\", \"Position_GF\": \"Forward\"}, {\"Height\": 82.0, \"Weight\": 506.00000000000006, \"Position\": \"PF\", \"Position_GF\": \"Forward\"}, {\"Height\": 77.0, \"Weight\": 429.00000000000006, \"Position\": \"SG\", \"Position_GF\": \"Guard\"}, {\"Height\": 80.0, \"Weight\": 486.20000000000005, \"Position\": \"F\", \"Position_GF\": \"Forward\"}, {\"Height\": 83.0, \"Weight\": 550.0, \"Position\": \"FC\", \"Position_GF\": \"Forward\"}, {\"Height\": 72.0, \"Weight\": 385.00000000000006, \"Position\": \"PG\", \"Position_GF\": \"Guard\"}, {\"Height\": 81.164, \"Weight\": 235.4, \"Position\": \"F\", \"Position_GF\": \"Forward\"}, {\"Height\": 82.0, \"Weight\": 484.00000000000006, \"Position\": \"PF\", \"Position_GF\": \"Forward\"}, {\"Height\": 83.0, \"Weight\": 473.00000000000006, \"Position\": \"PF\", \"Position_GF\": \"Forward\"}, {\"Height\": 74.0, \"Weight\": 407.00000000000006, \"Position\": \"G\", \"Position_GF\": \"Guard\"}, {\"Height\": 80.0, \"Weight\": 462.00000000000006, \"Position\": \"GF\", \"Position_GF\": \"Guard\"}, {\"Height\": 71.0, \"Weight\": 429.00000000000006, \"Position\": \"PG\", \"Position_GF\": \"Guard\"}, {\"Height\": 77.0, \"Weight\": 407.00000000000006, \"Position\": \"G\", \"Position_GF\": \"Guard\"}, {\"Height\": 76.042, \"Weight\": 209.00000000000003, \"Position\": \"G\", \"Position_GF\": \"Guard\"}, {\"Height\": 78.0, \"Weight\": 484.00000000000006, \"Position\": \"SF\", \"Position_GF\": \"Forward\"}, {\"Height\": 85.0, \"Weight\": 572.0, \"Position\": \"C\", \"Position_GF\": \"Forward\"}, {\"Height\": 76.0, \"Weight\": 451.00000000000006, \"Position\": \"SG\", \"Position_GF\": \"Guard\"}, {\"Height\": 78.0, \"Weight\": 429.00000000000006, \"Position\": \"SG\", \"Position_GF\": \"Guard\"}, {\"Height\": 74.0, \"Weight\": 407.00000000000006, \"Position\": \"G\", \"Position_GF\": \"Guard\"}, {\"Height\": 79.0, \"Weight\": 451.00000000000006, \"Position\": \"PF\", \"Position_GF\": \"Forward\"}, {\"Height\": 90.0, \"Weight\": 682.0, \"Position\": \"C\", \"Position_GF\": \"Forward\"}, {\"Height\": 81.0, \"Weight\": 572.0, \"Position\": \"PF\", \"Position_GF\": \"Forward\"}, {\"Height\": 87.0, \"Weight\": 572.0, \"Position\": \"C\", \"Position_GF\": \"Forward\"}]}}, {\"mode\": \"vega-lite\"});\n",
       "</script>"
      ],
      "text/plain": [
       "alt.Chart(...)"
      ]
     },
     "execution_count": 14,
     "metadata": {},
     "output_type": "execute_result"
    }
   ],
   "source": [
    "# Version B & C\n",
    "chart = alt.Chart(nba).mark_boxplot().encode(\n",
    "    x=alt.X('Position_GF', axis=alt.Axis(title='Position')),\n",
    "    y=alt.Y('Weight')\n",
    ")\n",
    "chart"
   ]
  },
  {
   "cell_type": "markdown",
   "metadata": {},
   "source": [
    "#### Version B\n",
    "It is clear from these boxplots that Forwards tend to be taller and weight more than Guards.  \n",
    "\n",
    "It appears from the plots that the Forwards in the dataset have a mean height of about 81 inches, while Guards have a mean height of 75.3 inches. Forwards have a mean weight of about 245 pounds, while Guards have a mean weight of 200 pounds."
   ]
  },
  {
   "cell_type": "markdown",
   "metadata": {},
   "source": [
    "#### Version C\n",
    "\n",
    "It is clear from these boxplots that Forwards tend to be taller and weight more than Guards.  \n",
    "\n",
    "It appears from the plots that the Forwards in the dataset have a median height of about 81 inches, while Guards have a median height of 75.3 inches. Forwards have a median weight of about 245 pounds, while Guards have a median weight of 200 pounds."
   ]
  },
  {
   "cell_type": "code",
   "execution_count": 15,
   "metadata": {},
   "outputs": [
    {
     "data": {
      "text/html": [
       "\n",
       "<div id=\"altair-viz-11ee1a606a8347bda52f963f599504ff\"></div>\n",
       "<script type=\"text/javascript\">\n",
       "  (function(spec, embedOpt){\n",
       "    let outputDiv = document.currentScript.previousElementSibling;\n",
       "    if (outputDiv.id !== \"altair-viz-11ee1a606a8347bda52f963f599504ff\") {\n",
       "      outputDiv = document.getElementById(\"altair-viz-11ee1a606a8347bda52f963f599504ff\");\n",
       "    }\n",
       "    const paths = {\n",
       "      \"vega\": \"https://cdn.jsdelivr.net/npm//vega@5?noext\",\n",
       "      \"vega-lib\": \"https://cdn.jsdelivr.net/npm//vega-lib?noext\",\n",
       "      \"vega-lite\": \"https://cdn.jsdelivr.net/npm//vega-lite@4.8.1?noext\",\n",
       "      \"vega-embed\": \"https://cdn.jsdelivr.net/npm//vega-embed@6?noext\",\n",
       "    };\n",
       "\n",
       "    function loadScript(lib) {\n",
       "      return new Promise(function(resolve, reject) {\n",
       "        var s = document.createElement('script');\n",
       "        s.src = paths[lib];\n",
       "        s.async = true;\n",
       "        s.onload = () => resolve(paths[lib]);\n",
       "        s.onerror = () => reject(`Error loading script: ${paths[lib]}`);\n",
       "        document.getElementsByTagName(\"head\")[0].appendChild(s);\n",
       "      });\n",
       "    }\n",
       "\n",
       "    function showError(err) {\n",
       "      outputDiv.innerHTML = `<div class=\"error\" style=\"color:red;\">${err}</div>`;\n",
       "      throw err;\n",
       "    }\n",
       "\n",
       "    function displayChart(vegaEmbed) {\n",
       "      vegaEmbed(outputDiv, spec, embedOpt)\n",
       "        .catch(err => showError(`Javascript Error: ${err.message}<br>This usually means there's a typo in your chart specification. See the javascript console for the full traceback.`));\n",
       "    }\n",
       "\n",
       "    if(typeof define === \"function\" && define.amd) {\n",
       "      requirejs.config({paths});\n",
       "      require([\"vega-embed\"], displayChart, err => showError(`Error loading script: ${err.message}`));\n",
       "    } else if (typeof vegaEmbed === \"function\") {\n",
       "      displayChart(vegaEmbed);\n",
       "    } else {\n",
       "      loadScript(\"vega\")\n",
       "        .then(() => loadScript(\"vega-lite\"))\n",
       "        .then(() => loadScript(\"vega-embed\"))\n",
       "        .catch(showError)\n",
       "        .then(() => displayChart(vegaEmbed));\n",
       "    }\n",
       "  })({\"config\": {\"view\": {\"continuousWidth\": 400, \"continuousHeight\": 300}}, \"data\": {\"name\": \"data-c026105d3c7e6726333173eb37882f52\"}, \"mark\": \"bar\", \"encoding\": {\"x\": {\"type\": \"nominal\", \"axis\": {\"title\": \"Position\"}, \"field\": \"Position_GF\"}, \"y\": {\"type\": \"quantitative\", \"field\": \"Height\"}}, \"$schema\": \"https://vega.github.io/schema/vega-lite/v4.8.1.json\", \"datasets\": {\"data-c026105d3c7e6726333173eb37882f52\": [{\"Height\": 77.0, \"Weight\": 459.8, \"Position\": \"G\", \"Position_GF\": \"Guard\"}, {\"Height\": 77.0, \"Weight\": 457.6, \"Position\": \"SF\", \"Position_GF\": \"Forward\"}, {\"Height\": 81.0, \"Weight\": 539.0, \"Position\": \"F\", \"Position_GF\": \"Forward\"}, {\"Height\": 82.0, \"Weight\": 539.0, \"Position\": \"FC\", \"Position_GF\": \"Forward\"}, {\"Height\": 82.0, \"Weight\": 635.8000000000001, \"Position\": \"FC\", \"Position_GF\": \"Forward\"}, {\"Height\": 79.0, \"Weight\": 418.00000000000006, \"Position\": \"SF\", \"Position_GF\": \"Forward\"}, {\"Height\": 78.0, \"Weight\": 451.00000000000006, \"Position\": \"G\", \"Position_GF\": \"Guard\"}, {\"Height\": 72.0, \"Weight\": 363.00000000000006, \"Position\": \"G\", \"Position_GF\": \"Guard\"}, {\"Height\": 82.0, \"Weight\": 528.0, \"Position\": \"C\", \"Position_GF\": \"Forward\"}, {\"Height\": 75.0, \"Weight\": 407.00000000000006, \"Position\": \"SG\", \"Position_GF\": \"Guard\"}, {\"Height\": 82.0, \"Weight\": 539.0, \"Position\": \"FC\", \"Position_GF\": \"Forward\"}, {\"Height\": 83.0, \"Weight\": 613.8000000000001, \"Position\": \"C\", \"Position_GF\": \"Forward\"}, {\"Height\": 75.0, \"Weight\": 440.00000000000006, \"Position\": \"PG\", \"Position_GF\": \"Guard\"}, {\"Height\": 81.0, \"Weight\": 517.0, \"Position\": \"PF\", \"Position_GF\": \"Forward\"}, {\"Height\": 84.0, \"Weight\": 572.0, \"Position\": \"C\", \"Position_GF\": \"Forward\"}, {\"Height\": 84.0, \"Weight\": 627.0, \"Position\": \"C\", \"Position_GF\": \"Forward\"}, {\"Height\": 81.0, \"Weight\": 517.0, \"Position\": \"F\", \"Position_GF\": \"Forward\"}, {\"Height\": 81.952, \"Weight\": 253.00000000000003, \"Position\": \"PF\", \"Position_GF\": \"Forward\"}, {\"Height\": 81.0, \"Weight\": 583.0, \"Position\": \"F\", \"Position_GF\": \"Forward\"}, {\"Height\": 81.0, \"Weight\": 539.0, \"Position\": \"F\", \"Position_GF\": \"Forward\"}, {\"Height\": 81.0, \"Weight\": 506.00000000000006, \"Position\": \"PF\", \"Position_GF\": \"Forward\"}, {\"Height\": 87.0, \"Weight\": 613.8000000000001, \"Position\": \"C\", \"Position_GF\": \"Forward\"}, {\"Height\": 75.0, \"Weight\": 473.00000000000006, \"Position\": \"G\", \"Position_GF\": \"Guard\"}, {\"Height\": 75.0, \"Weight\": 440.00000000000006, \"Position\": \"SG\", \"Position_GF\": \"Guard\"}, {\"Height\": 81.952, \"Weight\": 228.8, \"Position\": \"PF\", \"Position_GF\": \"Forward\"}, {\"Height\": 81.0, \"Weight\": 528.0, \"Position\": \"FC\", \"Position_GF\": \"Forward\"}, {\"Height\": 79.0, \"Weight\": 451.00000000000006, \"Position\": \"SF\", \"Position_GF\": \"Forward\"}, {\"Height\": 82.0, \"Weight\": 552.2, \"Position\": \"PF\", \"Position_GF\": \"Forward\"}, {\"Height\": 78.0, \"Weight\": 418.00000000000006, \"Position\": \"SG\", \"Position_GF\": \"Guard\"}, {\"Height\": 84.0, \"Weight\": 539.0, \"Position\": \"C\", \"Position_GF\": \"Forward\"}, {\"Height\": 84.0, \"Weight\": 574.2, \"Position\": \"C\", \"Position_GF\": \"Forward\"}, {\"Height\": 77.224, \"Weight\": 206.8, \"Position\": \"SG\", \"Position_GF\": \"Guard\"}, {\"Height\": 73.0, \"Weight\": 374.00000000000006, \"Position\": \"G\", \"Position_GF\": \"Guard\"}, {\"Height\": 78.0, \"Weight\": 464.20000000000005, \"Position\": \"G\", \"Position_GF\": \"Guard\"}, {\"Height\": 84.0, \"Weight\": 589.6, \"Position\": \"C\", \"Position_GF\": \"Forward\"}, {\"Height\": 79.0, \"Weight\": 440.00000000000006, \"Position\": \"F\", \"Position_GF\": \"Forward\"}, {\"Height\": 80.0, \"Weight\": 473.00000000000006, \"Position\": \"PF\", \"Position_GF\": \"Forward\"}, {\"Height\": 75.0, \"Weight\": 429.00000000000006, \"Position\": \"SG\", \"Position_GF\": \"Guard\"}, {\"Height\": 78.0, \"Weight\": 484.00000000000006, \"Position\": \"F\", \"Position_GF\": \"Forward\"}, {\"Height\": 81.0, \"Weight\": 585.2, \"Position\": \"PF\", \"Position_GF\": \"Forward\"}, {\"Height\": 80.0, \"Weight\": 528.0, \"Position\": \"F\", \"Position_GF\": \"Forward\"}, {\"Height\": 79.0, \"Weight\": 501.6, \"Position\": \"SF\", \"Position_GF\": \"Forward\"}, {\"Height\": 78.0, \"Weight\": 418.00000000000006, \"Position\": \"SF\", \"Position_GF\": \"Forward\"}, {\"Height\": 78.0, \"Weight\": 554.4000000000001, \"Position\": \"PF\", \"Position_GF\": \"Forward\"}, {\"Height\": 75.0, \"Weight\": 462.00000000000006, \"Position\": \"G\", \"Position_GF\": \"Guard\"}, {\"Height\": 83.0, \"Weight\": 517.0, \"Position\": \"PF\", \"Position_GF\": \"Forward\"}, {\"Height\": 82.0, \"Weight\": 484.00000000000006, \"Position\": \"PF\", \"Position_GF\": \"Forward\"}, {\"Height\": 84.0, \"Weight\": 583.0, \"Position\": \"C\", \"Position_GF\": \"Forward\"}, {\"Height\": 79.0, \"Weight\": 473.00000000000006, \"Position\": \"SF\", \"Position_GF\": \"Forward\"}, {\"Height\": 72.0, \"Weight\": 385.00000000000006, \"Position\": \"PG\", \"Position_GF\": \"Guard\"}, {\"Height\": 81.0, \"Weight\": 539.0, \"Position\": \"F-C\", \"Position_GF\": \"Forward\"}, {\"Height\": 82.0, \"Weight\": 517.0, \"Position\": \"FC\", \"Position_GF\": \"Forward\"}, {\"Height\": 80.0, \"Weight\": 484.00000000000006, \"Position\": \"SF\", \"Position_GF\": \"Forward\"}, {\"Height\": 82.0, \"Weight\": 495.00000000000006, \"Position\": \"PF\", \"Position_GF\": \"Forward\"}, {\"Height\": 79.0, \"Weight\": 462.00000000000006, \"Position\": \"SG\", \"Position_GF\": \"Guard\"}, {\"Height\": 76.0, \"Weight\": 418.00000000000006, \"Position\": \"G\", \"Position_GF\": \"Guard\"}, {\"Height\": 79.0, \"Weight\": 451.00000000000006, \"Position\": \"GF\", \"Position_GF\": \"Guard\"}, {\"Height\": 75.254, \"Weight\": 193.60000000000002, \"Position\": \"G\", \"Position_GF\": \"Guard\"}, {\"Height\": 81.0, \"Weight\": 488.40000000000003, \"Position\": \"GF\", \"Position_GF\": \"Guard\"}, {\"Height\": 82.0, \"Weight\": 506.00000000000006, \"Position\": \"F\", \"Position_GF\": \"Forward\"}, {\"Height\": 72.0, \"Weight\": 374.00000000000006, \"Position\": \"PG\", \"Position_GF\": \"Guard\"}, {\"Height\": 76.0, \"Weight\": 418.00000000000006, \"Position\": \"SG\", \"Position_GF\": \"Guard\"}, {\"Height\": 81.0, \"Weight\": 539.0, \"Position\": \"FC\", \"Position_GF\": \"Forward\"}, {\"Height\": 85.0, \"Weight\": 550.0, \"Position\": \"C\", \"Position_GF\": \"Forward\"}, {\"Height\": 81.0, \"Weight\": 550.0, \"Position\": \"PF\", \"Position_GF\": \"Forward\"}, {\"Height\": 79.194, \"Weight\": 220.00000000000003, \"Position\": \"GF\", \"Position_GF\": \"Guard\"}, {\"Height\": 83.0, \"Weight\": 594.0, \"Position\": \"C\", \"Position_GF\": \"Forward\"}, {\"Height\": 79.0, \"Weight\": 462.00000000000006, \"Position\": \"PF\", \"Position_GF\": \"Forward\"}, {\"Height\": 80.0, \"Weight\": 503.80000000000007, \"Position\": \"SF\", \"Position_GF\": \"Forward\"}, {\"Height\": 77.0, \"Weight\": 426.8, \"Position\": \"G\", \"Position_GF\": \"Guard\"}, {\"Height\": 78.0, \"Weight\": 451.00000000000006, \"Position\": \"SG\", \"Position_GF\": \"Guard\"}, {\"Height\": 75.0, \"Weight\": 440.00000000000006, \"Position\": \"PG\", \"Position_GF\": \"Guard\"}, {\"Height\": 75.0, \"Weight\": 418.00000000000006, \"Position\": \"PG\", \"Position_GF\": \"Guard\"}, {\"Height\": 75.0, \"Weight\": 407.00000000000006, \"Position\": \"G\", \"Position_GF\": \"Guard\"}, {\"Height\": 86.0, \"Weight\": 572.0, \"Position\": \"C\", \"Position_GF\": \"Forward\"}, {\"Height\": 76.042, \"Weight\": 220.00000000000003, \"Position\": \"SG\", \"Position_GF\": \"Guard\"}, {\"Height\": 84.0, \"Weight\": 539.0, \"Position\": \"PF\", \"Position_GF\": \"Forward\"}, {\"Height\": 79.0, \"Weight\": 440.00000000000006, \"Position\": \"SF\", \"Position_GF\": \"Forward\"}, {\"Height\": 79.0, \"Weight\": 506.00000000000006, \"Position\": \"F\", \"Position_GF\": \"Forward\"}, {\"Height\": 77.0, \"Weight\": 440.00000000000006, \"Position\": \"SG\", \"Position_GF\": \"Guard\"}, {\"Height\": 82.0, \"Weight\": 550.0, \"Position\": \"FC\", \"Position_GF\": \"Forward\"}, {\"Height\": 83.0, \"Weight\": 583.0, \"Position\": \"C\", \"Position_GF\": \"Forward\"}, {\"Height\": 76.0, \"Weight\": 484.00000000000006, \"Position\": \"SG\", \"Position_GF\": \"Guard\"}, {\"Height\": 78.0, \"Weight\": 440.00000000000006, \"Position\": \"G-F\", \"Position_GF\": \"Guard\"}, {\"Height\": 72.0, \"Weight\": 330.0, \"Position\": \"PG\", \"Position_GF\": \"Guard\"}, {\"Height\": 81.0, \"Weight\": 558.8000000000001, \"Position\": \"PF\", \"Position_GF\": \"Forward\"}, {\"Height\": 82.0, \"Weight\": 517.0, \"Position\": \"F\", \"Position_GF\": \"Forward\"}, {\"Height\": 75.0, \"Weight\": 374.00000000000006, \"Position\": \"PG\", \"Position_GF\": \"Guard\"}, {\"Height\": 76.0, \"Weight\": 396.00000000000006, \"Position\": \"G\", \"Position_GF\": \"Guard\"}, {\"Height\": 75.254, \"Weight\": 187.00000000000003, \"Position\": \"G\", \"Position_GF\": \"Guard\"}, {\"Height\": 79.0, \"Weight\": 484.00000000000006, \"Position\": \"F\", \"Position_GF\": \"Forward\"}, {\"Height\": 78.0, \"Weight\": 407.00000000000006, \"Position\": \"SG\", \"Position_GF\": \"Guard\"}, {\"Height\": 83.134, \"Weight\": 222.20000000000002, \"Position\": \"F\", \"Position_GF\": \"Forward\"}, {\"Height\": 75.0, \"Weight\": 420.20000000000005, \"Position\": \"G\", \"Position_GF\": \"Guard\"}, {\"Height\": 80.0, \"Weight\": 501.6, \"Position\": \"SF\", \"Position_GF\": \"Forward\"}, {\"Height\": 79.0, \"Weight\": 495.00000000000006, \"Position\": \"SF\", \"Position_GF\": \"Forward\"}, {\"Height\": 75.12700000000001, \"Weight\": 303.6, \"Position\": \"G\", \"Position_GF\": \"Guard\"}, {\"Height\": 79.982, \"Weight\": 224.4, \"Position\": \"GF\", \"Position_GF\": \"Guard\"}, {\"Height\": 80.0, \"Weight\": 495.00000000000006, \"Position\": \"SF\", \"Position_GF\": \"Forward\"}, {\"Height\": 78.0, \"Weight\": 477.40000000000003, \"Position\": \"G\", \"Position_GF\": \"Guard\"}, {\"Height\": 84.0, \"Weight\": 561.0, \"Position\": \"C\", \"Position_GF\": \"Forward\"}, {\"Height\": 79.0, \"Weight\": 462.00000000000006, \"Position\": \"GF\", \"Position_GF\": \"Guard\"}, {\"Height\": 83.922, \"Weight\": 264.0, \"Position\": \"C\", \"Position_GF\": \"Forward\"}, {\"Height\": 82.0, \"Weight\": 484.00000000000006, \"Position\": \"F\", \"Position_GF\": \"Forward\"}, {\"Height\": 82.0, \"Weight\": 532.4000000000001, \"Position\": \"C\", \"Position_GF\": \"Forward\"}, {\"Height\": 83.0, \"Weight\": 473.00000000000006, \"Position\": \"FC\", \"Position_GF\": \"Forward\"}, {\"Height\": 69.0, \"Weight\": 407.00000000000006, \"Position\": \"PG\", \"Position_GF\": \"Guard\"}, {\"Height\": 73.0, \"Weight\": 396.00000000000006, \"Position\": \"PG\", \"Position_GF\": \"Guard\"}, {\"Height\": 72.0, \"Weight\": 407.00000000000006, \"Position\": \"G\", \"Position_GF\": \"Guard\"}, {\"Height\": 78.0, \"Weight\": 495.00000000000006, \"Position\": \"SG\", \"Position_GF\": \"Guard\"}, {\"Height\": 83.0, \"Weight\": 506.00000000000006, \"Position\": \"C\", \"Position_GF\": \"Forward\"}, {\"Height\": 80.0, \"Weight\": 462.00000000000006, \"Position\": \"G\", \"Position_GF\": \"Guard\"}, {\"Height\": 83.0, \"Weight\": 569.8000000000001, \"Position\": \"C\", \"Position_GF\": \"Forward\"}, {\"Height\": 77.0, \"Weight\": 429.00000000000006, \"Position\": \"SG\", \"Position_GF\": \"Guard\"}, {\"Height\": 80.0, \"Weight\": 543.4000000000001, \"Position\": \"SF\", \"Position_GF\": \"Forward\"}, {\"Height\": 72.0, \"Weight\": 418.00000000000006, \"Position\": \"G\", \"Position_GF\": \"Guard\"}, {\"Height\": 77.112, \"Weight\": 352.00000000000006, \"Position\": \"SG\", \"Position_GF\": \"Guard\"}, {\"Height\": 81.0, \"Weight\": 572.0, \"Position\": \"C\", \"Position_GF\": \"Forward\"}, {\"Height\": 76.0, \"Weight\": 462.00000000000006, \"Position\": \"PG\", \"Position_GF\": \"Guard\"}, {\"Height\": 78.0, \"Weight\": 495.00000000000006, \"Position\": \"GF\", \"Position_GF\": \"Guard\"}, {\"Height\": 74.0, \"Weight\": 407.00000000000006, \"Position\": \"G\", \"Position_GF\": \"Guard\"}, {\"Height\": 82.0, \"Weight\": 539.0, \"Position\": \"FC\", \"Position_GF\": \"Forward\"}, {\"Height\": 76.0, \"Weight\": 451.00000000000006, \"Position\": \"SG\", \"Position_GF\": \"Guard\"}, {\"Height\": 82.0, \"Weight\": 528.0, \"Position\": \"C\", \"Position_GF\": \"Forward\"}, {\"Height\": 74.0, \"Weight\": 409.20000000000005, \"Position\": \"PG\", \"Position_GF\": \"Guard\"}, {\"Height\": 75.0, \"Weight\": 440.00000000000006, \"Position\": \"G\", \"Position_GF\": \"Guard\"}, {\"Height\": 83.0, \"Weight\": 517.0, \"Position\": \"FC\", \"Position_GF\": \"Forward\"}, {\"Height\": 78.0, \"Weight\": 479.6, \"Position\": \"SF\", \"Position_GF\": \"Forward\"}, {\"Height\": 79.194, \"Weight\": 231.00000000000003, \"Position\": \"GF\", \"Position_GF\": \"Guard\"}, {\"Height\": 75.0, \"Weight\": 418.00000000000006, \"Position\": \"SG\", \"Position_GF\": \"Guard\"}, {\"Height\": 79.0, \"Weight\": 528.0, \"Position\": \"SG\", \"Position_GF\": \"Guard\"}, {\"Height\": 83.922, \"Weight\": 248.60000000000002, \"Position\": \"C\", \"Position_GF\": \"Forward\"}, {\"Height\": 73.0, \"Weight\": 374.00000000000006, \"Position\": \"PG\", \"Position_GF\": \"Guard\"}, {\"Height\": 76.0, \"Weight\": 462.00000000000006, \"Position\": \"PG\", \"Position_GF\": \"Guard\"}, {\"Height\": 77.0, \"Weight\": 429.00000000000006, \"Position\": \"G\", \"Position_GF\": \"Guard\"}, {\"Height\": 79.0, \"Weight\": 462.00000000000006, \"Position\": \"GF\", \"Position_GF\": \"Guard\"}, {\"Height\": 81.0, \"Weight\": 495.00000000000006, \"Position\": \"PF\", \"Position_GF\": \"Forward\"}, {\"Height\": 78.0, \"Weight\": 440.00000000000006, \"Position\": \"SF\", \"Position_GF\": \"Forward\"}, {\"Height\": 81.0, \"Weight\": 528.0, \"Position\": \"PF\", \"Position_GF\": \"Forward\"}, {\"Height\": 86.0, \"Weight\": 495.00000000000006, \"Position\": \"C\", \"Position_GF\": \"Forward\"}, {\"Height\": 81.0, \"Weight\": 583.0, \"Position\": \"PF\", \"Position_GF\": \"Forward\"}, {\"Height\": 83.922, \"Weight\": 244.20000000000002, \"Position\": \"C\", \"Position_GF\": \"Forward\"}, {\"Height\": 79.09700000000001, \"Weight\": 367.40000000000003, \"Position\": \"F\", \"Position_GF\": \"Forward\"}, {\"Height\": 73.0, \"Weight\": 404.8, \"Position\": \"G\", \"Position_GF\": \"Guard\"}, {\"Height\": 80.0, \"Weight\": 501.6, \"Position\": \"F\", \"Position_GF\": \"Forward\"}, {\"Height\": 72.0, \"Weight\": 369.6, \"Position\": \"PG\", \"Position_GF\": \"Guard\"}, {\"Height\": 75.0, \"Weight\": 374.00000000000006, \"Position\": \"PG\", \"Position_GF\": \"Guard\"}, {\"Height\": 81.0, \"Weight\": 528.0, \"Position\": \"F\", \"Position_GF\": \"Forward\"}, {\"Height\": 81.0, \"Weight\": 528.0, \"Position\": \"SF\", \"Position_GF\": \"Forward\"}, {\"Height\": 83.0, \"Weight\": 528.0, \"Position\": \"PF\", \"Position_GF\": \"Forward\"}, {\"Height\": 73.0, \"Weight\": 396.00000000000006, \"Position\": \"PG\", \"Position_GF\": \"Guard\"}, {\"Height\": 82.0, \"Weight\": 552.2, \"Position\": \"FC\", \"Position_GF\": \"Forward\"}, {\"Height\": 79.0, \"Weight\": 437.8, \"Position\": \"SG\", \"Position_GF\": \"Guard\"}, {\"Height\": 84.0, \"Weight\": 539.0, \"Position\": \"C\", \"Position_GF\": \"Forward\"}, {\"Height\": 79.982, \"Weight\": 233.20000000000002, \"Position\": \"SF\", \"Position_GF\": \"Forward\"}, {\"Height\": 79.0, \"Weight\": 473.00000000000006, \"Position\": \"G\", \"Position_GF\": \"Guard\"}, {\"Height\": 78.0, \"Weight\": 466.40000000000003, \"Position\": \"SG\", \"Position_GF\": \"Guard\"}, {\"Height\": 87.074, \"Weight\": 239.8, \"Position\": \"FC\", \"Position_GF\": \"Forward\"}, {\"Height\": 81.0, \"Weight\": 528.0, \"Position\": \"FC\", \"Position_GF\": \"Forward\"}, {\"Height\": 73.0, \"Weight\": 431.20000000000005, \"Position\": \"PG\", \"Position_GF\": \"Guard\"}, {\"Height\": 75.0, \"Weight\": 424.6, \"Position\": \"G\", \"Position_GF\": \"Guard\"}, {\"Height\": 83.0, \"Weight\": 572.0, \"Position\": \"FC\", \"Position_GF\": \"Forward\"}, {\"Height\": 82.0, \"Weight\": 506.00000000000006, \"Position\": \"PF\", \"Position_GF\": \"Forward\"}, {\"Height\": 81.0, \"Weight\": 484.00000000000006, \"Position\": \"SF\", \"Position_GF\": \"Forward\"}, {\"Height\": 77.0, \"Weight\": 404.8, \"Position\": \"G\", \"Position_GF\": \"Guard\"}, {\"Height\": 78.0, \"Weight\": 550.0, \"Position\": \"F\", \"Position_GF\": \"Forward\"}, {\"Height\": 82.0, \"Weight\": 451.00000000000006, \"Position\": \"PF\", \"Position_GF\": \"Forward\"}, {\"Height\": 80.0, \"Weight\": 473.00000000000006, \"Position\": \"PF\", \"Position_GF\": \"Forward\"}, {\"Height\": 80.0, \"Weight\": 550.0, \"Position\": \"F\", \"Position_GF\": \"Forward\"}, {\"Height\": 79.0, \"Weight\": 462.00000000000006, \"Position\": \"SF\", \"Position_GF\": \"Forward\"}, {\"Height\": 72.89, \"Weight\": 173.8, \"Position\": \"G\", \"Position_GF\": \"Guard\"}, {\"Height\": 81.0, \"Weight\": 506.00000000000006, \"Position\": \"PF\", \"Position_GF\": \"Forward\"}, {\"Height\": 77.0, \"Weight\": 418.00000000000006, \"Position\": \"SG\", \"Position_GF\": \"Guard\"}, {\"Height\": 81.0, \"Weight\": 561.0, \"Position\": \"PG\", \"Position_GF\": \"Guard\"}, {\"Height\": 78.0, \"Weight\": 451.00000000000006, \"Position\": \"SG\", \"Position_GF\": \"Guard\"}, {\"Height\": 85.05199999999999, \"Weight\": 408.1, \"Position\": \"C\", \"Position_GF\": \"Forward\"}, {\"Height\": 83.0, \"Weight\": 528.0, \"Position\": \"FC\", \"Position_GF\": \"Forward\"}, {\"Height\": 83.0, \"Weight\": 528.0, \"Position\": \"C\", \"Position_GF\": \"Forward\"}, {\"Height\": 78.0, \"Weight\": 510.40000000000003, \"Position\": \"SF\", \"Position_GF\": \"Forward\"}, {\"Height\": 73.0, \"Weight\": 396.00000000000006, \"Position\": \"PG\", \"Position_GF\": \"Guard\"}, {\"Height\": 82.0, \"Weight\": 539.0, \"Position\": \"PF\", \"Position_GF\": \"Forward\"}, {\"Height\": 83.0, \"Weight\": 547.8000000000001, \"Position\": \"FC\", \"Position_GF\": \"Forward\"}, {\"Height\": 79.0, \"Weight\": 572.0, \"Position\": \"SF\", \"Position_GF\": \"Forward\"}, {\"Height\": 70.0, \"Weight\": 358.6, \"Position\": \"PG\", \"Position_GF\": \"Guard\"}, {\"Height\": 78.0, \"Weight\": 418.00000000000006, \"Position\": \"PG\", \"Position_GF\": \"Guard\"}, {\"Height\": 79.0, \"Weight\": 495.00000000000006, \"Position\": \"G-F\", \"Position_GF\": \"Guard\"}, {\"Height\": 78.0, \"Weight\": 473.00000000000006, \"Position\": \"SG\", \"Position_GF\": \"Guard\"}, {\"Height\": 78.0, \"Weight\": 484.00000000000006, \"Position\": \"G\", \"Position_GF\": \"Guard\"}, {\"Height\": 77.0, \"Weight\": 415.8, \"Position\": \"PG\", \"Position_GF\": \"Guard\"}, {\"Height\": 74.0, \"Weight\": 429.00000000000006, \"Position\": \"G\", \"Position_GF\": \"Guard\"}, {\"Height\": 74.0, \"Weight\": 413.6, \"Position\": \"G\", \"Position_GF\": \"Guard\"}, {\"Height\": 77.0, \"Weight\": 473.00000000000006, \"Position\": \"SG\", \"Position_GF\": \"Guard\"}, {\"Height\": 73.0, \"Weight\": 435.6, \"Position\": \"G\", \"Position_GF\": \"Guard\"}, {\"Height\": 75.0, \"Weight\": 407.00000000000006, \"Position\": \"G\", \"Position_GF\": \"Guard\"}, {\"Height\": 73.0, \"Weight\": 418.00000000000006, \"Position\": \"PG\", \"Position_GF\": \"Guard\"}, {\"Height\": 82.0, \"Weight\": 473.00000000000006, \"Position\": \"C\", \"Position_GF\": \"Forward\"}, {\"Height\": 69.0, \"Weight\": 396.00000000000006, \"Position\": \"G\", \"Position_GF\": \"Guard\"}, {\"Height\": 78.0, \"Weight\": 501.6, \"Position\": \"GF\", \"Position_GF\": \"Guard\"}, {\"Height\": 80.0, \"Weight\": 440.00000000000006, \"Position\": \"F\", \"Position_GF\": \"Forward\"}, {\"Height\": 81.952, \"Weight\": 248.60000000000002, \"Position\": \"C\", \"Position_GF\": \"Forward\"}, {\"Height\": 83.0, \"Weight\": 675.4000000000001, \"Position\": \"PF\", \"Position_GF\": \"Forward\"}, {\"Height\": 84.0, \"Weight\": 572.0, \"Position\": \"PF\", \"Position_GF\": \"Forward\"}, {\"Height\": 81.0, \"Weight\": 616.0, \"Position\": \"C\", \"Position_GF\": \"Forward\"}, {\"Height\": 81.0, \"Weight\": 473.00000000000006, \"Position\": \"PF\", \"Position_GF\": \"Forward\"}, {\"Height\": 81.0, \"Weight\": 495.00000000000006, \"Position\": \"PF\", \"Position_GF\": \"Forward\"}, {\"Height\": 84.0, \"Weight\": 528.0, \"Position\": \"C\", \"Position_GF\": \"Forward\"}, {\"Height\": 84.0, \"Weight\": 550.0, \"Position\": \"FC\", \"Position_GF\": \"Forward\"}, {\"Height\": 81.0, \"Weight\": 484.00000000000006, \"Position\": \"GF\", \"Position_GF\": \"Guard\"}, {\"Height\": 80.0, \"Weight\": 541.2, \"Position\": \"FC\", \"Position_GF\": \"Forward\"}, {\"Height\": 79.0, \"Weight\": 517.0, \"Position\": \"SF\", \"Position_GF\": \"Forward\"}, {\"Height\": 82.0, \"Weight\": 503.80000000000007, \"Position\": \"F\", \"Position_GF\": \"Forward\"}, {\"Height\": 79.0, \"Weight\": 429.00000000000006, \"Position\": \"PG\", \"Position_GF\": \"Guard\"}, {\"Height\": 81.0, \"Weight\": 462.00000000000006, \"Position\": \"C\", \"Position_GF\": \"Forward\"}, {\"Height\": 78.0, \"Weight\": 490.6, \"Position\": \"GF\", \"Position_GF\": \"Guard\"}, {\"Height\": 73.0, \"Weight\": 409.20000000000005, \"Position\": \"PG\", \"Position_GF\": \"Guard\"}, {\"Height\": 82.0, \"Weight\": 517.0, \"Position\": \"F\", \"Position_GF\": \"Forward\"}, {\"Height\": 83.0, \"Weight\": 506.00000000000006, \"Position\": \"FC\", \"Position_GF\": \"Forward\"}, {\"Height\": 77.0, \"Weight\": 451.00000000000006, \"Position\": \"SG\", \"Position_GF\": \"Guard\"}, {\"Height\": 75.0, \"Weight\": 457.6, \"Position\": \"G\", \"Position_GF\": \"Guard\"}, {\"Height\": 79.0, \"Weight\": 429.00000000000006, \"Position\": \"SF\", \"Position_GF\": \"Forward\"}, {\"Height\": 79.0, \"Weight\": 407.00000000000006, \"Position\": \"SG\", \"Position_GF\": \"Guard\"}, {\"Height\": 79.0, \"Weight\": 424.6, \"Position\": \"SG\", \"Position_GF\": \"Guard\"}, {\"Height\": 79.0, \"Weight\": 512.6, \"Position\": \"SF\", \"Position_GF\": \"Forward\"}, {\"Height\": 76.0, \"Weight\": 451.00000000000006, \"Position\": \"SG\", \"Position_GF\": \"Guard\"}, {\"Height\": 88.0, \"Weight\": 550.0, \"Position\": \"C\", \"Position_GF\": \"Forward\"}, {\"Height\": 84.0, \"Weight\": 506.00000000000006, \"Position\": \"C\", \"Position_GF\": \"Forward\"}, {\"Height\": 75.0, \"Weight\": 385.00000000000006, \"Position\": \"PG\", \"Position_GF\": \"Guard\"}, {\"Height\": 77.0, \"Weight\": 451.00000000000006, \"Position\": \"G\", \"Position_GF\": \"Guard\"}, {\"Height\": 78.0, \"Weight\": 407.00000000000006, \"Position\": \"SG\", \"Position_GF\": \"Guard\"}, {\"Height\": 83.0, \"Weight\": 506.00000000000006, \"Position\": \"C\", \"Position_GF\": \"Forward\"}, {\"Height\": 83.0, \"Weight\": 506.00000000000006, \"Position\": \"PF\", \"Position_GF\": \"Forward\"}, {\"Height\": 74.0, \"Weight\": 429.00000000000006, \"Position\": \"PG\", \"Position_GF\": \"Guard\"}, {\"Height\": 75.0, \"Weight\": 440.00000000000006, \"Position\": \"G\", \"Position_GF\": \"Guard\"}, {\"Height\": 75.0, \"Weight\": 407.00000000000006, \"Position\": \"G\", \"Position_GF\": \"Guard\"}, {\"Height\": 73.0, \"Weight\": 396.00000000000006, \"Position\": \"PG\", \"Position_GF\": \"Guard\"}, {\"Height\": 80.0, \"Weight\": 501.6, \"Position\": \"SF\", \"Position_GF\": \"Forward\"}, {\"Height\": 80.0, \"Weight\": 451.00000000000006, \"Position\": \"SF\", \"Position_GF\": \"Forward\"}, {\"Height\": 85.0, \"Weight\": 715.0000000000001, \"Position\": \"C\", \"Position_GF\": \"Forward\"}, {\"Height\": 81.0, \"Weight\": 495.00000000000006, \"Position\": \"F\", \"Position_GF\": \"Forward\"}, {\"Height\": 82.0, \"Weight\": 616.0, \"Position\": \"C\", \"Position_GF\": \"Forward\"}, {\"Height\": 79.0, \"Weight\": 501.6, \"Position\": \"F\", \"Position_GF\": \"Forward\"}, {\"Height\": 75.0, \"Weight\": 396.00000000000006, \"Position\": \"SG\", \"Position_GF\": \"Guard\"}, {\"Height\": 75.0, \"Weight\": 374.00000000000006, \"Position\": \"PG\", \"Position_GF\": \"Guard\"}, {\"Height\": 75.0, \"Weight\": 418.00000000000006, \"Position\": \"G\", \"Position_GF\": \"Guard\"}, {\"Height\": 80.0, \"Weight\": 484.00000000000006, \"Position\": \"GF\", \"Position_GF\": \"Guard\"}, {\"Height\": 74.0, \"Weight\": 396.00000000000006, \"Position\": \"G\", \"Position_GF\": \"Guard\"}, {\"Height\": 75.0, \"Weight\": 429.00000000000006, \"Position\": \"G\", \"Position_GF\": \"Guard\"}, {\"Height\": 75.0, \"Weight\": 391.6, \"Position\": \"G\", \"Position_GF\": \"Guard\"}, {\"Height\": 79.0, \"Weight\": 440.00000000000006, \"Position\": \"SG\", \"Position_GF\": \"Guard\"}, {\"Height\": 72.0, \"Weight\": 363.00000000000006, \"Position\": \"PG\", \"Position_GF\": \"Guard\"}, {\"Height\": 71.0, \"Weight\": 396.00000000000006, \"Position\": \"PG\", \"Position_GF\": \"Guard\"}, {\"Height\": 81.0, \"Weight\": 484.00000000000006, \"Position\": \"PF\", \"Position_GF\": \"Forward\"}, {\"Height\": 82.0, \"Weight\": 506.00000000000006, \"Position\": \"PF\", \"Position_GF\": \"Forward\"}, {\"Height\": 77.0, \"Weight\": 429.00000000000006, \"Position\": \"SG\", \"Position_GF\": \"Guard\"}, {\"Height\": 80.0, \"Weight\": 486.20000000000005, \"Position\": \"F\", \"Position_GF\": \"Forward\"}, {\"Height\": 83.0, \"Weight\": 550.0, \"Position\": \"FC\", \"Position_GF\": \"Forward\"}, {\"Height\": 72.0, \"Weight\": 385.00000000000006, \"Position\": \"PG\", \"Position_GF\": \"Guard\"}, {\"Height\": 81.164, \"Weight\": 235.4, \"Position\": \"F\", \"Position_GF\": \"Forward\"}, {\"Height\": 82.0, \"Weight\": 484.00000000000006, \"Position\": \"PF\", \"Position_GF\": \"Forward\"}, {\"Height\": 83.0, \"Weight\": 473.00000000000006, \"Position\": \"PF\", \"Position_GF\": \"Forward\"}, {\"Height\": 74.0, \"Weight\": 407.00000000000006, \"Position\": \"G\", \"Position_GF\": \"Guard\"}, {\"Height\": 80.0, \"Weight\": 462.00000000000006, \"Position\": \"GF\", \"Position_GF\": \"Guard\"}, {\"Height\": 71.0, \"Weight\": 429.00000000000006, \"Position\": \"PG\", \"Position_GF\": \"Guard\"}, {\"Height\": 77.0, \"Weight\": 407.00000000000006, \"Position\": \"G\", \"Position_GF\": \"Guard\"}, {\"Height\": 76.042, \"Weight\": 209.00000000000003, \"Position\": \"G\", \"Position_GF\": \"Guard\"}, {\"Height\": 78.0, \"Weight\": 484.00000000000006, \"Position\": \"SF\", \"Position_GF\": \"Forward\"}, {\"Height\": 85.0, \"Weight\": 572.0, \"Position\": \"C\", \"Position_GF\": \"Forward\"}, {\"Height\": 76.0, \"Weight\": 451.00000000000006, \"Position\": \"SG\", \"Position_GF\": \"Guard\"}, {\"Height\": 78.0, \"Weight\": 429.00000000000006, \"Position\": \"SG\", \"Position_GF\": \"Guard\"}, {\"Height\": 74.0, \"Weight\": 407.00000000000006, \"Position\": \"G\", \"Position_GF\": \"Guard\"}, {\"Height\": 79.0, \"Weight\": 451.00000000000006, \"Position\": \"PF\", \"Position_GF\": \"Forward\"}, {\"Height\": 90.0, \"Weight\": 682.0, \"Position\": \"C\", \"Position_GF\": \"Forward\"}, {\"Height\": 81.0, \"Weight\": 572.0, \"Position\": \"PF\", \"Position_GF\": \"Forward\"}, {\"Height\": 87.0, \"Weight\": 572.0, \"Position\": \"C\", \"Position_GF\": \"Forward\"}]}}, {\"mode\": \"vega-lite\"});\n",
       "</script>"
      ],
      "text/plain": [
       "alt.Chart(...)"
      ]
     },
     "execution_count": 15,
     "metadata": {},
     "output_type": "execute_result"
    }
   ],
   "source": [
    "# Version A\n",
    "chart = alt.Chart(nba).mark_bar().encode(\n",
    "    x=alt.X('Position_GF', axis=alt.Axis(title='Position')),\n",
    "    y=alt.Y('Height')\n",
    ")\n",
    "chart"
   ]
  },
  {
   "cell_type": "code",
   "execution_count": 16,
   "metadata": {},
   "outputs": [
    {
     "data": {
      "text/html": [
       "\n",
       "<div id=\"altair-viz-043bc8adb6ee47139eb14f255ef94512\"></div>\n",
       "<script type=\"text/javascript\">\n",
       "  (function(spec, embedOpt){\n",
       "    let outputDiv = document.currentScript.previousElementSibling;\n",
       "    if (outputDiv.id !== \"altair-viz-043bc8adb6ee47139eb14f255ef94512\") {\n",
       "      outputDiv = document.getElementById(\"altair-viz-043bc8adb6ee47139eb14f255ef94512\");\n",
       "    }\n",
       "    const paths = {\n",
       "      \"vega\": \"https://cdn.jsdelivr.net/npm//vega@5?noext\",\n",
       "      \"vega-lib\": \"https://cdn.jsdelivr.net/npm//vega-lib?noext\",\n",
       "      \"vega-lite\": \"https://cdn.jsdelivr.net/npm//vega-lite@4.8.1?noext\",\n",
       "      \"vega-embed\": \"https://cdn.jsdelivr.net/npm//vega-embed@6?noext\",\n",
       "    };\n",
       "\n",
       "    function loadScript(lib) {\n",
       "      return new Promise(function(resolve, reject) {\n",
       "        var s = document.createElement('script');\n",
       "        s.src = paths[lib];\n",
       "        s.async = true;\n",
       "        s.onload = () => resolve(paths[lib]);\n",
       "        s.onerror = () => reject(`Error loading script: ${paths[lib]}`);\n",
       "        document.getElementsByTagName(\"head\")[0].appendChild(s);\n",
       "      });\n",
       "    }\n",
       "\n",
       "    function showError(err) {\n",
       "      outputDiv.innerHTML = `<div class=\"error\" style=\"color:red;\">${err}</div>`;\n",
       "      throw err;\n",
       "    }\n",
       "\n",
       "    function displayChart(vegaEmbed) {\n",
       "      vegaEmbed(outputDiv, spec, embedOpt)\n",
       "        .catch(err => showError(`Javascript Error: ${err.message}<br>This usually means there's a typo in your chart specification. See the javascript console for the full traceback.`));\n",
       "    }\n",
       "\n",
       "    if(typeof define === \"function\" && define.amd) {\n",
       "      requirejs.config({paths});\n",
       "      require([\"vega-embed\"], displayChart, err => showError(`Error loading script: ${err.message}`));\n",
       "    } else if (typeof vegaEmbed === \"function\") {\n",
       "      displayChart(vegaEmbed);\n",
       "    } else {\n",
       "      loadScript(\"vega\")\n",
       "        .then(() => loadScript(\"vega-lite\"))\n",
       "        .then(() => loadScript(\"vega-embed\"))\n",
       "        .catch(showError)\n",
       "        .then(() => displayChart(vegaEmbed));\n",
       "    }\n",
       "  })({\"config\": {\"view\": {\"continuousWidth\": 400, \"continuousHeight\": 300}}, \"data\": {\"name\": \"data-c026105d3c7e6726333173eb37882f52\"}, \"mark\": \"bar\", \"encoding\": {\"x\": {\"type\": \"nominal\", \"axis\": {\"title\": \"Position\"}, \"field\": \"Position_GF\"}, \"y\": {\"type\": \"quantitative\", \"field\": \"Weight\"}}, \"$schema\": \"https://vega.github.io/schema/vega-lite/v4.8.1.json\", \"datasets\": {\"data-c026105d3c7e6726333173eb37882f52\": [{\"Height\": 77.0, \"Weight\": 459.8, \"Position\": \"G\", \"Position_GF\": \"Guard\"}, {\"Height\": 77.0, \"Weight\": 457.6, \"Position\": \"SF\", \"Position_GF\": \"Forward\"}, {\"Height\": 81.0, \"Weight\": 539.0, \"Position\": \"F\", \"Position_GF\": \"Forward\"}, {\"Height\": 82.0, \"Weight\": 539.0, \"Position\": \"FC\", \"Position_GF\": \"Forward\"}, {\"Height\": 82.0, \"Weight\": 635.8000000000001, \"Position\": \"FC\", \"Position_GF\": \"Forward\"}, {\"Height\": 79.0, \"Weight\": 418.00000000000006, \"Position\": \"SF\", \"Position_GF\": \"Forward\"}, {\"Height\": 78.0, \"Weight\": 451.00000000000006, \"Position\": \"G\", \"Position_GF\": \"Guard\"}, {\"Height\": 72.0, \"Weight\": 363.00000000000006, \"Position\": \"G\", \"Position_GF\": \"Guard\"}, {\"Height\": 82.0, \"Weight\": 528.0, \"Position\": \"C\", \"Position_GF\": \"Forward\"}, {\"Height\": 75.0, \"Weight\": 407.00000000000006, \"Position\": \"SG\", \"Position_GF\": \"Guard\"}, {\"Height\": 82.0, \"Weight\": 539.0, \"Position\": \"FC\", \"Position_GF\": \"Forward\"}, {\"Height\": 83.0, \"Weight\": 613.8000000000001, \"Position\": \"C\", \"Position_GF\": \"Forward\"}, {\"Height\": 75.0, \"Weight\": 440.00000000000006, \"Position\": \"PG\", \"Position_GF\": \"Guard\"}, {\"Height\": 81.0, \"Weight\": 517.0, \"Position\": \"PF\", \"Position_GF\": \"Forward\"}, {\"Height\": 84.0, \"Weight\": 572.0, \"Position\": \"C\", \"Position_GF\": \"Forward\"}, {\"Height\": 84.0, \"Weight\": 627.0, \"Position\": \"C\", \"Position_GF\": \"Forward\"}, {\"Height\": 81.0, \"Weight\": 517.0, \"Position\": \"F\", \"Position_GF\": \"Forward\"}, {\"Height\": 81.952, \"Weight\": 253.00000000000003, \"Position\": \"PF\", \"Position_GF\": \"Forward\"}, {\"Height\": 81.0, \"Weight\": 583.0, \"Position\": \"F\", \"Position_GF\": \"Forward\"}, {\"Height\": 81.0, \"Weight\": 539.0, \"Position\": \"F\", \"Position_GF\": \"Forward\"}, {\"Height\": 81.0, \"Weight\": 506.00000000000006, \"Position\": \"PF\", \"Position_GF\": \"Forward\"}, {\"Height\": 87.0, \"Weight\": 613.8000000000001, \"Position\": \"C\", \"Position_GF\": \"Forward\"}, {\"Height\": 75.0, \"Weight\": 473.00000000000006, \"Position\": \"G\", \"Position_GF\": \"Guard\"}, {\"Height\": 75.0, \"Weight\": 440.00000000000006, \"Position\": \"SG\", \"Position_GF\": \"Guard\"}, {\"Height\": 81.952, \"Weight\": 228.8, \"Position\": \"PF\", \"Position_GF\": \"Forward\"}, {\"Height\": 81.0, \"Weight\": 528.0, \"Position\": \"FC\", \"Position_GF\": \"Forward\"}, {\"Height\": 79.0, \"Weight\": 451.00000000000006, \"Position\": \"SF\", \"Position_GF\": \"Forward\"}, {\"Height\": 82.0, \"Weight\": 552.2, \"Position\": \"PF\", \"Position_GF\": \"Forward\"}, {\"Height\": 78.0, \"Weight\": 418.00000000000006, \"Position\": \"SG\", \"Position_GF\": \"Guard\"}, {\"Height\": 84.0, \"Weight\": 539.0, \"Position\": \"C\", \"Position_GF\": \"Forward\"}, {\"Height\": 84.0, \"Weight\": 574.2, \"Position\": \"C\", \"Position_GF\": \"Forward\"}, {\"Height\": 77.224, \"Weight\": 206.8, \"Position\": \"SG\", \"Position_GF\": \"Guard\"}, {\"Height\": 73.0, \"Weight\": 374.00000000000006, \"Position\": \"G\", \"Position_GF\": \"Guard\"}, {\"Height\": 78.0, \"Weight\": 464.20000000000005, \"Position\": \"G\", \"Position_GF\": \"Guard\"}, {\"Height\": 84.0, \"Weight\": 589.6, \"Position\": \"C\", \"Position_GF\": \"Forward\"}, {\"Height\": 79.0, \"Weight\": 440.00000000000006, \"Position\": \"F\", \"Position_GF\": \"Forward\"}, {\"Height\": 80.0, \"Weight\": 473.00000000000006, \"Position\": \"PF\", \"Position_GF\": \"Forward\"}, {\"Height\": 75.0, \"Weight\": 429.00000000000006, \"Position\": \"SG\", \"Position_GF\": \"Guard\"}, {\"Height\": 78.0, \"Weight\": 484.00000000000006, \"Position\": \"F\", \"Position_GF\": \"Forward\"}, {\"Height\": 81.0, \"Weight\": 585.2, \"Position\": \"PF\", \"Position_GF\": \"Forward\"}, {\"Height\": 80.0, \"Weight\": 528.0, \"Position\": \"F\", \"Position_GF\": \"Forward\"}, {\"Height\": 79.0, \"Weight\": 501.6, \"Position\": \"SF\", \"Position_GF\": \"Forward\"}, {\"Height\": 78.0, \"Weight\": 418.00000000000006, \"Position\": \"SF\", \"Position_GF\": \"Forward\"}, {\"Height\": 78.0, \"Weight\": 554.4000000000001, \"Position\": \"PF\", \"Position_GF\": \"Forward\"}, {\"Height\": 75.0, \"Weight\": 462.00000000000006, \"Position\": \"G\", \"Position_GF\": \"Guard\"}, {\"Height\": 83.0, \"Weight\": 517.0, \"Position\": \"PF\", \"Position_GF\": \"Forward\"}, {\"Height\": 82.0, \"Weight\": 484.00000000000006, \"Position\": \"PF\", \"Position_GF\": \"Forward\"}, {\"Height\": 84.0, \"Weight\": 583.0, \"Position\": \"C\", \"Position_GF\": \"Forward\"}, {\"Height\": 79.0, \"Weight\": 473.00000000000006, \"Position\": \"SF\", \"Position_GF\": \"Forward\"}, {\"Height\": 72.0, \"Weight\": 385.00000000000006, \"Position\": \"PG\", \"Position_GF\": \"Guard\"}, {\"Height\": 81.0, \"Weight\": 539.0, \"Position\": \"F-C\", \"Position_GF\": \"Forward\"}, {\"Height\": 82.0, \"Weight\": 517.0, \"Position\": \"FC\", \"Position_GF\": \"Forward\"}, {\"Height\": 80.0, \"Weight\": 484.00000000000006, \"Position\": \"SF\", \"Position_GF\": \"Forward\"}, {\"Height\": 82.0, \"Weight\": 495.00000000000006, \"Position\": \"PF\", \"Position_GF\": \"Forward\"}, {\"Height\": 79.0, \"Weight\": 462.00000000000006, \"Position\": \"SG\", \"Position_GF\": \"Guard\"}, {\"Height\": 76.0, \"Weight\": 418.00000000000006, \"Position\": \"G\", \"Position_GF\": \"Guard\"}, {\"Height\": 79.0, \"Weight\": 451.00000000000006, \"Position\": \"GF\", \"Position_GF\": \"Guard\"}, {\"Height\": 75.254, \"Weight\": 193.60000000000002, \"Position\": \"G\", \"Position_GF\": \"Guard\"}, {\"Height\": 81.0, \"Weight\": 488.40000000000003, \"Position\": \"GF\", \"Position_GF\": \"Guard\"}, {\"Height\": 82.0, \"Weight\": 506.00000000000006, \"Position\": \"F\", \"Position_GF\": \"Forward\"}, {\"Height\": 72.0, \"Weight\": 374.00000000000006, \"Position\": \"PG\", \"Position_GF\": \"Guard\"}, {\"Height\": 76.0, \"Weight\": 418.00000000000006, \"Position\": \"SG\", \"Position_GF\": \"Guard\"}, {\"Height\": 81.0, \"Weight\": 539.0, \"Position\": \"FC\", \"Position_GF\": \"Forward\"}, {\"Height\": 85.0, \"Weight\": 550.0, \"Position\": \"C\", \"Position_GF\": \"Forward\"}, {\"Height\": 81.0, \"Weight\": 550.0, \"Position\": \"PF\", \"Position_GF\": \"Forward\"}, {\"Height\": 79.194, \"Weight\": 220.00000000000003, \"Position\": \"GF\", \"Position_GF\": \"Guard\"}, {\"Height\": 83.0, \"Weight\": 594.0, \"Position\": \"C\", \"Position_GF\": \"Forward\"}, {\"Height\": 79.0, \"Weight\": 462.00000000000006, \"Position\": \"PF\", \"Position_GF\": \"Forward\"}, {\"Height\": 80.0, \"Weight\": 503.80000000000007, \"Position\": \"SF\", \"Position_GF\": \"Forward\"}, {\"Height\": 77.0, \"Weight\": 426.8, \"Position\": \"G\", \"Position_GF\": \"Guard\"}, {\"Height\": 78.0, \"Weight\": 451.00000000000006, \"Position\": \"SG\", \"Position_GF\": \"Guard\"}, {\"Height\": 75.0, \"Weight\": 440.00000000000006, \"Position\": \"PG\", \"Position_GF\": \"Guard\"}, {\"Height\": 75.0, \"Weight\": 418.00000000000006, \"Position\": \"PG\", \"Position_GF\": \"Guard\"}, {\"Height\": 75.0, \"Weight\": 407.00000000000006, \"Position\": \"G\", \"Position_GF\": \"Guard\"}, {\"Height\": 86.0, \"Weight\": 572.0, \"Position\": \"C\", \"Position_GF\": \"Forward\"}, {\"Height\": 76.042, \"Weight\": 220.00000000000003, \"Position\": \"SG\", \"Position_GF\": \"Guard\"}, {\"Height\": 84.0, \"Weight\": 539.0, \"Position\": \"PF\", \"Position_GF\": \"Forward\"}, {\"Height\": 79.0, \"Weight\": 440.00000000000006, \"Position\": \"SF\", \"Position_GF\": \"Forward\"}, {\"Height\": 79.0, \"Weight\": 506.00000000000006, \"Position\": \"F\", \"Position_GF\": \"Forward\"}, {\"Height\": 77.0, \"Weight\": 440.00000000000006, \"Position\": \"SG\", \"Position_GF\": \"Guard\"}, {\"Height\": 82.0, \"Weight\": 550.0, \"Position\": \"FC\", \"Position_GF\": \"Forward\"}, {\"Height\": 83.0, \"Weight\": 583.0, \"Position\": \"C\", \"Position_GF\": \"Forward\"}, {\"Height\": 76.0, \"Weight\": 484.00000000000006, \"Position\": \"SG\", \"Position_GF\": \"Guard\"}, {\"Height\": 78.0, \"Weight\": 440.00000000000006, \"Position\": \"G-F\", \"Position_GF\": \"Guard\"}, {\"Height\": 72.0, \"Weight\": 330.0, \"Position\": \"PG\", \"Position_GF\": \"Guard\"}, {\"Height\": 81.0, \"Weight\": 558.8000000000001, \"Position\": \"PF\", \"Position_GF\": \"Forward\"}, {\"Height\": 82.0, \"Weight\": 517.0, \"Position\": \"F\", \"Position_GF\": \"Forward\"}, {\"Height\": 75.0, \"Weight\": 374.00000000000006, \"Position\": \"PG\", \"Position_GF\": \"Guard\"}, {\"Height\": 76.0, \"Weight\": 396.00000000000006, \"Position\": \"G\", \"Position_GF\": \"Guard\"}, {\"Height\": 75.254, \"Weight\": 187.00000000000003, \"Position\": \"G\", \"Position_GF\": \"Guard\"}, {\"Height\": 79.0, \"Weight\": 484.00000000000006, \"Position\": \"F\", \"Position_GF\": \"Forward\"}, {\"Height\": 78.0, \"Weight\": 407.00000000000006, \"Position\": \"SG\", \"Position_GF\": \"Guard\"}, {\"Height\": 83.134, \"Weight\": 222.20000000000002, \"Position\": \"F\", \"Position_GF\": \"Forward\"}, {\"Height\": 75.0, \"Weight\": 420.20000000000005, \"Position\": \"G\", \"Position_GF\": \"Guard\"}, {\"Height\": 80.0, \"Weight\": 501.6, \"Position\": \"SF\", \"Position_GF\": \"Forward\"}, {\"Height\": 79.0, \"Weight\": 495.00000000000006, \"Position\": \"SF\", \"Position_GF\": \"Forward\"}, {\"Height\": 75.12700000000001, \"Weight\": 303.6, \"Position\": \"G\", \"Position_GF\": \"Guard\"}, {\"Height\": 79.982, \"Weight\": 224.4, \"Position\": \"GF\", \"Position_GF\": \"Guard\"}, {\"Height\": 80.0, \"Weight\": 495.00000000000006, \"Position\": \"SF\", \"Position_GF\": \"Forward\"}, {\"Height\": 78.0, \"Weight\": 477.40000000000003, \"Position\": \"G\", \"Position_GF\": \"Guard\"}, {\"Height\": 84.0, \"Weight\": 561.0, \"Position\": \"C\", \"Position_GF\": \"Forward\"}, {\"Height\": 79.0, \"Weight\": 462.00000000000006, \"Position\": \"GF\", \"Position_GF\": \"Guard\"}, {\"Height\": 83.922, \"Weight\": 264.0, \"Position\": \"C\", \"Position_GF\": \"Forward\"}, {\"Height\": 82.0, \"Weight\": 484.00000000000006, \"Position\": \"F\", \"Position_GF\": \"Forward\"}, {\"Height\": 82.0, \"Weight\": 532.4000000000001, \"Position\": \"C\", \"Position_GF\": \"Forward\"}, {\"Height\": 83.0, \"Weight\": 473.00000000000006, \"Position\": \"FC\", \"Position_GF\": \"Forward\"}, {\"Height\": 69.0, \"Weight\": 407.00000000000006, \"Position\": \"PG\", \"Position_GF\": \"Guard\"}, {\"Height\": 73.0, \"Weight\": 396.00000000000006, \"Position\": \"PG\", \"Position_GF\": \"Guard\"}, {\"Height\": 72.0, \"Weight\": 407.00000000000006, \"Position\": \"G\", \"Position_GF\": \"Guard\"}, {\"Height\": 78.0, \"Weight\": 495.00000000000006, \"Position\": \"SG\", \"Position_GF\": \"Guard\"}, {\"Height\": 83.0, \"Weight\": 506.00000000000006, \"Position\": \"C\", \"Position_GF\": \"Forward\"}, {\"Height\": 80.0, \"Weight\": 462.00000000000006, \"Position\": \"G\", \"Position_GF\": \"Guard\"}, {\"Height\": 83.0, \"Weight\": 569.8000000000001, \"Position\": \"C\", \"Position_GF\": \"Forward\"}, {\"Height\": 77.0, \"Weight\": 429.00000000000006, \"Position\": \"SG\", \"Position_GF\": \"Guard\"}, {\"Height\": 80.0, \"Weight\": 543.4000000000001, \"Position\": \"SF\", \"Position_GF\": \"Forward\"}, {\"Height\": 72.0, \"Weight\": 418.00000000000006, \"Position\": \"G\", \"Position_GF\": \"Guard\"}, {\"Height\": 77.112, \"Weight\": 352.00000000000006, \"Position\": \"SG\", \"Position_GF\": \"Guard\"}, {\"Height\": 81.0, \"Weight\": 572.0, \"Position\": \"C\", \"Position_GF\": \"Forward\"}, {\"Height\": 76.0, \"Weight\": 462.00000000000006, \"Position\": \"PG\", \"Position_GF\": \"Guard\"}, {\"Height\": 78.0, \"Weight\": 495.00000000000006, \"Position\": \"GF\", \"Position_GF\": \"Guard\"}, {\"Height\": 74.0, \"Weight\": 407.00000000000006, \"Position\": \"G\", \"Position_GF\": \"Guard\"}, {\"Height\": 82.0, \"Weight\": 539.0, \"Position\": \"FC\", \"Position_GF\": \"Forward\"}, {\"Height\": 76.0, \"Weight\": 451.00000000000006, \"Position\": \"SG\", \"Position_GF\": \"Guard\"}, {\"Height\": 82.0, \"Weight\": 528.0, \"Position\": \"C\", \"Position_GF\": \"Forward\"}, {\"Height\": 74.0, \"Weight\": 409.20000000000005, \"Position\": \"PG\", \"Position_GF\": \"Guard\"}, {\"Height\": 75.0, \"Weight\": 440.00000000000006, \"Position\": \"G\", \"Position_GF\": \"Guard\"}, {\"Height\": 83.0, \"Weight\": 517.0, \"Position\": \"FC\", \"Position_GF\": \"Forward\"}, {\"Height\": 78.0, \"Weight\": 479.6, \"Position\": \"SF\", \"Position_GF\": \"Forward\"}, {\"Height\": 79.194, \"Weight\": 231.00000000000003, \"Position\": \"GF\", \"Position_GF\": \"Guard\"}, {\"Height\": 75.0, \"Weight\": 418.00000000000006, \"Position\": \"SG\", \"Position_GF\": \"Guard\"}, {\"Height\": 79.0, \"Weight\": 528.0, \"Position\": \"SG\", \"Position_GF\": \"Guard\"}, {\"Height\": 83.922, \"Weight\": 248.60000000000002, \"Position\": \"C\", \"Position_GF\": \"Forward\"}, {\"Height\": 73.0, \"Weight\": 374.00000000000006, \"Position\": \"PG\", \"Position_GF\": \"Guard\"}, {\"Height\": 76.0, \"Weight\": 462.00000000000006, \"Position\": \"PG\", \"Position_GF\": \"Guard\"}, {\"Height\": 77.0, \"Weight\": 429.00000000000006, \"Position\": \"G\", \"Position_GF\": \"Guard\"}, {\"Height\": 79.0, \"Weight\": 462.00000000000006, \"Position\": \"GF\", \"Position_GF\": \"Guard\"}, {\"Height\": 81.0, \"Weight\": 495.00000000000006, \"Position\": \"PF\", \"Position_GF\": \"Forward\"}, {\"Height\": 78.0, \"Weight\": 440.00000000000006, \"Position\": \"SF\", \"Position_GF\": \"Forward\"}, {\"Height\": 81.0, \"Weight\": 528.0, \"Position\": \"PF\", \"Position_GF\": \"Forward\"}, {\"Height\": 86.0, \"Weight\": 495.00000000000006, \"Position\": \"C\", \"Position_GF\": \"Forward\"}, {\"Height\": 81.0, \"Weight\": 583.0, \"Position\": \"PF\", \"Position_GF\": \"Forward\"}, {\"Height\": 83.922, \"Weight\": 244.20000000000002, \"Position\": \"C\", \"Position_GF\": \"Forward\"}, {\"Height\": 79.09700000000001, \"Weight\": 367.40000000000003, \"Position\": \"F\", \"Position_GF\": \"Forward\"}, {\"Height\": 73.0, \"Weight\": 404.8, \"Position\": \"G\", \"Position_GF\": \"Guard\"}, {\"Height\": 80.0, \"Weight\": 501.6, \"Position\": \"F\", \"Position_GF\": \"Forward\"}, {\"Height\": 72.0, \"Weight\": 369.6, \"Position\": \"PG\", \"Position_GF\": \"Guard\"}, {\"Height\": 75.0, \"Weight\": 374.00000000000006, \"Position\": \"PG\", \"Position_GF\": \"Guard\"}, {\"Height\": 81.0, \"Weight\": 528.0, \"Position\": \"F\", \"Position_GF\": \"Forward\"}, {\"Height\": 81.0, \"Weight\": 528.0, \"Position\": \"SF\", \"Position_GF\": \"Forward\"}, {\"Height\": 83.0, \"Weight\": 528.0, \"Position\": \"PF\", \"Position_GF\": \"Forward\"}, {\"Height\": 73.0, \"Weight\": 396.00000000000006, \"Position\": \"PG\", \"Position_GF\": \"Guard\"}, {\"Height\": 82.0, \"Weight\": 552.2, \"Position\": \"FC\", \"Position_GF\": \"Forward\"}, {\"Height\": 79.0, \"Weight\": 437.8, \"Position\": \"SG\", \"Position_GF\": \"Guard\"}, {\"Height\": 84.0, \"Weight\": 539.0, \"Position\": \"C\", \"Position_GF\": \"Forward\"}, {\"Height\": 79.982, \"Weight\": 233.20000000000002, \"Position\": \"SF\", \"Position_GF\": \"Forward\"}, {\"Height\": 79.0, \"Weight\": 473.00000000000006, \"Position\": \"G\", \"Position_GF\": \"Guard\"}, {\"Height\": 78.0, \"Weight\": 466.40000000000003, \"Position\": \"SG\", \"Position_GF\": \"Guard\"}, {\"Height\": 87.074, \"Weight\": 239.8, \"Position\": \"FC\", \"Position_GF\": \"Forward\"}, {\"Height\": 81.0, \"Weight\": 528.0, \"Position\": \"FC\", \"Position_GF\": \"Forward\"}, {\"Height\": 73.0, \"Weight\": 431.20000000000005, \"Position\": \"PG\", \"Position_GF\": \"Guard\"}, {\"Height\": 75.0, \"Weight\": 424.6, \"Position\": \"G\", \"Position_GF\": \"Guard\"}, {\"Height\": 83.0, \"Weight\": 572.0, \"Position\": \"FC\", \"Position_GF\": \"Forward\"}, {\"Height\": 82.0, \"Weight\": 506.00000000000006, \"Position\": \"PF\", \"Position_GF\": \"Forward\"}, {\"Height\": 81.0, \"Weight\": 484.00000000000006, \"Position\": \"SF\", \"Position_GF\": \"Forward\"}, {\"Height\": 77.0, \"Weight\": 404.8, \"Position\": \"G\", \"Position_GF\": \"Guard\"}, {\"Height\": 78.0, \"Weight\": 550.0, \"Position\": \"F\", \"Position_GF\": \"Forward\"}, {\"Height\": 82.0, \"Weight\": 451.00000000000006, \"Position\": \"PF\", \"Position_GF\": \"Forward\"}, {\"Height\": 80.0, \"Weight\": 473.00000000000006, \"Position\": \"PF\", \"Position_GF\": \"Forward\"}, {\"Height\": 80.0, \"Weight\": 550.0, \"Position\": \"F\", \"Position_GF\": \"Forward\"}, {\"Height\": 79.0, \"Weight\": 462.00000000000006, \"Position\": \"SF\", \"Position_GF\": \"Forward\"}, {\"Height\": 72.89, \"Weight\": 173.8, \"Position\": \"G\", \"Position_GF\": \"Guard\"}, {\"Height\": 81.0, \"Weight\": 506.00000000000006, \"Position\": \"PF\", \"Position_GF\": \"Forward\"}, {\"Height\": 77.0, \"Weight\": 418.00000000000006, \"Position\": \"SG\", \"Position_GF\": \"Guard\"}, {\"Height\": 81.0, \"Weight\": 561.0, \"Position\": \"PG\", \"Position_GF\": \"Guard\"}, {\"Height\": 78.0, \"Weight\": 451.00000000000006, \"Position\": \"SG\", \"Position_GF\": \"Guard\"}, {\"Height\": 85.05199999999999, \"Weight\": 408.1, \"Position\": \"C\", \"Position_GF\": \"Forward\"}, {\"Height\": 83.0, \"Weight\": 528.0, \"Position\": \"FC\", \"Position_GF\": \"Forward\"}, {\"Height\": 83.0, \"Weight\": 528.0, \"Position\": \"C\", \"Position_GF\": \"Forward\"}, {\"Height\": 78.0, \"Weight\": 510.40000000000003, \"Position\": \"SF\", \"Position_GF\": \"Forward\"}, {\"Height\": 73.0, \"Weight\": 396.00000000000006, \"Position\": \"PG\", \"Position_GF\": \"Guard\"}, {\"Height\": 82.0, \"Weight\": 539.0, \"Position\": \"PF\", \"Position_GF\": \"Forward\"}, {\"Height\": 83.0, \"Weight\": 547.8000000000001, \"Position\": \"FC\", \"Position_GF\": \"Forward\"}, {\"Height\": 79.0, \"Weight\": 572.0, \"Position\": \"SF\", \"Position_GF\": \"Forward\"}, {\"Height\": 70.0, \"Weight\": 358.6, \"Position\": \"PG\", \"Position_GF\": \"Guard\"}, {\"Height\": 78.0, \"Weight\": 418.00000000000006, \"Position\": \"PG\", \"Position_GF\": \"Guard\"}, {\"Height\": 79.0, \"Weight\": 495.00000000000006, \"Position\": \"G-F\", \"Position_GF\": \"Guard\"}, {\"Height\": 78.0, \"Weight\": 473.00000000000006, \"Position\": \"SG\", \"Position_GF\": \"Guard\"}, {\"Height\": 78.0, \"Weight\": 484.00000000000006, \"Position\": \"G\", \"Position_GF\": \"Guard\"}, {\"Height\": 77.0, \"Weight\": 415.8, \"Position\": \"PG\", \"Position_GF\": \"Guard\"}, {\"Height\": 74.0, \"Weight\": 429.00000000000006, \"Position\": \"G\", \"Position_GF\": \"Guard\"}, {\"Height\": 74.0, \"Weight\": 413.6, \"Position\": \"G\", \"Position_GF\": \"Guard\"}, {\"Height\": 77.0, \"Weight\": 473.00000000000006, \"Position\": \"SG\", \"Position_GF\": \"Guard\"}, {\"Height\": 73.0, \"Weight\": 435.6, \"Position\": \"G\", \"Position_GF\": \"Guard\"}, {\"Height\": 75.0, \"Weight\": 407.00000000000006, \"Position\": \"G\", \"Position_GF\": \"Guard\"}, {\"Height\": 73.0, \"Weight\": 418.00000000000006, \"Position\": \"PG\", \"Position_GF\": \"Guard\"}, {\"Height\": 82.0, \"Weight\": 473.00000000000006, \"Position\": \"C\", \"Position_GF\": \"Forward\"}, {\"Height\": 69.0, \"Weight\": 396.00000000000006, \"Position\": \"G\", \"Position_GF\": \"Guard\"}, {\"Height\": 78.0, \"Weight\": 501.6, \"Position\": \"GF\", \"Position_GF\": \"Guard\"}, {\"Height\": 80.0, \"Weight\": 440.00000000000006, \"Position\": \"F\", \"Position_GF\": \"Forward\"}, {\"Height\": 81.952, \"Weight\": 248.60000000000002, \"Position\": \"C\", \"Position_GF\": \"Forward\"}, {\"Height\": 83.0, \"Weight\": 675.4000000000001, \"Position\": \"PF\", \"Position_GF\": \"Forward\"}, {\"Height\": 84.0, \"Weight\": 572.0, \"Position\": \"PF\", \"Position_GF\": \"Forward\"}, {\"Height\": 81.0, \"Weight\": 616.0, \"Position\": \"C\", \"Position_GF\": \"Forward\"}, {\"Height\": 81.0, \"Weight\": 473.00000000000006, \"Position\": \"PF\", \"Position_GF\": \"Forward\"}, {\"Height\": 81.0, \"Weight\": 495.00000000000006, \"Position\": \"PF\", \"Position_GF\": \"Forward\"}, {\"Height\": 84.0, \"Weight\": 528.0, \"Position\": \"C\", \"Position_GF\": \"Forward\"}, {\"Height\": 84.0, \"Weight\": 550.0, \"Position\": \"FC\", \"Position_GF\": \"Forward\"}, {\"Height\": 81.0, \"Weight\": 484.00000000000006, \"Position\": \"GF\", \"Position_GF\": \"Guard\"}, {\"Height\": 80.0, \"Weight\": 541.2, \"Position\": \"FC\", \"Position_GF\": \"Forward\"}, {\"Height\": 79.0, \"Weight\": 517.0, \"Position\": \"SF\", \"Position_GF\": \"Forward\"}, {\"Height\": 82.0, \"Weight\": 503.80000000000007, \"Position\": \"F\", \"Position_GF\": \"Forward\"}, {\"Height\": 79.0, \"Weight\": 429.00000000000006, \"Position\": \"PG\", \"Position_GF\": \"Guard\"}, {\"Height\": 81.0, \"Weight\": 462.00000000000006, \"Position\": \"C\", \"Position_GF\": \"Forward\"}, {\"Height\": 78.0, \"Weight\": 490.6, \"Position\": \"GF\", \"Position_GF\": \"Guard\"}, {\"Height\": 73.0, \"Weight\": 409.20000000000005, \"Position\": \"PG\", \"Position_GF\": \"Guard\"}, {\"Height\": 82.0, \"Weight\": 517.0, \"Position\": \"F\", \"Position_GF\": \"Forward\"}, {\"Height\": 83.0, \"Weight\": 506.00000000000006, \"Position\": \"FC\", \"Position_GF\": \"Forward\"}, {\"Height\": 77.0, \"Weight\": 451.00000000000006, \"Position\": \"SG\", \"Position_GF\": \"Guard\"}, {\"Height\": 75.0, \"Weight\": 457.6, \"Position\": \"G\", \"Position_GF\": \"Guard\"}, {\"Height\": 79.0, \"Weight\": 429.00000000000006, \"Position\": \"SF\", \"Position_GF\": \"Forward\"}, {\"Height\": 79.0, \"Weight\": 407.00000000000006, \"Position\": \"SG\", \"Position_GF\": \"Guard\"}, {\"Height\": 79.0, \"Weight\": 424.6, \"Position\": \"SG\", \"Position_GF\": \"Guard\"}, {\"Height\": 79.0, \"Weight\": 512.6, \"Position\": \"SF\", \"Position_GF\": \"Forward\"}, {\"Height\": 76.0, \"Weight\": 451.00000000000006, \"Position\": \"SG\", \"Position_GF\": \"Guard\"}, {\"Height\": 88.0, \"Weight\": 550.0, \"Position\": \"C\", \"Position_GF\": \"Forward\"}, {\"Height\": 84.0, \"Weight\": 506.00000000000006, \"Position\": \"C\", \"Position_GF\": \"Forward\"}, {\"Height\": 75.0, \"Weight\": 385.00000000000006, \"Position\": \"PG\", \"Position_GF\": \"Guard\"}, {\"Height\": 77.0, \"Weight\": 451.00000000000006, \"Position\": \"G\", \"Position_GF\": \"Guard\"}, {\"Height\": 78.0, \"Weight\": 407.00000000000006, \"Position\": \"SG\", \"Position_GF\": \"Guard\"}, {\"Height\": 83.0, \"Weight\": 506.00000000000006, \"Position\": \"C\", \"Position_GF\": \"Forward\"}, {\"Height\": 83.0, \"Weight\": 506.00000000000006, \"Position\": \"PF\", \"Position_GF\": \"Forward\"}, {\"Height\": 74.0, \"Weight\": 429.00000000000006, \"Position\": \"PG\", \"Position_GF\": \"Guard\"}, {\"Height\": 75.0, \"Weight\": 440.00000000000006, \"Position\": \"G\", \"Position_GF\": \"Guard\"}, {\"Height\": 75.0, \"Weight\": 407.00000000000006, \"Position\": \"G\", \"Position_GF\": \"Guard\"}, {\"Height\": 73.0, \"Weight\": 396.00000000000006, \"Position\": \"PG\", \"Position_GF\": \"Guard\"}, {\"Height\": 80.0, \"Weight\": 501.6, \"Position\": \"SF\", \"Position_GF\": \"Forward\"}, {\"Height\": 80.0, \"Weight\": 451.00000000000006, \"Position\": \"SF\", \"Position_GF\": \"Forward\"}, {\"Height\": 85.0, \"Weight\": 715.0000000000001, \"Position\": \"C\", \"Position_GF\": \"Forward\"}, {\"Height\": 81.0, \"Weight\": 495.00000000000006, \"Position\": \"F\", \"Position_GF\": \"Forward\"}, {\"Height\": 82.0, \"Weight\": 616.0, \"Position\": \"C\", \"Position_GF\": \"Forward\"}, {\"Height\": 79.0, \"Weight\": 501.6, \"Position\": \"F\", \"Position_GF\": \"Forward\"}, {\"Height\": 75.0, \"Weight\": 396.00000000000006, \"Position\": \"SG\", \"Position_GF\": \"Guard\"}, {\"Height\": 75.0, \"Weight\": 374.00000000000006, \"Position\": \"PG\", \"Position_GF\": \"Guard\"}, {\"Height\": 75.0, \"Weight\": 418.00000000000006, \"Position\": \"G\", \"Position_GF\": \"Guard\"}, {\"Height\": 80.0, \"Weight\": 484.00000000000006, \"Position\": \"GF\", \"Position_GF\": \"Guard\"}, {\"Height\": 74.0, \"Weight\": 396.00000000000006, \"Position\": \"G\", \"Position_GF\": \"Guard\"}, {\"Height\": 75.0, \"Weight\": 429.00000000000006, \"Position\": \"G\", \"Position_GF\": \"Guard\"}, {\"Height\": 75.0, \"Weight\": 391.6, \"Position\": \"G\", \"Position_GF\": \"Guard\"}, {\"Height\": 79.0, \"Weight\": 440.00000000000006, \"Position\": \"SG\", \"Position_GF\": \"Guard\"}, {\"Height\": 72.0, \"Weight\": 363.00000000000006, \"Position\": \"PG\", \"Position_GF\": \"Guard\"}, {\"Height\": 71.0, \"Weight\": 396.00000000000006, \"Position\": \"PG\", \"Position_GF\": \"Guard\"}, {\"Height\": 81.0, \"Weight\": 484.00000000000006, \"Position\": \"PF\", \"Position_GF\": \"Forward\"}, {\"Height\": 82.0, \"Weight\": 506.00000000000006, \"Position\": \"PF\", \"Position_GF\": \"Forward\"}, {\"Height\": 77.0, \"Weight\": 429.00000000000006, \"Position\": \"SG\", \"Position_GF\": \"Guard\"}, {\"Height\": 80.0, \"Weight\": 486.20000000000005, \"Position\": \"F\", \"Position_GF\": \"Forward\"}, {\"Height\": 83.0, \"Weight\": 550.0, \"Position\": \"FC\", \"Position_GF\": \"Forward\"}, {\"Height\": 72.0, \"Weight\": 385.00000000000006, \"Position\": \"PG\", \"Position_GF\": \"Guard\"}, {\"Height\": 81.164, \"Weight\": 235.4, \"Position\": \"F\", \"Position_GF\": \"Forward\"}, {\"Height\": 82.0, \"Weight\": 484.00000000000006, \"Position\": \"PF\", \"Position_GF\": \"Forward\"}, {\"Height\": 83.0, \"Weight\": 473.00000000000006, \"Position\": \"PF\", \"Position_GF\": \"Forward\"}, {\"Height\": 74.0, \"Weight\": 407.00000000000006, \"Position\": \"G\", \"Position_GF\": \"Guard\"}, {\"Height\": 80.0, \"Weight\": 462.00000000000006, \"Position\": \"GF\", \"Position_GF\": \"Guard\"}, {\"Height\": 71.0, \"Weight\": 429.00000000000006, \"Position\": \"PG\", \"Position_GF\": \"Guard\"}, {\"Height\": 77.0, \"Weight\": 407.00000000000006, \"Position\": \"G\", \"Position_GF\": \"Guard\"}, {\"Height\": 76.042, \"Weight\": 209.00000000000003, \"Position\": \"G\", \"Position_GF\": \"Guard\"}, {\"Height\": 78.0, \"Weight\": 484.00000000000006, \"Position\": \"SF\", \"Position_GF\": \"Forward\"}, {\"Height\": 85.0, \"Weight\": 572.0, \"Position\": \"C\", \"Position_GF\": \"Forward\"}, {\"Height\": 76.0, \"Weight\": 451.00000000000006, \"Position\": \"SG\", \"Position_GF\": \"Guard\"}, {\"Height\": 78.0, \"Weight\": 429.00000000000006, \"Position\": \"SG\", \"Position_GF\": \"Guard\"}, {\"Height\": 74.0, \"Weight\": 407.00000000000006, \"Position\": \"G\", \"Position_GF\": \"Guard\"}, {\"Height\": 79.0, \"Weight\": 451.00000000000006, \"Position\": \"PF\", \"Position_GF\": \"Forward\"}, {\"Height\": 90.0, \"Weight\": 682.0, \"Position\": \"C\", \"Position_GF\": \"Forward\"}, {\"Height\": 81.0, \"Weight\": 572.0, \"Position\": \"PF\", \"Position_GF\": \"Forward\"}, {\"Height\": 87.0, \"Weight\": 572.0, \"Position\": \"C\", \"Position_GF\": \"Forward\"}]}}, {\"mode\": \"vega-lite\"});\n",
       "</script>"
      ],
      "text/plain": [
       "alt.Chart(...)"
      ]
     },
     "execution_count": 16,
     "metadata": {},
     "output_type": "execute_result"
    }
   ],
   "source": [
    "# Version A\n",
    "chart = alt.Chart(nba).mark_bar().encode(\n",
    "    x=alt.X('Position_GF', axis=alt.Axis(title='Position')),\n",
    "    y=alt.Y('Weight')\n",
    ")\n",
    "chart"
   ]
  },
  {
   "cell_type": "markdown",
   "metadata": {},
   "source": [
    "#### Version A\n",
    "We find that while Forwards weigh more than Guards, Guards are taller than Forwards."
   ]
  },
  {
   "cell_type": "markdown",
   "metadata": {},
   "source": [
    "# Different Guard positions\n",
    "\n",
    "Among the Guard positions, there are two specialties:  Point Guard (PG) and Shooting Guard (SG).  We are interested in studying whether these positions also have a height difference.\n",
    "\n",
    "The sample mean for each position is given below."
   ]
  },
  {
   "cell_type": "code",
   "execution_count": 17,
   "metadata": {},
   "outputs": [
    {
     "data": {
      "text/html": [
       "<div>\n",
       "<style scoped>\n",
       "    .dataframe tbody tr th:only-of-type {\n",
       "        vertical-align: middle;\n",
       "    }\n",
       "\n",
       "    .dataframe tbody tr th {\n",
       "        vertical-align: top;\n",
       "    }\n",
       "\n",
       "    .dataframe thead th {\n",
       "        text-align: right;\n",
       "    }\n",
       "</style>\n",
       "<table border=\"1\" class=\"dataframe\">\n",
       "  <thead>\n",
       "    <tr style=\"text-align: right;\">\n",
       "      <th></th>\n",
       "      <th>Height</th>\n",
       "    </tr>\n",
       "    <tr>\n",
       "      <th>Position</th>\n",
       "      <th></th>\n",
       "    </tr>\n",
       "  </thead>\n",
       "  <tbody>\n",
       "    <tr>\n",
       "      <th>PG</th>\n",
       "      <td>73.848485</td>\n",
       "    </tr>\n",
       "    <tr>\n",
       "      <th>SG</th>\n",
       "      <td>77.158176</td>\n",
       "    </tr>\n",
       "  </tbody>\n",
       "</table>\n",
       "</div>"
      ],
      "text/plain": [
       "             Height\n",
       "Position           \n",
       "PG        73.848485\n",
       "SG        77.158176"
      ]
     },
     "execution_count": 17,
     "metadata": {},
     "output_type": "execute_result"
    }
   ],
   "source": [
    "nba[(nba['Position'] == 'PG') | (nba['Position'] == 'SG')].groupby('Position').agg(\n",
    "    Height=('Height', 'mean')\n",
    ")"
   ]
  },
  {
   "cell_type": "markdown",
   "metadata": {},
   "source": [
    "We will conduct a t-test at the 0.05 level."
   ]
  },
  {
   "cell_type": "markdown",
   "metadata": {},
   "source": [
    "#### Version: A\n",
    "\n",
    "Since it appears shooting guards are taller, our null hypothesis is that the true mean height of shooting guards is greater than the true mean height of point guards."
   ]
  },
  {
   "cell_type": "code",
   "execution_count": 35,
   "metadata": {},
   "outputs": [
    {
     "name": "stdout",
     "output_type": "stream",
     "text": [
      "We obtain a t statistic of 65.0. This yields a p-value of 2.478455178844141e-09.\n"
     ]
    }
   ],
   "source": [
    "# Version A\n",
    "my_test = ttest_ind(\n",
    "    x1 = nba[(nba['Position'] == 'PG')]['Height'],\n",
    "    x2 = nba[(nba['Position'] == 'SG')]['Height'],\n",
    "    alternative = 'smaller'\n",
    ")\n",
    "t_stat = my_test[0]\n",
    "p_value = my_test[1]\n",
    "deg_free = my_test[2]\n",
    "print(\"We obtain a t statistic of {t_stat}. This yields a p-value of {p_value}.\".format(t_stat = deg_free, p_value = p_value))"
   ]
  },
  {
   "cell_type": "code",
   "execution_count": 37,
   "metadata": {},
   "outputs": [
    {
     "name": "stdout",
     "output_type": "stream",
     "text": [
      "We obtain a t statistic of 65.0. This yields a p-value of 4.956910357688282e-09.\n"
     ]
    }
   ],
   "source": [
    "# Version B & C\n",
    "my_test = ttest_ind(\n",
    "    x1 = nba[(nba['Position'] == 'PG')]['Height'],\n",
    "    x2 = nba[(nba['Position'] == 'SG')]['Height'],\n",
    "    alternative = 'two-sided'\n",
    ")\n",
    "t_stat = my_test[0]\n",
    "p_value = my_test[1]\n",
    "deg_free = my_test[2]\n",
    "print(\"We obtain a t statistic of {t_stat}. This yields a p-value of {p_value}.\".format(t_stat = deg_free, p_value = p_value))"
   ]
  },
  {
   "cell_type": "markdown",
   "metadata": {},
   "source": [
    "#### Version A & B\n",
    "We fail to reject the null hypothesis, and find that there is no detectable height difference between Point Guards and Shooting Guards."
   ]
  },
  {
   "cell_type": "markdown",
   "metadata": {},
   "source": [
    "#### Version C\n",
    "We reject the null hypothesis, and conclude that there is strong evidence that Shooting Guards tend to be taller than Point Guards."
   ]
  },
  {
   "cell_type": "code",
   "execution_count": null,
   "metadata": {},
   "outputs": [],
   "source": []
  }
 ],
 "metadata": {
  "kernelspec": {
   "display_name": "Python 3",
   "language": "python",
   "name": "python3"
  },
  "language_info": {
   "codemirror_mode": {
    "name": "ipython",
    "version": 3
   },
   "file_extension": ".py",
   "mimetype": "text/x-python",
   "name": "python",
   "nbconvert_exporter": "python",
   "pygments_lexer": "ipython3",
   "version": "3.7.6"
  }
 },
 "nbformat": 4,
 "nbformat_minor": 4
}
