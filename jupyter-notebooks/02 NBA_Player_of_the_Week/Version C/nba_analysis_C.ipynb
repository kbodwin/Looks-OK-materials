{
 "cells": [
  {
   "cell_type": "code",
   "execution_count": 2,
   "metadata": {},
   "outputs": [],
   "source": [
    "import pandas as pd\n",
    "import numpy as np\n",
    "from plotnine import *\n",
    "from statsmodels.stats.weightstats import ttest_ind"
   ]
  },
  {
   "cell_type": "markdown",
   "metadata": {},
   "source": [
    "## Context\n",
    "\n",
    "In the National Basketball Association (NBA), games are played between Fall and Spring each year, ending with a set of playoff games and a championship.  One \"season\" of games thus spans two calendar years. For example, the 2019-2020 season began on October 22, 2019 and will end on April 15, 2020. The playoffs will begin on April 18, 2020, and will end with the NBA Finals in June 2020.\n",
    "\n",
    "Teams in the NBA are organized into two Conferences:  East and West.  From time to time, as teams change locations or new teams are added, the conferences change.\n",
    "\n",
    "Players join the NBA by being *drafted*, typically when they are 18 years old."
   ]
  },
  {
   "cell_type": "markdown",
   "metadata": {},
   "source": [
    "## This dataset\n",
    "\n",
    "The dataset in this exam contains information about the \"Player of the Week\", awarded each week to the player(s) who performed the best during that week's games. \n",
    "\n",
    "Each observation in this dataset represents an instance of a certain player being awarded Player of the Week.\n",
    "\n",
    "The variables in this dataset are:\n",
    "\n",
    "![](../documentation.png)"
   ]
  },
  {
   "cell_type": "code",
   "execution_count": 3,
   "metadata": {},
   "outputs": [],
   "source": [
    "nba = pd.read_csv('../NBA_player_of_the_week.csv')"
   ]
  },
  {
   "cell_type": "markdown",
   "metadata": {},
   "source": [
    "# Data Cleaning and Adjusting\n",
    "\n",
    "## Heights and Weights\n",
    "\n",
    "Notice that the `Height` variable is sometimes recorded in inches (\"5-9\"), and sometimes recorded in centimeters (\"221cm\").  Similarly, the `Weight` variable is in pounds by default, but sometimes appears in kilograms. \n",
    "\n",
    "We need to fix these variables to be consistently in inches and in pounds."
   ]
  },
  {
   "cell_type": "code",
   "execution_count": 4,
   "metadata": {},
   "outputs": [],
   "source": [
    "def fix_height(height):\n",
    "    \n",
    "    if 'cm' in height: #swap cm to inches\n",
    "        return int(height.replace('cm',''))*0.394\n",
    "    else: #swap feet-inches to inches\n",
    "        values = height.split('-')\n",
    "        return int(values[0])*12+int(values[1])\n",
    "    \n",
    "def fix_weight(weight):\n",
    "    if 'kg' in weight: #swap to pounds\n",
    "        return int(weight.replace('kg',''))*2.2\n",
    "    else:\n",
    "        return int(weight)"
   ]
  },
  {
   "cell_type": "code",
   "execution_count": 5,
   "metadata": {},
   "outputs": [],
   "source": [
    "nba = nba.assign(\n",
    "    Height = nba['Height'].apply(fix_height),\n",
    "    Weight = nba['Weight'].apply(fix_weight)\n",
    ")"
   ]
  },
  {
   "cell_type": "markdown",
   "metadata": {},
   "source": [
    "# Player summaries\n",
    "\n",
    "Number of unique players who have won \"Player of the Week\" in the timespan covered by this dataset:"
   ]
  },
  {
   "cell_type": "code",
   "execution_count": 6,
   "metadata": {},
   "outputs": [
    {
     "data": {
      "text/plain": [
       "274"
      ]
     },
     "execution_count": 6,
     "metadata": {},
     "output_type": "execute_result"
    }
   ],
   "source": [
    "len(nba['Player'].unique())"
   ]
  },
  {
   "cell_type": "markdown",
   "metadata": {},
   "source": [
    "The teams that have had a player win the award the most times are:"
   ]
  },
  {
   "cell_type": "code",
   "execution_count": 7,
   "metadata": {},
   "outputs": [
    {
     "data": {
      "text/plain": [
       "Los Angeles Lakers     71\n",
       "San Antonio Spurs      61\n",
       "Cleveland Cavaliers    59\n",
       "Name: Team, dtype: int64"
      ]
     },
     "execution_count": 7,
     "metadata": {},
     "output_type": "execute_result"
    }
   ],
   "source": [
    "nba['Team'].value_counts().nlargest(3)"
   ]
  },
  {
   "cell_type": "code",
   "execution_count": 8,
   "metadata": {},
   "outputs": [
    {
     "data": {
      "text/plain": [
       "LeBron James    61\n",
       "Kobe Bryant     33\n",
       "Kevin Durant    26\n",
       "Name: Player, dtype: int64"
      ]
     },
     "execution_count": 8,
     "metadata": {},
     "output_type": "execute_result"
    }
   ],
   "source": [
    "nba['Player'].value_counts().nlargest(3)"
   ]
  },
  {
   "cell_type": "markdown",
   "metadata": {},
   "source": [
    "# Positions and size\n",
    "\n",
    "Basketball players play in \"guard\" positions (PG, SG, G) or \"forward\" positions (F, C, F-C, FC, G-F, GF, PF, SF).  It is generally expected that forwards are much taller than guards.  We will use the players in this dataset to analyze size differences between these positions."
   ]
  },
  {
   "cell_type": "markdown",
   "metadata": {},
   "source": [
    "## Unique players\n",
    "\n",
    "We need to narrow down the dataset so that each unique player only appears once.  Since heights and weights are sometimes changing over the years, we will use the median measurement for each unique player."
   ]
  },
  {
   "cell_type": "code",
   "execution_count": 9,
   "metadata": {},
   "outputs": [],
   "source": [
    "nba = nba.groupby('Player').agg(\n",
    "    Height=('Height', 'median'),\n",
    "    Weight=('Weight', 'median'),\n",
    "    Position=('Position', 'first')\n",
    ")"
   ]
  },
  {
   "cell_type": "markdown",
   "metadata": {},
   "source": [
    "## Refactoring position variable\n",
    "\n",
    "We will create a new variable that identifies each player as simply a Guard or a Forward."
   ]
  },
  {
   "cell_type": "code",
   "execution_count": 10,
   "metadata": {},
   "outputs": [
    {
     "data": {
      "text/html": [
       "<div>\n",
       "<style scoped>\n",
       "    .dataframe tbody tr th:only-of-type {\n",
       "        vertical-align: middle;\n",
       "    }\n",
       "\n",
       "    .dataframe tbody tr th {\n",
       "        vertical-align: top;\n",
       "    }\n",
       "\n",
       "    .dataframe thead th {\n",
       "        text-align: right;\n",
       "    }\n",
       "</style>\n",
       "<table border=\"1\" class=\"dataframe\">\n",
       "  <thead>\n",
       "    <tr style=\"text-align: right;\">\n",
       "      <th></th>\n",
       "      <th>Height</th>\n",
       "      <th>Weight</th>\n",
       "      <th>Position</th>\n",
       "      <th>Position_GF</th>\n",
       "    </tr>\n",
       "    <tr>\n",
       "      <th>Player</th>\n",
       "      <th></th>\n",
       "      <th></th>\n",
       "      <th></th>\n",
       "      <th></th>\n",
       "    </tr>\n",
       "  </thead>\n",
       "  <tbody>\n",
       "    <tr>\n",
       "      <th>Aaron McKie</th>\n",
       "      <td>77.0</td>\n",
       "      <td>209.0</td>\n",
       "      <td>G</td>\n",
       "      <td>Guard</td>\n",
       "    </tr>\n",
       "    <tr>\n",
       "      <th>Adrian Dantley</th>\n",
       "      <td>77.0</td>\n",
       "      <td>208.0</td>\n",
       "      <td>SF</td>\n",
       "      <td>Forward</td>\n",
       "    </tr>\n",
       "    <tr>\n",
       "      <th>Al Harrington</th>\n",
       "      <td>81.0</td>\n",
       "      <td>245.0</td>\n",
       "      <td>F</td>\n",
       "      <td>Forward</td>\n",
       "    </tr>\n",
       "    <tr>\n",
       "      <th>Al Horford</th>\n",
       "      <td>82.0</td>\n",
       "      <td>245.0</td>\n",
       "      <td>FC</td>\n",
       "      <td>Forward</td>\n",
       "    </tr>\n",
       "    <tr>\n",
       "      <th>Al Jefferson</th>\n",
       "      <td>82.0</td>\n",
       "      <td>289.0</td>\n",
       "      <td>FC</td>\n",
       "      <td>Forward</td>\n",
       "    </tr>\n",
       "    <tr>\n",
       "      <th>...</th>\n",
       "      <td>...</td>\n",
       "      <td>...</td>\n",
       "      <td>...</td>\n",
       "      <td>...</td>\n",
       "    </tr>\n",
       "    <tr>\n",
       "      <th>World B. Free</th>\n",
       "      <td>74.0</td>\n",
       "      <td>185.0</td>\n",
       "      <td>G</td>\n",
       "      <td>Guard</td>\n",
       "    </tr>\n",
       "    <tr>\n",
       "      <th>Xavier McDaniel</th>\n",
       "      <td>79.0</td>\n",
       "      <td>205.0</td>\n",
       "      <td>PF</td>\n",
       "      <td>Forward</td>\n",
       "    </tr>\n",
       "    <tr>\n",
       "      <th>Yao Ming</th>\n",
       "      <td>90.0</td>\n",
       "      <td>310.0</td>\n",
       "      <td>C</td>\n",
       "      <td>Forward</td>\n",
       "    </tr>\n",
       "    <tr>\n",
       "      <th>Zach Randolph</th>\n",
       "      <td>81.0</td>\n",
       "      <td>260.0</td>\n",
       "      <td>PF</td>\n",
       "      <td>Forward</td>\n",
       "    </tr>\n",
       "    <tr>\n",
       "      <th>Zydrunas Ilgauskas</th>\n",
       "      <td>87.0</td>\n",
       "      <td>260.0</td>\n",
       "      <td>C</td>\n",
       "      <td>Forward</td>\n",
       "    </tr>\n",
       "  </tbody>\n",
       "</table>\n",
       "<p>274 rows × 4 columns</p>\n",
       "</div>"
      ],
      "text/plain": [
       "                    Height  Weight Position Position_GF\n",
       "Player                                                 \n",
       "Aaron McKie           77.0   209.0        G       Guard\n",
       "Adrian Dantley        77.0   208.0       SF     Forward\n",
       "Al Harrington         81.0   245.0        F     Forward\n",
       "Al Horford            82.0   245.0       FC     Forward\n",
       "Al Jefferson          82.0   289.0       FC     Forward\n",
       "...                    ...     ...      ...         ...\n",
       "World B. Free         74.0   185.0        G       Guard\n",
       "Xavier McDaniel       79.0   205.0       PF     Forward\n",
       "Yao Ming              90.0   310.0        C     Forward\n",
       "Zach Randolph         81.0   260.0       PF     Forward\n",
       "Zydrunas Ilgauskas    87.0   260.0        C     Forward\n",
       "\n",
       "[274 rows x 4 columns]"
      ]
     },
     "execution_count": 10,
     "metadata": {},
     "output_type": "execute_result"
    }
   ],
   "source": [
    "conditions = [\n",
    "    nba['Position'].str.contains('PG|SG|G'),\n",
    "    nba['Position'].str.contains('F|C|F-C|FC|G-F|GF|PF|SF'),\n",
    "]\n",
    "\n",
    "choices = [\n",
    "    'Guard',\n",
    "    'Forward'\n",
    "]\n",
    "\n",
    "nba = nba.assign(\n",
    "    Position_GF = np.select(conditions, choices, None)\n",
    ")\n",
    "nba"
   ]
  },
  {
   "cell_type": "markdown",
   "metadata": {},
   "source": [
    "## Comparing Heights\n",
    "\n",
    "The following plots show the heights and weights of players, separated by position."
   ]
  },
  {
   "cell_type": "code",
   "execution_count": 11,
   "metadata": {},
   "outputs": [
    {
     "data": {
      "image/png": "[encoded data removed]",
      "text/plain": [
       "<Figure size 640x480 with 1 Axes>"
      ]
     },
     "metadata": {},
     "output_type": "display_data"
    },
    {
     "data": {
      "image/png": "[encoded data removed]",
      "text/plain": [
       "<Figure size 640x480 with 1 Axes>"
      ]
     },
     "metadata": {},
     "output_type": "display_data"
    },
    {
     "data": {
      "text/plain": [
       "[<ggplot: (8791051606945)>, <ggplot: (8791051607009)>]"
      ]
     },
     "metadata": {},
     "output_type": "display_data"
    }
   ],
   "source": [
    "heights = (ggplot(nba, aes(x='Position_GF', y='Height'))\n",
    "+ geom_boxplot()\n",
    "+ xlab('Position'))\n",
    "\n",
    "weights = (ggplot(nba, aes(x='Position_GF', y='Weight'))\n",
    "+ geom_boxplot()\n",
    "+ xlab('Position'))\n",
    "\n",
    "display([heights, weights])"
   ]
  },
  {
   "cell_type": "markdown",
   "metadata": {},
   "source": [
    "It is clear from these boxplots that Forwards tend to be taller and weight more than Guards.  \n",
    "\n",
    "It appears from the plots that the Forwards in the dataset have a median height of about 81 inches, while Guards have a median height of 75.3 inches. Forwards have a median weight of about 245 pounds, while Guards have a median weight of 200 pounds."
   ]
  },
  {
   "cell_type": "markdown",
   "metadata": {},
   "source": [
    "# Different Guard positions\n",
    "\n",
    "Among the Guard positions, there are two specialties:  Point Guard (PG) and Shooting Guard (SG).  We are interested in studying whether these positions also have a height difference.\n",
    "\n",
    "The sample mean for each position is given below."
   ]
  },
  {
   "cell_type": "code",
   "execution_count": 12,
   "metadata": {},
   "outputs": [
    {
     "data": {
      "text/html": [
       "<div>\n",
       "<style scoped>\n",
       "    .dataframe tbody tr th:only-of-type {\n",
       "        vertical-align: middle;\n",
       "    }\n",
       "\n",
       "    .dataframe tbody tr th {\n",
       "        vertical-align: top;\n",
       "    }\n",
       "\n",
       "    .dataframe thead th {\n",
       "        text-align: right;\n",
       "    }\n",
       "</style>\n",
       "<table border=\"1\" class=\"dataframe\">\n",
       "  <thead>\n",
       "    <tr style=\"text-align: right;\">\n",
       "      <th></th>\n",
       "      <th>Height</th>\n",
       "    </tr>\n",
       "    <tr>\n",
       "      <th>Position</th>\n",
       "      <th></th>\n",
       "    </tr>\n",
       "  </thead>\n",
       "  <tbody>\n",
       "    <tr>\n",
       "      <th>PG</th>\n",
       "      <td>73.848485</td>\n",
       "    </tr>\n",
       "    <tr>\n",
       "      <th>SG</th>\n",
       "      <td>77.158176</td>\n",
       "    </tr>\n",
       "  </tbody>\n",
       "</table>\n",
       "</div>"
      ],
      "text/plain": [
       "             Height\n",
       "Position           \n",
       "PG        73.848485\n",
       "SG        77.158176"
      ]
     },
     "execution_count": 12,
     "metadata": {},
     "output_type": "execute_result"
    }
   ],
   "source": [
    "nba[(nba['Position'] == 'PG') | (nba['Position'] == 'SG')].groupby('Position').agg(\n",
    "    Height=('Height', 'mean')\n",
    ")"
   ]
  },
  {
   "cell_type": "markdown",
   "metadata": {},
   "source": [
    "We will conduct a t-test at the 0.05 level."
   ]
  },
  {
   "cell_type": "code",
   "execution_count": 13,
   "metadata": {},
   "outputs": [
    {
     "name": "stdout",
     "output_type": "stream",
     "text": [
      "We obtain a t statistic of -6.741309996911676. This yields a p-value of 4.956910357688282e-09.\n"
     ]
    }
   ],
   "source": [
    "my_test = ttest_ind(\n",
    "    x1 = nba[(nba['Position'] == 'PG')]['Height'],\n",
    "    x2 = nba[(nba['Position'] == 'SG')]['Height'],\n",
    "    alternative = 'two-sided'\n",
    ")\n",
    "t_stat = my_test[0]\n",
    "p_value = my_test[1]\n",
    "deg_free = my_test[2]\n",
    "print(\"We obtain a t statistic of {t_stat}. This yields a p-value of {p_value}.\".format(t_stat = t_stat, p_value = p_value))"
   ]
  },
  {
   "cell_type": "markdown",
   "metadata": {},
   "source": [
    "We reject the null hypothesis, and conclude that there is strong evidence that Shooting Guards tend to be taller than Point Guards."
   ]
  }
 ],
 "metadata": {
  "kernelspec": {
   "display_name": "Python 3",
   "language": "python",
   "name": "python3"
  },
  "language_info": {
   "codemirror_mode": {
    "name": "ipython",
    "version": 3
   },
   "file_extension": ".py",
   "mimetype": "text/x-python",
   "name": "python",
   "nbconvert_exporter": "python",
   "pygments_lexer": "ipython3",
   "version": "3.7.6"
  }
 },
 "nbformat": 4,
 "nbformat_minor": 4
}
