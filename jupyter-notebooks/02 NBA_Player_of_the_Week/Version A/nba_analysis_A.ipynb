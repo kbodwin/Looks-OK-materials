{
 "cells": [
  {
   "cell_type": "code",
   "execution_count": null,
   "metadata": {},
   "outputs": [],
   "source": [
    "import pandas as pd\n",
    "import numpy as np\n",
    "from plotnine import *\n",
    "from statsmodels.stats.weightstats import ttest_ind"
   ]
  },
  {
   "cell_type": "markdown",
   "metadata": {},
   "source": [
    "## Context\n",
    "\n",
    "In the National Basketball Association (NBA), games are played between Fall and Spring each year, ending with a set of playoff games and a championship.  One \"season\" of games thus spans two calendar years. For example, the 2019-2020 season began on October 22, 2019 and will end on April 15, 2020. The playoffs will begin on April 18, 2020, and will end with the NBA Finals in June 2020.\n",
    "\n",
    "Teams in the NBA are organized into two Conferences:  East and West.  From time to time, as teams change locations or new teams are added, the conferences change.\n",
    "\n",
    "Players join the NBA by being *drafted*, typically when they are 18 years old."
   ]
  },
  {
   "cell_type": "markdown",
   "metadata": {},
   "source": [
    "## This dataset\n",
    "\n",
    "The dataset in this exam contains information about the \"Player of the Week\", awarded each week to the player(s) who performed the best during that week's games. \n",
    "\n",
    "Each observation in this dataset represents an instance of a certain player being awarded Player of the Week.\n",
    "\n",
    "The variables in this dataset are:\n",
    "\n",
    "![](../documentation.png)"
   ]
  },
  {
   "cell_type": "code",
   "execution_count": null,
   "metadata": {},
   "outputs": [],
   "source": [
    "nba = pd.read_csv('../NBA_player_of_the_week.csv')"
   ]
  },
  {
   "cell_type": "markdown",
   "metadata": {},
   "source": [
    "# Data Cleaning and Adjusting\n",
    "\n",
    "## Heights and Weights\n",
    "\n",
    "Notice that the `Height` variable sometimes has numbers, and sometimes has the letters \"cm\" after it.  Similarly, the `Weight` variable sometimes has the letters \"kg\" after it. We need to fix this to make theses variables numeric."
   ]
  },
  {
   "cell_type": "code",
   "execution_count": null,
   "metadata": {},
   "outputs": [],
   "source": [
    "nba = nba.assign(\n",
    "    Height = pd.to_numeric(nba['Height'].str.replace('cm','').str.replace('-[0-9]*','')),\n",
    "    Weight = pd.to_numeric(nba['Weight'].str.replace('kg',''))\n",
    ")\n",
    "nba"
   ]
  },
  {
   "cell_type": "markdown",
   "metadata": {},
   "source": [
    "# Player summaries\n",
    "\n",
    "Number of unique players who have won \"Player of the Week\" in the timespan covered by this dataset:"
   ]
  },
  {
   "cell_type": "code",
   "execution_count": null,
   "metadata": {},
   "outputs": [],
   "source": [
    "len(nba['Player'].unique())"
   ]
  },
  {
   "cell_type": "markdown",
   "metadata": {},
   "source": [
    "The teams that have had a player win the award the most times are:"
   ]
  },
  {
   "cell_type": "code",
   "execution_count": null,
   "metadata": {},
   "outputs": [],
   "source": [
    "nba['Team'].value_counts().nlargest(3)"
   ]
  },
  {
   "cell_type": "markdown",
   "metadata": {},
   "source": [
    "The players that have won the Player of the Week Award the most times are:"
   ]
  },
  {
   "cell_type": "code",
   "execution_count": null,
   "metadata": {},
   "outputs": [],
   "source": [
    "nba['Player'].value_counts().nlargest(3)"
   ]
  },
  {
   "cell_type": "markdown",
   "metadata": {},
   "source": [
    "# Positions and size\n",
    "\n",
    "Basketball players play in \"guard\" positions (PG, SG, G) or \"forward\" positions (F, C, F-C, FC, G-F, GF, PF, SF).  It is generally expected that forwards are much taller than guards.  We will use the players in this dataset to analyze size differences between these positions."
   ]
  },
  {
   "cell_type": "markdown",
   "metadata": {},
   "source": [
    "## Unique players\n",
    "\n",
    "We need to narrow down the dataset so that each unique player only appears once.  Since heights and weights are sometimes changing over the years, we will use the median measurement for each unique player."
   ]
  },
  {
   "cell_type": "markdown",
   "metadata": {},
   "source": [
    "## Refactoring position variable\n",
    "\n",
    "We will create a new variable that identifies each player as simply a Guard or a Forward."
   ]
  },
  {
   "cell_type": "code",
   "execution_count": null,
   "metadata": {},
   "outputs": [],
   "source": [
    "conditions = [\n",
    "    nba['Position'].str.contains('G'),\n",
    "    True\n",
    "]\n",
    "\n",
    "choices = [\n",
    "    'Guard',\n",
    "    'Forward'\n",
    "]\n",
    "\n",
    "nba = nba.assign(\n",
    "    Position_GF = np.select(conditions, choices)\n",
    ")"
   ]
  },
  {
   "cell_type": "markdown",
   "metadata": {},
   "source": [
    "## Comparing Heights\n",
    "\n",
    "The following plots show the heights and weights of players, separated by position."
   ]
  },
  {
   "cell_type": "code",
   "execution_count": null,
   "metadata": {},
   "outputs": [],
   "source": [
    "heights = (ggplot(nba, aes(x = 'Position_GF', y = 'Height'))\n",
    "          + geom_col()\n",
    "          + xlab('Position'))\n",
    "\n",
    "weights = (ggplot(nba, aes(x = 'Position_GF', y = 'Weight'))\n",
    "          + geom_col()\n",
    "          + xlab('Position'))\n",
    "\n",
    "display([heights, weights])"
   ]
  },
  {
   "cell_type": "markdown",
   "metadata": {},
   "source": [
    "We find that while Forwards weigh more than Guards, Guards are taller than Forwards."
   ]
  },
  {
   "cell_type": "markdown",
   "metadata": {},
   "source": [
    "# Different Guard positions\n",
    "\n",
    "Among the Guard positions, there are two specialties:  Point Guard (PG) and Shooting Guard (SG).  We are interested in studying whether these positions also have a height difference.\n",
    "\n",
    "The sample mean for each position is given below."
   ]
  },
  {
   "cell_type": "code",
   "execution_count": null,
   "metadata": {},
   "outputs": [],
   "source": [
    "nba[(nba['Position'] == 'PG') | (nba['Position'] == 'SG')].groupby('Position').agg(\n",
    "    Height=('Height', 'mean')\n",
    ")"
   ]
  },
  {
   "cell_type": "markdown",
   "metadata": {},
   "source": [
    "We will conduct a t-test at the 0.05 level.\n",
    "\n",
    "\n",
    "Since it appears shooting guards are taller, our null hypothesis is that the true mean height of shooting guards is greater than the true mean height of point guards."
   ]
  },
  {
   "cell_type": "code",
   "execution_count": null,
   "metadata": {},
   "outputs": [],
   "source": [
    "my_test = ttest_ind(\n",
    "    x1 = nba[(nba['Position'] == 'PG')]['Height'],\n",
    "    x2 = nba[(nba['Position'] == 'SG')]['Height'],\n",
    "    alternative = 'smaller'\n",
    ")\n",
    "t_stat = my_test[0]\n",
    "p_value = my_test[1]\n",
    "deg_free = my_test[2]\n",
    "print(\"We obtain a t statistic of {t_stat}. This yields a p-value of {p_value}.\".format(t_stat = deg_free, p_value = p_value))"
   ]
  },
  {
   "cell_type": "markdown",
   "metadata": {},
   "source": [
    "We fail to reject the null hypothesis, and find that there is no detectable height difference between Point Guards and Shooting Guards."
   ]
  }
 ],
 "metadata": {
  "kernelspec": {
   "display_name": "Python 3",
   "language": "python",
   "name": "python3"
  },
  "language_info": {
   "codemirror_mode": {
    "name": "ipython",
    "version": 3
   },
   "file_extension": ".py",
   "mimetype": "text/x-python",
   "name": "python",
   "nbconvert_exporter": "python",
   "pygments_lexer": "ipython3",
   "version": "3.7.6"
  }
 },
 "nbformat": 4,
 "nbformat_minor": 4
}
